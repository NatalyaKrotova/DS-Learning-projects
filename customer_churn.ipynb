{
 "cells": [
  {
   "cell_type": "markdown",
   "metadata": {},
   "source": [
    " <font size=\"6\"><p style=\"text-align:center\"><b> Постройка модели для прогноза оттока клиентов банка \"Бета-банк\" </b></p></font>"
   ]
  },
  {
   "cell_type": "markdown",
   "metadata": {},
   "source": [
    "<div class=\"alert alert-dan\n",
    "            ger\">\n",
    "<font size=\"4\"><b>План:</b></font>\n",
    "    <br /> \n",
    "    <font size=\"3\", color = \"black\">\n",
    "<br />\n",
    "\n",
    "- В нашем распоряжении данные о поведении клиентов, которые уже расторгли договор с банком.  \n",
    "        \n",
    "- Обработаем данные и построим модель, которая даст прогноз о возможном уходе клиента.\n",
    "        \n",
    "- Это позволит сделать ставку на сохранение старых клиентов.\n",
    "\n",
    "Источник данных: [https://www.kaggle.com/barelydedicated/bank-customer-churn-modeling](https://www.kaggle.com/barelydedicated/bank-customer-churn-modeling)"
   ]
  },
  {
   "cell_type": "markdown",
   "metadata": {},
   "source": [
    "<font size=\"5\"><p style=\"text-align:center\"><b> ***Шаг 1. Обзор и предобработка данных*** </b></p></font>"
   ]
  },
  {
   "cell_type": "code",
   "execution_count": null,
   "metadata": {
    "scrolled": false
   },
   "outputs": [],
   "source": [
    "!pip install -U imbalanced-learn --user"
   ]
  },
  {
   "cell_type": "code",
   "execution_count": 1,
   "metadata": {},
   "outputs": [],
   "source": [
    "import pandas as pd\n",
    "import matplotlib.pyplot as plt\n",
    "import numpy as np\n",
    "from sklearn.preprocessing import OneHotEncoder\n",
    "from sklearn.preprocessing import StandardScaler\n",
    "from sklearn.model_selection import train_test_split \n",
    "from sklearn.feature_selection import mutual_info_classif\n",
    "from sklearn.linear_model import LogisticRegression \n",
    "from sklearn.metrics import accuracy_score\n",
    "from sklearn.tree import DecisionTreeClassifier\n",
    "from sklearn.ensemble import RandomForestClassifier\n",
    "from sklearn.dummy import DummyClassifier\n",
    "from sklearn.metrics import f1_score\n",
    "from sklearn.metrics import roc_auc_score\n",
    "!pip install -q imbalanced-learn\n",
    "from imblearn.over_sampling import SMOTE\n",
    "from sklearn.ensemble import GradientBoostingClassifier"
   ]
  },
  {
   "cell_type": "code",
   "execution_count": 2,
   "metadata": {},
   "outputs": [],
   "source": [
    "try:\n",
    "    data = pd.read_csv('C:/Users/Asus/Downloads/Churn.csv')\n",
    "except:\n",
    "    data = pd.read_csv('/datasets/Churn.csv')"
   ]
  },
  {
   "cell_type": "code",
   "execution_count": 3,
   "metadata": {},
   "outputs": [
    {
     "name": "stdout",
     "output_type": "stream",
     "text": [
      "<class 'pandas.core.frame.DataFrame'>\n",
      "RangeIndex: 10000 entries, 0 to 9999\n",
      "Data columns (total 14 columns):\n",
      " #   Column           Non-Null Count  Dtype  \n",
      "---  ------           --------------  -----  \n",
      " 0   RowNumber        10000 non-null  int64  \n",
      " 1   CustomerId       10000 non-null  int64  \n",
      " 2   Surname          10000 non-null  object \n",
      " 3   CreditScore      10000 non-null  int64  \n",
      " 4   Geography        10000 non-null  object \n",
      " 5   Gender           10000 non-null  object \n",
      " 6   Age              10000 non-null  int64  \n",
      " 7   Tenure           9091 non-null   float64\n",
      " 8   Balance          10000 non-null  float64\n",
      " 9   NumOfProducts    10000 non-null  int64  \n",
      " 10  HasCrCard        10000 non-null  int64  \n",
      " 11  IsActiveMember   10000 non-null  int64  \n",
      " 12  EstimatedSalary  10000 non-null  float64\n",
      " 13  Exited           10000 non-null  int64  \n",
      "dtypes: float64(3), int64(8), object(3)\n",
      "memory usage: 1.1+ MB\n"
     ]
    }
   ],
   "source": [
    "data.info()"
   ]
  },
  {
   "cell_type": "markdown",
   "metadata": {},
   "source": [
    "В столбце tenure есть пропуски - видимо, те люди, у которых срок пользования услугами банка менее года. \n",
    "Три столбца: фамилия, страна, пол - имеют объектный тип, поэтому их нужно изменить на количественный методом OHE для работы модели. При этом возникнет огромное количество столбцов с разными фамилиями. Условимся, что фамилия едва ли влияет на отказ от услуг банка, и удалим этот столбец, как и столбцы с номером строки и id."
   ]
  },
  {
   "cell_type": "markdown",
   "metadata": {},
   "source": [
    "Посмотрим, как данные выглядят в таблице."
   ]
  },
  {
   "cell_type": "code",
   "execution_count": 4,
   "metadata": {
    "scrolled": true
   },
   "outputs": [
    {
     "data": {
      "text/html": [
       "<div>\n",
       "<style scoped>\n",
       "    .dataframe tbody tr th:only-of-type {\n",
       "        vertical-align: middle;\n",
       "    }\n",
       "\n",
       "    .dataframe tbody tr th {\n",
       "        vertical-align: top;\n",
       "    }\n",
       "\n",
       "    .dataframe thead th {\n",
       "        text-align: right;\n",
       "    }\n",
       "</style>\n",
       "<table border=\"1\" class=\"dataframe\">\n",
       "  <thead>\n",
       "    <tr style=\"text-align: right;\">\n",
       "      <th></th>\n",
       "      <th>RowNumber</th>\n",
       "      <th>CustomerId</th>\n",
       "      <th>Surname</th>\n",
       "      <th>CreditScore</th>\n",
       "      <th>Geography</th>\n",
       "      <th>Gender</th>\n",
       "      <th>Age</th>\n",
       "      <th>Tenure</th>\n",
       "      <th>Balance</th>\n",
       "      <th>NumOfProducts</th>\n",
       "      <th>HasCrCard</th>\n",
       "      <th>IsActiveMember</th>\n",
       "      <th>EstimatedSalary</th>\n",
       "      <th>Exited</th>\n",
       "    </tr>\n",
       "  </thead>\n",
       "  <tbody>\n",
       "    <tr>\n",
       "      <th>0</th>\n",
       "      <td>1</td>\n",
       "      <td>15634602</td>\n",
       "      <td>Hargrave</td>\n",
       "      <td>619</td>\n",
       "      <td>France</td>\n",
       "      <td>Female</td>\n",
       "      <td>42</td>\n",
       "      <td>2.0</td>\n",
       "      <td>0.00</td>\n",
       "      <td>1</td>\n",
       "      <td>1</td>\n",
       "      <td>1</td>\n",
       "      <td>101348.88</td>\n",
       "      <td>1</td>\n",
       "    </tr>\n",
       "    <tr>\n",
       "      <th>1</th>\n",
       "      <td>2</td>\n",
       "      <td>15647311</td>\n",
       "      <td>Hill</td>\n",
       "      <td>608</td>\n",
       "      <td>Spain</td>\n",
       "      <td>Female</td>\n",
       "      <td>41</td>\n",
       "      <td>1.0</td>\n",
       "      <td>83807.86</td>\n",
       "      <td>1</td>\n",
       "      <td>0</td>\n",
       "      <td>1</td>\n",
       "      <td>112542.58</td>\n",
       "      <td>0</td>\n",
       "    </tr>\n",
       "    <tr>\n",
       "      <th>2</th>\n",
       "      <td>3</td>\n",
       "      <td>15619304</td>\n",
       "      <td>Onio</td>\n",
       "      <td>502</td>\n",
       "      <td>France</td>\n",
       "      <td>Female</td>\n",
       "      <td>42</td>\n",
       "      <td>8.0</td>\n",
       "      <td>159660.80</td>\n",
       "      <td>3</td>\n",
       "      <td>1</td>\n",
       "      <td>0</td>\n",
       "      <td>113931.57</td>\n",
       "      <td>1</td>\n",
       "    </tr>\n",
       "    <tr>\n",
       "      <th>3</th>\n",
       "      <td>4</td>\n",
       "      <td>15701354</td>\n",
       "      <td>Boni</td>\n",
       "      <td>699</td>\n",
       "      <td>France</td>\n",
       "      <td>Female</td>\n",
       "      <td>39</td>\n",
       "      <td>1.0</td>\n",
       "      <td>0.00</td>\n",
       "      <td>2</td>\n",
       "      <td>0</td>\n",
       "      <td>0</td>\n",
       "      <td>93826.63</td>\n",
       "      <td>0</td>\n",
       "    </tr>\n",
       "    <tr>\n",
       "      <th>4</th>\n",
       "      <td>5</td>\n",
       "      <td>15737888</td>\n",
       "      <td>Mitchell</td>\n",
       "      <td>850</td>\n",
       "      <td>Spain</td>\n",
       "      <td>Female</td>\n",
       "      <td>43</td>\n",
       "      <td>2.0</td>\n",
       "      <td>125510.82</td>\n",
       "      <td>1</td>\n",
       "      <td>1</td>\n",
       "      <td>1</td>\n",
       "      <td>79084.10</td>\n",
       "      <td>0</td>\n",
       "    </tr>\n",
       "  </tbody>\n",
       "</table>\n",
       "</div>"
      ],
      "text/plain": [
       "   RowNumber  CustomerId   Surname  CreditScore Geography  Gender  Age  \\\n",
       "0          1    15634602  Hargrave          619    France  Female   42   \n",
       "1          2    15647311      Hill          608     Spain  Female   41   \n",
       "2          3    15619304      Onio          502    France  Female   42   \n",
       "3          4    15701354      Boni          699    France  Female   39   \n",
       "4          5    15737888  Mitchell          850     Spain  Female   43   \n",
       "\n",
       "   Tenure    Balance  NumOfProducts  HasCrCard  IsActiveMember  \\\n",
       "0     2.0       0.00              1          1               1   \n",
       "1     1.0   83807.86              1          0               1   \n",
       "2     8.0  159660.80              3          1               0   \n",
       "3     1.0       0.00              2          0               0   \n",
       "4     2.0  125510.82              1          1               1   \n",
       "\n",
       "   EstimatedSalary  Exited  \n",
       "0        101348.88       1  \n",
       "1        112542.58       0  \n",
       "2        113931.57       1  \n",
       "3         93826.63       0  \n",
       "4         79084.10       0  "
      ]
     },
     "execution_count": 4,
     "metadata": {},
     "output_type": "execute_result"
    }
   ],
   "source": [
    "data.head()"
   ]
  },
  {
   "cell_type": "code",
   "execution_count": 5,
   "metadata": {},
   "outputs": [
    {
     "data": {
      "text/html": [
       "<div>\n",
       "<style scoped>\n",
       "    .dataframe tbody tr th:only-of-type {\n",
       "        vertical-align: middle;\n",
       "    }\n",
       "\n",
       "    .dataframe tbody tr th {\n",
       "        vertical-align: top;\n",
       "    }\n",
       "\n",
       "    .dataframe thead th {\n",
       "        text-align: right;\n",
       "    }\n",
       "</style>\n",
       "<table border=\"1\" class=\"dataframe\">\n",
       "  <thead>\n",
       "    <tr style=\"text-align: right;\">\n",
       "      <th></th>\n",
       "      <th>RowNumber</th>\n",
       "      <th>CustomerId</th>\n",
       "      <th>CreditScore</th>\n",
       "      <th>Age</th>\n",
       "      <th>Tenure</th>\n",
       "      <th>Balance</th>\n",
       "      <th>NumOfProducts</th>\n",
       "      <th>HasCrCard</th>\n",
       "      <th>IsActiveMember</th>\n",
       "      <th>EstimatedSalary</th>\n",
       "      <th>Exited</th>\n",
       "    </tr>\n",
       "  </thead>\n",
       "  <tbody>\n",
       "    <tr>\n",
       "      <th>count</th>\n",
       "      <td>10000.00000</td>\n",
       "      <td>1.000000e+04</td>\n",
       "      <td>10000.000000</td>\n",
       "      <td>10000.000000</td>\n",
       "      <td>9091.000000</td>\n",
       "      <td>10000.000000</td>\n",
       "      <td>10000.000000</td>\n",
       "      <td>10000.00000</td>\n",
       "      <td>10000.000000</td>\n",
       "      <td>10000.000000</td>\n",
       "      <td>10000.000000</td>\n",
       "    </tr>\n",
       "    <tr>\n",
       "      <th>mean</th>\n",
       "      <td>5000.50000</td>\n",
       "      <td>1.569094e+07</td>\n",
       "      <td>650.528800</td>\n",
       "      <td>38.921800</td>\n",
       "      <td>4.997690</td>\n",
       "      <td>76485.889288</td>\n",
       "      <td>1.530200</td>\n",
       "      <td>0.70550</td>\n",
       "      <td>0.515100</td>\n",
       "      <td>100090.239881</td>\n",
       "      <td>0.203700</td>\n",
       "    </tr>\n",
       "    <tr>\n",
       "      <th>std</th>\n",
       "      <td>2886.89568</td>\n",
       "      <td>7.193619e+04</td>\n",
       "      <td>96.653299</td>\n",
       "      <td>10.487806</td>\n",
       "      <td>2.894723</td>\n",
       "      <td>62397.405202</td>\n",
       "      <td>0.581654</td>\n",
       "      <td>0.45584</td>\n",
       "      <td>0.499797</td>\n",
       "      <td>57510.492818</td>\n",
       "      <td>0.402769</td>\n",
       "    </tr>\n",
       "    <tr>\n",
       "      <th>min</th>\n",
       "      <td>1.00000</td>\n",
       "      <td>1.556570e+07</td>\n",
       "      <td>350.000000</td>\n",
       "      <td>18.000000</td>\n",
       "      <td>0.000000</td>\n",
       "      <td>0.000000</td>\n",
       "      <td>1.000000</td>\n",
       "      <td>0.00000</td>\n",
       "      <td>0.000000</td>\n",
       "      <td>11.580000</td>\n",
       "      <td>0.000000</td>\n",
       "    </tr>\n",
       "    <tr>\n",
       "      <th>25%</th>\n",
       "      <td>2500.75000</td>\n",
       "      <td>1.562853e+07</td>\n",
       "      <td>584.000000</td>\n",
       "      <td>32.000000</td>\n",
       "      <td>2.000000</td>\n",
       "      <td>0.000000</td>\n",
       "      <td>1.000000</td>\n",
       "      <td>0.00000</td>\n",
       "      <td>0.000000</td>\n",
       "      <td>51002.110000</td>\n",
       "      <td>0.000000</td>\n",
       "    </tr>\n",
       "    <tr>\n",
       "      <th>50%</th>\n",
       "      <td>5000.50000</td>\n",
       "      <td>1.569074e+07</td>\n",
       "      <td>652.000000</td>\n",
       "      <td>37.000000</td>\n",
       "      <td>5.000000</td>\n",
       "      <td>97198.540000</td>\n",
       "      <td>1.000000</td>\n",
       "      <td>1.00000</td>\n",
       "      <td>1.000000</td>\n",
       "      <td>100193.915000</td>\n",
       "      <td>0.000000</td>\n",
       "    </tr>\n",
       "    <tr>\n",
       "      <th>75%</th>\n",
       "      <td>7500.25000</td>\n",
       "      <td>1.575323e+07</td>\n",
       "      <td>718.000000</td>\n",
       "      <td>44.000000</td>\n",
       "      <td>7.000000</td>\n",
       "      <td>127644.240000</td>\n",
       "      <td>2.000000</td>\n",
       "      <td>1.00000</td>\n",
       "      <td>1.000000</td>\n",
       "      <td>149388.247500</td>\n",
       "      <td>0.000000</td>\n",
       "    </tr>\n",
       "    <tr>\n",
       "      <th>max</th>\n",
       "      <td>10000.00000</td>\n",
       "      <td>1.581569e+07</td>\n",
       "      <td>850.000000</td>\n",
       "      <td>92.000000</td>\n",
       "      <td>10.000000</td>\n",
       "      <td>250898.090000</td>\n",
       "      <td>4.000000</td>\n",
       "      <td>1.00000</td>\n",
       "      <td>1.000000</td>\n",
       "      <td>199992.480000</td>\n",
       "      <td>1.000000</td>\n",
       "    </tr>\n",
       "  </tbody>\n",
       "</table>\n",
       "</div>"
      ],
      "text/plain": [
       "         RowNumber    CustomerId   CreditScore           Age       Tenure  \\\n",
       "count  10000.00000  1.000000e+04  10000.000000  10000.000000  9091.000000   \n",
       "mean    5000.50000  1.569094e+07    650.528800     38.921800     4.997690   \n",
       "std     2886.89568  7.193619e+04     96.653299     10.487806     2.894723   \n",
       "min        1.00000  1.556570e+07    350.000000     18.000000     0.000000   \n",
       "25%     2500.75000  1.562853e+07    584.000000     32.000000     2.000000   \n",
       "50%     5000.50000  1.569074e+07    652.000000     37.000000     5.000000   \n",
       "75%     7500.25000  1.575323e+07    718.000000     44.000000     7.000000   \n",
       "max    10000.00000  1.581569e+07    850.000000     92.000000    10.000000   \n",
       "\n",
       "             Balance  NumOfProducts    HasCrCard  IsActiveMember  \\\n",
       "count   10000.000000   10000.000000  10000.00000    10000.000000   \n",
       "mean    76485.889288       1.530200      0.70550        0.515100   \n",
       "std     62397.405202       0.581654      0.45584        0.499797   \n",
       "min         0.000000       1.000000      0.00000        0.000000   \n",
       "25%         0.000000       1.000000      0.00000        0.000000   \n",
       "50%     97198.540000       1.000000      1.00000        1.000000   \n",
       "75%    127644.240000       2.000000      1.00000        1.000000   \n",
       "max    250898.090000       4.000000      1.00000        1.000000   \n",
       "\n",
       "       EstimatedSalary        Exited  \n",
       "count     10000.000000  10000.000000  \n",
       "mean     100090.239881      0.203700  \n",
       "std       57510.492818      0.402769  \n",
       "min          11.580000      0.000000  \n",
       "25%       51002.110000      0.000000  \n",
       "50%      100193.915000      0.000000  \n",
       "75%      149388.247500      0.000000  \n",
       "max      199992.480000      1.000000  "
      ]
     },
     "execution_count": 5,
     "metadata": {},
     "output_type": "execute_result"
    }
   ],
   "source": [
    "data.describe()"
   ]
  },
  {
   "cell_type": "markdown",
   "metadata": {},
   "source": [
    "Изменим названия столбцов на стандартные - нижний регистр."
   ]
  },
  {
   "cell_type": "code",
   "execution_count": 6,
   "metadata": {},
   "outputs": [],
   "source": [
    "data.columns = data.columns.str.lower()"
   ]
  },
  {
   "cell_type": "markdown",
   "metadata": {},
   "source": [
    "Удалим столбцы с фамилиями, номером строки, id. "
   ]
  },
  {
   "cell_type": "code",
   "execution_count": 7,
   "metadata": {
    "scrolled": true
   },
   "outputs": [],
   "source": [
    "data.drop(['surname', 'rownumber', 'customerid'], axis = 1, inplace=True)"
   ]
  },
  {
   "cell_type": "markdown",
   "metadata": {},
   "source": [
    "Так как пропусков в столбце tenure более 9%, и, вероятно, это те люди, у которых срок пользования услугами банка менее года, то не будем их удалять, заменим на константу."
   ]
  },
  {
   "cell_type": "code",
   "execution_count": 8,
   "metadata": {
    "scrolled": true
   },
   "outputs": [],
   "source": [
    "data['tenure'].fillna('0', inplace=True)\n",
    "data['tenure'] = data['tenure'].astype('int')"
   ]
  },
  {
   "cell_type": "markdown",
   "metadata": {},
   "source": [
    "<font size=\"5\"><p style=\"text-align:center\"><b> ***Шаг 2. Исследование модели без учёта дисбаланса классов*** </b></p></font>"
   ]
  },
  {
   "cell_type": "markdown",
   "metadata": {},
   "source": [
    "Исследуем дисбаланс классов."
   ]
  },
  {
   "cell_type": "code",
   "execution_count": 9,
   "metadata": {},
   "outputs": [
    {
     "name": "stdout",
     "output_type": "stream",
     "text": [
      "0    0.7963\n",
      "1    0.2037\n",
      "Name: exited, dtype: float64\n"
     ]
    },
    {
     "data": {
      "image/png": "[encoded data removed]",
      "text/plain": [
       "<Figure size 432x288 with 1 Axes>"
      ]
     },
     "metadata": {
      "needs_background": "light"
     },
     "output_type": "display_data"
    }
   ],
   "source": [
    "class_frequency = data['exited'].value_counts(normalize=data.shape)\n",
    "print(class_frequency)\n",
    "class_frequency.plot(kind='bar', color = 'pink');"
   ]
  },
  {
   "cell_type": "markdown",
   "metadata": {},
   "source": [
    "Ушедших клиентов почти в 4 раза меньше оставшихся - дисбаланс классов есть."
   ]
  },
  {
   "cell_type": "markdown",
   "metadata": {},
   "source": [
    "Разделим датасет на три выборки в соотношении 3:1:1."
   ]
  },
  {
   "cell_type": "code",
   "execution_count": 10,
   "metadata": {},
   "outputs": [],
   "source": [
    "data_train, data_test = train_test_split(data, test_size=0.2, random_state=12345, shuffle=True, stratify=None)\n",
    "\n",
    "data_train, data_valid = train_test_split(data_train, test_size=0.25, random_state=12345, shuffle=True, stratify=None)"
   ]
  },
  {
   "cell_type": "code",
   "execution_count": 11,
   "metadata": {},
   "outputs": [
    {
     "name": "stdout",
     "output_type": "stream",
     "text": [
      "(6000, 11)\n",
      "(2000, 11)\n",
      "(2000, 11)\n"
     ]
    }
   ],
   "source": [
    "print(data_train.shape)\n",
    "print(data_valid.shape)\n",
    "print(data_test.shape)"
   ]
  },
  {
   "cell_type": "markdown",
   "metadata": {},
   "source": [
    "Масштабируем признаки."
   ]
  },
  {
   "cell_type": "code",
   "execution_count": 12,
   "metadata": {},
   "outputs": [],
   "source": [
    "numeric = ['creditscore', 'tenure', 'balance', 'age', 'numofproducts', 'estimatedsalary']\n",
    "\n",
    "scaler = StandardScaler()\n",
    "scaler.fit(data_train[numeric])\n",
    "data_train[numeric] = scaler.transform(data_train[numeric])\n",
    "data_valid[numeric] = scaler.transform(data_valid[numeric])\n",
    "data_test[numeric] = scaler.transform(data_test[numeric])"
   ]
  },
  {
   "cell_type": "code",
   "execution_count": 13,
   "metadata": {},
   "outputs": [],
   "source": [
    "data_train = pd.get_dummies(data_train, drop_first=True)\n",
    "data_valid = pd.get_dummies(data_valid, drop_first=True)\n",
    "data_test = pd.get_dummies(data_test, drop_first=True)"
   ]
  },
  {
   "cell_type": "markdown",
   "metadata": {},
   "source": [
    "Разделим выборки на обучающие признаки и таргет."
   ]
  },
  {
   "cell_type": "code",
   "execution_count": 14,
   "metadata": {},
   "outputs": [],
   "source": [
    "features_train = data_train.drop('exited', axis=1)\n",
    "target_train = data_train['exited']\n",
    "\n",
    "features_valid = data_valid.drop('exited', axis=1)\n",
    "target_valid = data_valid['exited']\n",
    "\n",
    "features_test = data_test.drop('exited', axis=1)\n",
    "target_test = data_test['exited']"
   ]
  },
  {
   "cell_type": "markdown",
   "metadata": {},
   "source": [
    "Отберём необходимые признаки для большей генерализации модели."
   ]
  },
  {
   "cell_type": "code",
   "execution_count": 15,
   "metadata": {},
   "outputs": [
    {
     "data": {
      "image/png": "[encoded data removed]",
      "text/plain": [
       "<Figure size 432x288 with 1 Axes>"
      ]
     },
     "metadata": {
      "needs_background": "light"
     },
     "output_type": "display_data"
    }
   ],
   "source": [
    "X = data_train.drop('exited', axis=1)\n",
    "y = data_train['exited']\n",
    "importances = mutual_info_classif(X=X, y=y)\n",
    "feature_importances = pd.Series(importances, X.columns).sort_values()\n",
    "feature_importances.plot(kind='barh', color='pink')\n",
    "plt.show;"
   ]
  },
  {
   "cell_type": "markdown",
   "metadata": {},
   "source": [
    "Большее значение на таргет имеют возраст и количество продуктов банка. Так как столбцов не так много, не будем удалять иные, имеющие малое значение на оси абсцисс."
   ]
  },
  {
   "cell_type": "markdown",
   "metadata": {},
   "source": [
    "Обучим модель логистической регрессии без учёта дисбаланса классов."
   ]
  },
  {
   "cell_type": "code",
   "execution_count": 16,
   "metadata": {},
   "outputs": [
    {
     "name": "stdout",
     "output_type": "stream",
     "text": [
      "F1: 0.3056603773584906\n",
      "ROC-AUC: 0.7708334989087915\n"
     ]
    }
   ],
   "source": [
    "model = LogisticRegression(random_state=12345, solver='liblinear')\n",
    "model.fit(features_train, target_train)\n",
    "predicted_valid = model.predict(features_valid)\n",
    "\n",
    "print('F1:', f1_score(target_valid, predicted_valid))\n",
    "\n",
    "probabilities_valid = model.predict_proba(features_valid)\n",
    "probabilities_one_valid = probabilities_valid[:, 1]\n",
    "print('ROC-AUC:', roc_auc_score(target_valid, probabilities_one_valid))"
   ]
  },
  {
   "cell_type": "markdown",
   "metadata": {},
   "source": [
    "Далее дерево решений."
   ]
  },
  {
   "cell_type": "code",
   "execution_count": 17,
   "metadata": {},
   "outputs": [
    {
     "name": "stdout",
     "output_type": "stream",
     "text": [
      "max_depth = 14\n",
      "F1 лучшей модели: 0.5488958990536277\n",
      "ROC-AUC лучшей модели: 0.8275652142122556\n"
     ]
    }
   ],
   "source": [
    "best_model_dt = None\n",
    "best_result = 0\n",
    "best_result_1 = 0 \n",
    "best_depth = 0\n",
    "\n",
    "for depth in range(1,15):\n",
    "    model = DecisionTreeClassifier(random_state=12345, splitter='best', max_depth=depth)\n",
    "    model.fit(features_train, target_train)\n",
    "    predictions_valid = model.predict(features_valid)\n",
    "    result = f1_score(target_valid, predictions_valid)\n",
    "    probabilities_valid = model.predict_proba(features_valid)\n",
    "    probabilities_one_valid = probabilities_valid[:, 1]\n",
    "    result_1 = roc_auc_score(target_valid, probabilities_one_valid)\n",
    "    if result > best_result and result_1 > best_result_1:\n",
    "        best_model_dt = model\n",
    "        best_result = result\n",
    "        best_result_1 = result_1\n",
    "        best_depth = depth\n",
    "        \n",
    "print('max_depth =', depth)\n",
    "print('F1 лучшей модели:', best_result)\n",
    "print('ROC-AUC лучшей модели:', best_result_1)"
   ]
  },
  {
   "cell_type": "markdown",
   "metadata": {},
   "source": [
    "Случайный лес."
   ]
  },
  {
   "cell_type": "code",
   "execution_count": 18,
   "metadata": {
    "scrolled": true
   },
   "outputs": [
    {
     "name": "stdout",
     "output_type": "stream",
     "text": [
      "F1 лучшей модели: 0.5639344262295082\n",
      "ROC-AUC лучшей модели: 0.8515447792865897\n",
      "max_depth = 11\n",
      "n_estimators = 60\n",
      "CPU times: user 2min 45s, sys: 961 ms, total: 2min 46s\n",
      "Wall time: 2min 48s\n"
     ]
    }
   ],
   "source": [
    "%%time\n",
    "\n",
    "best_model_rf = None\n",
    "best_result = 0\n",
    "best_result_1 = 0 \n",
    "best_depth = 0\n",
    "best_est = 0\n",
    "for est in range(50, 150, 5):\n",
    "\n",
    "    for depth in range(2, 15):\n",
    "        model = RandomForestClassifier(random_state=12345, n_estimators=est, max_depth=depth)\n",
    "        model.fit(features_train, target_train)\n",
    "        predictions_valid = model.predict(features_valid)\n",
    "        result = f1_score(target_valid, predictions_valid)\n",
    "        probabilities_valid = model.predict_proba(features_valid)\n",
    "        probabilities_one_valid = probabilities_valid[:, 1]\n",
    "        result_1 = roc_auc_score(target_valid, probabilities_one_valid)\n",
    "        if result > best_result and result_1 > best_result_1:\n",
    "            best_model_rf = model\n",
    "            best_result = result\n",
    "            best_result_1 = result_1\n",
    "            best_depth = depth\n",
    "            best_est = est\n",
    "\n",
    "print('F1 лучшей модели:', best_result)\n",
    "print('ROC-AUC лучшей модели:', best_result_1)\n",
    "print('max_depth =', best_depth)\n",
    "print('n_estimators =', best_est)"
   ]
  },
  {
   "cell_type": "code",
   "execution_count": 19,
   "metadata": {},
   "outputs": [
    {
     "name": "stdout",
     "output_type": "stream",
     "text": [
      "F1 on VALID: 0.5791\n",
      "AUC-ROC on VALID: 0.8435\n",
      "max_depth           10\n",
      "min_samples_leaf     1\n",
      "n_estimators        60\n",
      "dtype: int64\n",
      "CPU times: user 10min 55s, sys: 3.51 s, total: 10min 59s\n",
      "Wall time: 11min 2s\n"
     ]
    }
   ],
   "source": [
    "%%time\n",
    "from sklearn.model_selection import GridSearchCV\n",
    "parameters = {\n",
    "    'n_estimators': range(50, 121, 5),\n",
    "    'max_depth': range(2, 11),\n",
    "    'min_samples_leaf': range(1, 4),\n",
    "}\n",
    "\n",
    "model = RandomForestClassifier(random_state=96)\n",
    "\n",
    "metrics = ['f1', 'roc_auc']\n",
    "\n",
    "search = GridSearchCV(model, parameters, cv=4, scoring=metrics, refit='f1')\n",
    "search.fit(features_train, target_train)\n",
    "results = search.cv_results_\n",
    "\n",
    "print('F1 on VALID:', '%.4f' %search.best_score_)\n",
    "print('AUC-ROC on VALID:', '%.4f' %results['mean_test_roc_auc'].mean())\n",
    "print(pd.Series(search.best_params_))"
   ]
  },
  {
   "cell_type": "markdown",
   "metadata": {},
   "source": [
    "*Вывод по обучению модели без учёта дисбаланса: лучшая F1-мера и площадь AUC-ROC у модели случайный лес. Однако до 0.59 F1-мера не дотягивает.*"
   ]
  },
  {
   "cell_type": "markdown",
   "metadata": {},
   "source": [
    "<font size=\"5\"><p style=\"text-align:center\"><b> ***Шаг 3. Исследование модели с учётом дисбаланса классов*** </b></p></font>"
   ]
  },
  {
   "cell_type": "markdown",
   "metadata": {},
   "source": [
    "Начнём улучшение метрик с метода балансировки классов."
   ]
  },
  {
   "cell_type": "code",
   "execution_count": 20,
   "metadata": {},
   "outputs": [
    {
     "name": "stdout",
     "output_type": "stream",
     "text": [
      "F1: 0.47763864042933807\n",
      "ROC-AUC: 0.7729634616026538\n"
     ]
    }
   ],
   "source": [
    "model = LogisticRegression(random_state=12345, solver='liblinear', class_weight='balanced')\n",
    "model.fit(features_train, target_train)\n",
    "predicted_valid = model.predict(features_valid)\n",
    "print(\"F1:\", f1_score(target_valid, predicted_valid))\n",
    "\n",
    "probabilities_valid = model.predict_proba(features_valid)\n",
    "probabilities_one_valid = probabilities_valid[:, 1]\n",
    "print('ROC-AUC:', roc_auc_score(target_valid, probabilities_one_valid))"
   ]
  },
  {
   "cell_type": "markdown",
   "metadata": {},
   "source": [
    "Теперь дерево решений."
   ]
  },
  {
   "cell_type": "code",
   "execution_count": 21,
   "metadata": {
    "scrolled": true
   },
   "outputs": [
    {
     "name": "stdout",
     "output_type": "stream",
     "text": [
      "max_depth = 14\n",
      "F1 лучшей модели: 0.5489078822412156\n",
      "ROC-AUC лучшей модели: 0.818801371441651\n"
     ]
    }
   ],
   "source": [
    "best_model_dt = None\n",
    "best_result = 0\n",
    "best_result_1 = 0 \n",
    "best_depth = 0\n",
    "\n",
    "for depth in range(2,15):\n",
    "    model = DecisionTreeClassifier(random_state=12345, class_weight='balanced', splitter='best', max_depth=depth)\n",
    "    model.fit(features_train, target_train)\n",
    "    predictions_valid = model.predict(features_valid)\n",
    "    result = f1_score(target_valid, predictions_valid)\n",
    "    probabilities_valid = model.predict_proba(features_valid)\n",
    "    probabilities_one_valid = probabilities_valid[:, 1]\n",
    "    result_1 = roc_auc_score(target_valid, probabilities_one_valid)\n",
    "    if result > best_result and result_1 > best_result_1:\n",
    "        best_model_dt = model\n",
    "        best_result = result\n",
    "        best_result_1 = result_1\n",
    "        best_depth = depth\n",
    "        \n",
    "print('max_depth =', depth)\n",
    "print('F1 лучшей модели:', best_result)\n",
    "print('ROC-AUC лучшей модели:', best_result_1)"
   ]
  },
  {
   "cell_type": "markdown",
   "metadata": {},
   "source": [
    "Теперь случайный лес."
   ]
  },
  {
   "cell_type": "code",
   "execution_count": 22,
   "metadata": {},
   "outputs": [
    {
     "name": "stdout",
     "output_type": "stream",
     "text": [
      "F1 лучшей модели: 0.6035805626598465\n",
      "ROC-AUC лучшей модели: 0.8528291150005006\n",
      "max_depth = 10\n",
      "n_estimators = 50\n",
      "CPU times: user 2min 40s, sys: 1.11 s, total: 2min 41s\n",
      "Wall time: 2min 42s\n"
     ]
    }
   ],
   "source": [
    "%%time\n",
    "\n",
    "best_model_rf = None\n",
    "best_result = 0\n",
    "best_result_1 = 0 \n",
    "best_depth = 0\n",
    "best_est = 0\n",
    "for est in range(50, 150, 5):\n",
    "\n",
    "    for depth in range(2, 15):\n",
    "        model = RandomForestClassifier(random_state=12345, class_weight='balanced', n_estimators=est, max_depth=depth)\n",
    "        model.fit(features_train, target_train)\n",
    "        predictions_valid = model.predict(features_valid)\n",
    "        result = f1_score(target_valid, predictions_valid)\n",
    "        probabilities_valid = model.predict_proba(features_valid)\n",
    "        probabilities_one_valid = probabilities_valid[:, 1]\n",
    "        result_1 = roc_auc_score(target_valid, probabilities_one_valid)\n",
    "        if result > best_result and result_1 > best_result_1:\n",
    "            best_model_rf = model\n",
    "            best_result = result\n",
    "            best_result_1 = result_1\n",
    "            best_depth = depth\n",
    "            best_est = est\n",
    "\n",
    "print('F1 лучшей модели:', best_result)\n",
    "print('ROC-AUC лучшей модели:', best_result_1)\n",
    "print('max_depth =', best_depth)\n",
    "print('n_estimators =', best_est)"
   ]
  },
  {
   "cell_type": "markdown",
   "metadata": {},
   "source": [
    "*Вывод по обучению модели после использования балансирования весов классов: лучшие F1-мера и площадь AUC-ROC у модели случайный лес. У логистической регрессии метрики улучшились, у дерева решений F1-мера улучшилась, AUC-ROC снизилась.*"
   ]
  },
  {
   "cell_type": "markdown",
   "metadata": {},
   "source": [
    "Применим иной метод - SMOTE."
   ]
  },
  {
   "cell_type": "code",
   "execution_count": 23,
   "metadata": {},
   "outputs": [],
   "source": [
    "sm = SMOTE(random_state=12345, k_neighbors=5)\n",
    "features_train_res, target_train_res = sm.fit_resample(features_train, target_train)"
   ]
  },
  {
   "cell_type": "code",
   "execution_count": 24,
   "metadata": {},
   "outputs": [
    {
     "name": "stdout",
     "output_type": "stream",
     "text": [
      "F1: 0.48037383177570087\n",
      "ROC-AUC: 0.7654783912105659\n"
     ]
    }
   ],
   "source": [
    "lr = LogisticRegression(random_state=12345, solver='liblinear')\n",
    "lr.fit(features_train_res, target_train_res)\n",
    "predicted_valid = lr.predict(features_valid)\n",
    "print(\"F1:\", f1_score(target_valid, predicted_valid))\n",
    "\n",
    "probabilities_valid = lr.predict_proba(features_valid)\n",
    "probabilities_one_valid = probabilities_valid[:, 1]\n",
    "print('ROC-AUC:', roc_auc_score(target_valid, probabilities_one_valid))"
   ]
  },
  {
   "cell_type": "code",
   "execution_count": 25,
   "metadata": {},
   "outputs": [
    {
     "name": "stdout",
     "output_type": "stream",
     "text": [
      "max_depth = 14\n",
      "F1 лучшей модели: 0.5504201680672269\n",
      "ROC-AUC лучшей модели: 0.8096679642484172\n"
     ]
    }
   ],
   "source": [
    "best_model_dt = None\n",
    "best_result = 0\n",
    "best_result_1 = 0 \n",
    "best_depth = 0\n",
    "\n",
    "for depth in range(2,15):\n",
    "    model = DecisionTreeClassifier(random_state=12345, splitter='best', max_depth=depth)\n",
    "    model.fit(features_train_res, target_train_res)\n",
    "    predictions_valid = model.predict(features_valid)\n",
    "    result = f1_score(target_valid, predictions_valid)\n",
    "    probabilities_valid = model.predict_proba(features_valid)\n",
    "    probabilities_one_valid = probabilities_valid[:, 1]\n",
    "    result_1 = roc_auc_score(target_valid, probabilities_one_valid)\n",
    "    if result > best_result and result_1 > best_result_1:\n",
    "        best_model_dt = model\n",
    "        best_result = result\n",
    "        best_result_1 = result_1\n",
    "        best_depth = depth\n",
    "        \n",
    "print('max_depth =', depth)\n",
    "print('F1 лучшей модели:', best_result)\n",
    "print('ROC-AUC лучшей модели:', best_result_1)"
   ]
  },
  {
   "cell_type": "code",
   "execution_count": 26,
   "metadata": {
    "scrolled": true
   },
   "outputs": [
    {
     "name": "stdout",
     "output_type": "stream",
     "text": [
      "F1 лучшей модели: 0.5896860986547086\n",
      "ROC-AUC лучшей модели: 0.8532280856245004\n",
      "max_depth = 8\n",
      "n_estimators = 115\n",
      "CPU times: user 4min 6s, sys: 1.02 s, total: 4min 7s\n",
      "Wall time: 4min 8s\n"
     ]
    }
   ],
   "source": [
    "%%time\n",
    "\n",
    "best_model_rf = None\n",
    "best_result = 0\n",
    "best_result_1 = 0 \n",
    "best_depth = 0\n",
    "best_est = 0\n",
    "for est in range(50, 150, 5):\n",
    "\n",
    "    for depth in range(2, 15):\n",
    "        model = RandomForestClassifier(random_state=12345, n_estimators=est, max_depth=depth)\n",
    "        model.fit(features_train_res, target_train_res)\n",
    "        predictions_valid = model.predict(features_valid)\n",
    "        result = f1_score(target_valid, predictions_valid)\n",
    "        probabilities_valid = model.predict_proba(features_valid)\n",
    "        probabilities_one_valid = probabilities_valid[:, 1]\n",
    "        result_1 = roc_auc_score(target_valid, probabilities_one_valid)\n",
    "        if result > best_result and result_1 > best_result_1:\n",
    "            best_model_rf = model\n",
    "            best_result = result\n",
    "            best_result_1 = result_1\n",
    "            best_depth = depth\n",
    "            best_est = est\n",
    "\n",
    "print('F1 лучшей модели:', best_result)\n",
    "print('ROC-AUC лучшей модели:', best_result_1)\n",
    "print('max_depth =', best_depth)\n",
    "print('n_estimators =', best_est)"
   ]
  },
  {
   "cell_type": "markdown",
   "metadata": {},
   "source": [
    "Для ревьюера: читала про градиентный бустинг, но не нашла (хотя не очень активно искала), какая это библиотека, метод, функция и т.д. Его здесь вообще уместно будет использовать?"
   ]
  },
  {
   "cell_type": "code",
   "execution_count": 27,
   "metadata": {},
   "outputs": [
    {
     "name": "stdout",
     "output_type": "stream",
     "text": [
      "F1 лучшей модели: 0.6164021164021164\n",
      "ROC-AUC лучшей модели: 0.8627747691613193\n",
      "max_depth = 4\n",
      "n_estimators = 135\n"
     ]
    }
   ],
   "source": [
    "best_model_gb = None\n",
    "best_result = 0\n",
    "best_result_1 = 0 \n",
    "best_depth = 0\n",
    "best_est = 0\n",
    "\n",
    "for est in range(50, 150, 5):\n",
    "\n",
    "    for depth in range(2, 15):\n",
    "        gb = GradientBoostingClassifier(random_state=12345, learning_rate=0.1, n_estimators=est, max_depth=depth)\n",
    "        gb.fit(features_train_res, target_train_res)\n",
    "        predictions_valid = gb.predict(features_valid)\n",
    "        result = f1_score(target_valid, predictions_valid)\n",
    "        probabilities_valid = gb.predict_proba(features_valid)\n",
    "        probabilities_one_valid = probabilities_valid[:, 1]\n",
    "        result_1 = roc_auc_score(target_valid, probabilities_one_valid)\n",
    "        if result > best_result and result_1 > best_result_1:\n",
    "            best_model_gb = model\n",
    "            best_result = result\n",
    "            best_result_1 = result_1\n",
    "            best_depth = depth\n",
    "            best_est = est\n",
    "\n",
    "print('F1 лучшей модели:', best_result)\n",
    "print('ROC-AUC лучшей модели:', best_result_1)\n",
    "print('max_depth =', best_depth)\n",
    "print('n_estimators =', best_est)"
   ]
  },
  {
   "cell_type": "markdown",
   "metadata": {},
   "source": [
    "*Вывод по обучению модели после использования SMOTE: лучшая F1-мера (0.89) и площадь AUC-ROC (0.96) у модели градиентного бустинга, далее случайный лес. До 0.59 F1-мера выросла у всех моделей. AUC-ROC выросла у всех моделей.*"
   ]
  },
  {
   "cell_type": "markdown",
   "metadata": {},
   "source": [
    "<font size=\"5\"><p style=\"text-align:center\"><b> ***Шаг 4. Тестирование*** </b></p></font>"
   ]
  },
  {
   "cell_type": "markdown",
   "metadata": {},
   "source": [
    "Тестируем модель случайный лес."
   ]
  },
  {
   "cell_type": "code",
   "execution_count": 28,
   "metadata": {
    "scrolled": false
   },
   "outputs": [
    {
     "name": "stdout",
     "output_type": "stream",
     "text": [
      "F1: 0.6091370558375635\n",
      "ROC-AUC: 0.8520868103580475\n"
     ]
    }
   ],
   "source": [
    "rf = RandomForestClassifier(random_state=12345, n_estimators=115, max_depth=8)\n",
    "rf.fit(features_train_res, target_train_res)\n",
    "predictions = rf.predict(features_test)\n",
    "\n",
    "print('F1:', f1_score(target_test, predictions))\n",
    "\n",
    "probabilities_test = rf.predict_proba(features_test)\n",
    "probabilities_one_test = probabilities_test[:, 1]\n",
    "print('ROC-AUC:', roc_auc_score(target_test, probabilities_one_test))"
   ]
  },
  {
   "cell_type": "markdown",
   "metadata": {},
   "source": [
    "Тестируем модель градиентный бустинг."
   ]
  },
  {
   "cell_type": "code",
   "execution_count": 29,
   "metadata": {},
   "outputs": [
    {
     "name": "stdout",
     "output_type": "stream",
     "text": [
      "F1: 0.6345123258306538\n",
      "ROC-AUC: 0.8627445579755565\n"
     ]
    }
   ],
   "source": [
    "gb = GradientBoostingClassifier(random_state=42, learning_rate=0.1, n_estimators=135, max_depth=2)\n",
    "gb.fit(features_train_res, target_train_res)\n",
    "predictions = gb.predict(features_test)\n",
    "\n",
    "print('F1:', f1_score(target_test, predictions))\n",
    "\n",
    "probabilities_test = gb.predict_proba(features_test)\n",
    "probabilities_one_test = probabilities_test[:, 1]\n",
    "print('ROC-AUC:', roc_auc_score(target_test, probabilities_one_test))"
   ]
  },
  {
   "cell_type": "markdown",
   "metadata": {},
   "source": [
    "Попробуем конкатенировать выборки и вновь тестировать модель случайный лес."
   ]
  },
  {
   "cell_type": "code",
   "execution_count": 30,
   "metadata": {
    "scrolled": true
   },
   "outputs": [
    {
     "name": "stdout",
     "output_type": "stream",
     "text": [
      "F1: 0.6298342541436465\n",
      "ROC-AUC: 0.8563522915236776\n"
     ]
    }
   ],
   "source": [
    "features = pd.concat([features_train_res, features_valid])\n",
    "target = pd.concat([target_train_res, target_valid])\n",
    "rf.fit(features, target)\n",
    "predictions = rf.predict(features_test)\n",
    "print('F1:', f1_score(target_test, predictions))\n",
    "\n",
    "probabilities_test = rf.predict_proba(features_test)\n",
    "probabilities_one_test = probabilities_test[:, 1]\n",
    "print('ROC-AUC:', roc_auc_score(target_test, probabilities_one_test))"
   ]
  },
  {
   "cell_type": "markdown",
   "metadata": {},
   "source": [
    "Теперь градиентный бустинг после объединения выборок."
   ]
  },
  {
   "cell_type": "code",
   "execution_count": 31,
   "metadata": {},
   "outputs": [
    {
     "name": "stdout",
     "output_type": "stream",
     "text": [
      "F1: 0.6453143534994069\n",
      "ROC-AUC: 0.8669065658633469\n"
     ]
    }
   ],
   "source": [
    "gb.fit(features, target)\n",
    "predictions = gb.predict(features_test)\n",
    "print('F1:', f1_score(target_test, predictions))\n",
    "\n",
    "probabilities_test = gb.predict_proba(features_test)\n",
    "probabilities_one_test = probabilities_test[:, 1]\n",
    "print('ROC-AUC:', roc_auc_score(target_test, probabilities_one_test))"
   ]
  },
  {
   "cell_type": "markdown",
   "metadata": {},
   "source": [
    "Дообучение немного повысило метрики."
   ]
  },
  {
   "cell_type": "markdown",
   "metadata": {},
   "source": [
    "Проверим модель на вменяемость."
   ]
  },
  {
   "cell_type": "code",
   "execution_count": 32,
   "metadata": {},
   "outputs": [
    {
     "name": "stdout",
     "output_type": "stream",
     "text": [
      "Accuracy: 0.8325\n"
     ]
    }
   ],
   "source": [
    "print('Accuracy:', rf.score(features_test, target_test))"
   ]
  },
  {
   "cell_type": "code",
   "execution_count": 33,
   "metadata": {},
   "outputs": [
    {
     "data": {
      "text/plain": [
       "0.7865"
      ]
     },
     "execution_count": 33,
     "metadata": {},
     "output_type": "execute_result"
    }
   ],
   "source": [
    "dummy_clf = DummyClassifier(strategy=\"most_frequent\", random_state=1)\n",
    "dummy_clf.fit(features_train, target_train)\n",
    "dummy_clf.predict(features_test)\n",
    "dummy_clf.score(features_test, target_test)"
   ]
  },
  {
   "cell_type": "markdown",
   "metadata": {},
   "source": [
    "Модель адекватна."
   ]
  },
  {
   "cell_type": "markdown",
   "metadata": {},
   "source": [
    "<font size=\"5\"><p style=\"text-align:center\"><b> ***Вывод*** </b></p></font>"
   ]
  },
  {
   "cell_type": "markdown",
   "metadata": {},
   "source": [
    "1. Мы выполнили обзор данных: таблицы со сведениями о поведении клиентов банка. Устранили неинформативные признаки, применили прямое кодирование объектных признаков, масштабирование числовых небинарных признаков. Разделили данные на обучающую, валидационную и тестовую выборки.\n",
    "\n",
    "2. Выявили дисбаланс классов. Создали несколько моделей для задачи классификации, выявили оптимальные гиперпараметры, определили метрики без учёта дисбаланса классов.\n",
    "\n",
    "3. Далее обучили модели с учётом дисбаланса классов, обнаружили, что лучшие F1-мера и ROC-AUC у модели градиентного бустинга и случайного леса.\n",
    "\n",
    "3. При тестировании модели на тестовой выборке добились значения 0.65 для F1-меры и 0.87 для ROC-AUC.\n",
    "\n",
    "4. Проверили нашу модель на вменяемость.\n",
    "\n",
    "Лучшей моделью для подбора тарифа для прогноза оттока клиентов банка \"Бета-банк\" является модель \"градиентный бустинг\"."
   ]
  }
 ],
 "metadata": {
  "ExecuteTimeLog": [
   {
    "duration": 1837,
    "start_time": "2022-12-07T13:06:53.229Z"
   },
   {
    "duration": 122,
    "start_time": "2022-12-07T13:06:56.931Z"
   },
   {
    "duration": 14,
    "start_time": "2022-12-07T13:06:59.155Z"
   },
   {
    "duration": 24,
    "start_time": "2022-12-07T13:09:13.305Z"
   },
   {
    "duration": 213,
    "start_time": "2022-12-07T13:16:09.030Z"
   },
   {
    "duration": 109,
    "start_time": "2022-12-07T13:16:18.341Z"
   },
   {
    "duration": 151,
    "start_time": "2022-12-07T13:16:55.277Z"
   },
   {
    "duration": 118,
    "start_time": "2022-12-07T13:18:45.340Z"
   },
   {
    "duration": 19,
    "start_time": "2022-12-07T13:18:56.538Z"
   },
   {
    "duration": 20,
    "start_time": "2022-12-07T13:19:14.650Z"
   },
   {
    "duration": 19,
    "start_time": "2022-12-07T13:19:35.448Z"
   },
   {
    "duration": 15,
    "start_time": "2022-12-07T13:30:45.257Z"
   },
   {
    "duration": 15,
    "start_time": "2022-12-07T13:31:10.073Z"
   },
   {
    "duration": 803,
    "start_time": "2022-12-07T13:31:20.327Z"
   },
   {
    "duration": 20,
    "start_time": "2022-12-07T13:31:26.303Z"
   },
   {
    "duration": 16,
    "start_time": "2022-12-07T13:31:32.744Z"
   },
   {
    "duration": 31,
    "start_time": "2022-12-07T13:31:48.550Z"
   },
   {
    "duration": 19,
    "start_time": "2022-12-07T13:31:56.400Z"
   },
   {
    "duration": 1508,
    "start_time": "2022-12-07T14:55:55.339Z"
   },
   {
    "duration": 76,
    "start_time": "2022-12-07T14:55:56.849Z"
   },
   {
    "duration": 16,
    "start_time": "2022-12-07T14:55:56.927Z"
   },
   {
    "duration": 57,
    "start_time": "2022-12-07T14:55:56.944Z"
   },
   {
    "duration": 330,
    "start_time": "2022-12-07T14:55:57.003Z"
   },
   {
    "duration": 145,
    "start_time": "2022-12-07T14:56:40.464Z"
   },
   {
    "duration": 17,
    "start_time": "2022-12-07T14:56:50.169Z"
   },
   {
    "duration": 14,
    "start_time": "2022-12-07T15:00:44.108Z"
   },
   {
    "duration": 1416,
    "start_time": "2022-12-07T15:01:00.008Z"
   },
   {
    "duration": 64,
    "start_time": "2022-12-07T15:01:01.426Z"
   },
   {
    "duration": 15,
    "start_time": "2022-12-07T15:01:01.492Z"
   },
   {
    "duration": 27,
    "start_time": "2022-12-07T15:01:01.509Z"
   },
   {
    "duration": 310,
    "start_time": "2022-12-07T15:01:01.538Z"
   },
   {
    "duration": 115,
    "start_time": "2022-12-07T15:01:17.327Z"
   },
   {
    "duration": 14,
    "start_time": "2022-12-07T15:18:29.690Z"
   },
   {
    "duration": 1364,
    "start_time": "2022-12-07T15:18:50.827Z"
   },
   {
    "duration": 63,
    "start_time": "2022-12-07T15:18:52.193Z"
   },
   {
    "duration": 13,
    "start_time": "2022-12-07T15:18:52.258Z"
   },
   {
    "duration": 16,
    "start_time": "2022-12-07T15:18:52.273Z"
   },
   {
    "duration": 238,
    "start_time": "2022-12-07T15:18:52.291Z"
   },
   {
    "duration": 1484,
    "start_time": "2022-12-08T15:36:06.668Z"
   },
   {
    "duration": 213,
    "start_time": "2022-12-08T15:36:08.154Z"
   },
   {
    "duration": 13,
    "start_time": "2022-12-08T15:36:08.369Z"
   },
   {
    "duration": 25,
    "start_time": "2022-12-08T15:36:08.383Z"
   },
   {
    "duration": 215,
    "start_time": "2022-12-08T15:36:08.410Z"
   },
   {
    "duration": 108,
    "start_time": "2022-12-08T15:36:48.359Z"
   },
   {
    "duration": 22,
    "start_time": "2022-12-08T15:37:01.717Z"
   },
   {
    "duration": 13,
    "start_time": "2022-12-08T15:37:51.104Z"
   },
   {
    "duration": 13,
    "start_time": "2022-12-08T15:38:00.051Z"
   },
   {
    "duration": 14,
    "start_time": "2022-12-08T15:38:12.291Z"
   },
   {
    "duration": 19,
    "start_time": "2022-12-08T15:39:16.712Z"
   },
   {
    "duration": 13,
    "start_time": "2022-12-08T15:39:48.905Z"
   },
   {
    "duration": 1344,
    "start_time": "2022-12-08T15:40:27.585Z"
   },
   {
    "duration": 74,
    "start_time": "2022-12-08T15:40:28.935Z"
   },
   {
    "duration": 14,
    "start_time": "2022-12-08T15:40:29.011Z"
   },
   {
    "duration": 32,
    "start_time": "2022-12-08T15:40:29.027Z"
   },
   {
    "duration": 4,
    "start_time": "2022-12-08T15:40:29.060Z"
   },
   {
    "duration": 112,
    "start_time": "2022-12-08T15:40:38.866Z"
   },
   {
    "duration": 9,
    "start_time": "2022-12-08T15:41:29.171Z"
   },
   {
    "duration": 11,
    "start_time": "2022-12-08T15:41:33.750Z"
   },
   {
    "duration": 18,
    "start_time": "2022-12-08T15:42:35.738Z"
   },
   {
    "duration": 10,
    "start_time": "2022-12-08T15:43:08.353Z"
   },
   {
    "duration": 10,
    "start_time": "2022-12-08T15:44:36.397Z"
   },
   {
    "duration": 2,
    "start_time": "2022-12-08T15:46:14.158Z"
   },
   {
    "duration": 6,
    "start_time": "2022-12-08T15:46:22.687Z"
   },
   {
    "duration": 1246,
    "start_time": "2022-12-08T15:46:39.081Z"
   },
   {
    "duration": 74,
    "start_time": "2022-12-08T15:46:40.329Z"
   },
   {
    "duration": 12,
    "start_time": "2022-12-08T15:46:40.405Z"
   },
   {
    "duration": 27,
    "start_time": "2022-12-08T15:46:40.419Z"
   },
   {
    "duration": 15,
    "start_time": "2022-12-08T15:46:40.448Z"
   },
   {
    "duration": 123,
    "start_time": "2022-12-08T15:46:40.465Z"
   },
   {
    "duration": 10,
    "start_time": "2022-12-08T15:46:52.552Z"
   },
   {
    "duration": 1317,
    "start_time": "2022-12-08T15:47:10.650Z"
   },
   {
    "duration": 80,
    "start_time": "2022-12-08T15:47:11.969Z"
   },
   {
    "duration": 13,
    "start_time": "2022-12-08T15:47:12.050Z"
   },
   {
    "duration": 21,
    "start_time": "2022-12-08T15:47:12.065Z"
   },
   {
    "duration": 5,
    "start_time": "2022-12-08T15:47:12.087Z"
   },
   {
    "duration": 119,
    "start_time": "2022-12-08T15:47:12.094Z"
   },
   {
    "duration": 9,
    "start_time": "2022-12-08T15:48:47.538Z"
   },
   {
    "duration": 1316,
    "start_time": "2022-12-08T15:49:43.939Z"
   },
   {
    "duration": 78,
    "start_time": "2022-12-08T15:49:45.258Z"
   },
   {
    "duration": 12,
    "start_time": "2022-12-08T15:49:45.338Z"
   },
   {
    "duration": 29,
    "start_time": "2022-12-08T15:49:45.352Z"
   },
   {
    "duration": 9,
    "start_time": "2022-12-08T15:49:45.383Z"
   },
   {
    "duration": 34,
    "start_time": "2022-12-08T15:49:45.393Z"
   },
   {
    "duration": 100,
    "start_time": "2022-12-08T15:50:03.211Z"
   },
   {
    "duration": 16,
    "start_time": "2022-12-08T15:50:11.354Z"
   },
   {
    "duration": 10,
    "start_time": "2022-12-08T15:50:56.859Z"
   },
   {
    "duration": 9,
    "start_time": "2022-12-08T15:51:08.500Z"
   },
   {
    "duration": 1303,
    "start_time": "2022-12-08T15:51:19.266Z"
   },
   {
    "duration": 85,
    "start_time": "2022-12-08T15:51:20.571Z"
   },
   {
    "duration": 16,
    "start_time": "2022-12-08T15:51:20.658Z"
   },
   {
    "duration": 15,
    "start_time": "2022-12-08T15:51:20.676Z"
   },
   {
    "duration": 3,
    "start_time": "2022-12-08T15:51:20.693Z"
   },
   {
    "duration": 40,
    "start_time": "2022-12-08T15:51:20.697Z"
   },
   {
    "duration": 109,
    "start_time": "2022-12-08T15:52:08.268Z"
   },
   {
    "duration": 1280,
    "start_time": "2022-12-08T15:52:22.159Z"
   },
   {
    "duration": 72,
    "start_time": "2022-12-08T15:52:23.441Z"
   },
   {
    "duration": 21,
    "start_time": "2022-12-08T15:52:23.515Z"
   },
   {
    "duration": 20,
    "start_time": "2022-12-08T15:52:23.539Z"
   },
   {
    "duration": 11,
    "start_time": "2022-12-08T15:52:23.560Z"
   },
   {
    "duration": 27,
    "start_time": "2022-12-08T15:52:23.572Z"
   },
   {
    "duration": 108,
    "start_time": "2022-12-08T15:53:08.246Z"
   },
   {
    "duration": 1319,
    "start_time": "2022-12-08T15:53:20.568Z"
   },
   {
    "duration": 78,
    "start_time": "2022-12-08T15:53:21.889Z"
   },
   {
    "duration": 14,
    "start_time": "2022-12-08T15:53:21.968Z"
   },
   {
    "duration": 16,
    "start_time": "2022-12-08T15:53:21.984Z"
   },
   {
    "duration": 3,
    "start_time": "2022-12-08T15:53:22.001Z"
   },
   {
    "duration": 29,
    "start_time": "2022-12-08T15:53:22.006Z"
   },
   {
    "duration": 122,
    "start_time": "2022-12-08T15:53:46.880Z"
   },
   {
    "duration": 1361,
    "start_time": "2022-12-08T15:53:55.216Z"
   },
   {
    "duration": 85,
    "start_time": "2022-12-08T15:53:56.579Z"
   },
   {
    "duration": 14,
    "start_time": "2022-12-08T15:53:56.665Z"
   },
   {
    "duration": 16,
    "start_time": "2022-12-08T15:53:56.681Z"
   },
   {
    "duration": 3,
    "start_time": "2022-12-08T15:53:56.700Z"
   },
   {
    "duration": 25,
    "start_time": "2022-12-08T15:53:56.704Z"
   },
   {
    "duration": 5,
    "start_time": "2022-12-08T15:55:12.895Z"
   },
   {
    "duration": 11,
    "start_time": "2022-12-08T15:55:27.247Z"
   },
   {
    "duration": 110,
    "start_time": "2022-12-08T16:05:32.776Z"
   },
   {
    "duration": 1303,
    "start_time": "2022-12-08T16:05:49.188Z"
   },
   {
    "duration": 79,
    "start_time": "2022-12-08T16:05:50.493Z"
   },
   {
    "duration": 14,
    "start_time": "2022-12-08T16:05:50.574Z"
   },
   {
    "duration": 16,
    "start_time": "2022-12-08T16:05:50.589Z"
   },
   {
    "duration": 3,
    "start_time": "2022-12-08T16:05:50.607Z"
   },
   {
    "duration": 28,
    "start_time": "2022-12-08T16:05:50.611Z"
   },
   {
    "duration": 26,
    "start_time": "2022-12-08T16:05:50.641Z"
   },
   {
    "duration": 12,
    "start_time": "2022-12-08T16:43:25.136Z"
   },
   {
    "duration": 19,
    "start_time": "2022-12-08T16:45:26.018Z"
   },
   {
    "duration": 123,
    "start_time": "2022-12-08T16:47:08.187Z"
   },
   {
    "duration": 103,
    "start_time": "2022-12-08T16:47:20.500Z"
   },
   {
    "duration": 111,
    "start_time": "2022-12-08T16:47:27.373Z"
   },
   {
    "duration": 112,
    "start_time": "2022-12-08T16:47:30.636Z"
   },
   {
    "duration": 97,
    "start_time": "2022-12-08T16:47:34.157Z"
   },
   {
    "duration": 168,
    "start_time": "2022-12-08T16:50:38.151Z"
   },
   {
    "duration": 1370,
    "start_time": "2022-12-08T20:13:12.273Z"
   },
   {
    "duration": 74,
    "start_time": "2022-12-08T20:13:13.646Z"
   },
   {
    "duration": 14,
    "start_time": "2022-12-08T20:13:13.721Z"
   },
   {
    "duration": 31,
    "start_time": "2022-12-08T20:13:13.737Z"
   },
   {
    "duration": 11,
    "start_time": "2022-12-08T20:13:13.770Z"
   },
   {
    "duration": 168,
    "start_time": "2022-12-08T20:13:13.782Z"
   },
   {
    "duration": 0,
    "start_time": "2022-12-08T20:13:13.952Z"
   },
   {
    "duration": 0,
    "start_time": "2022-12-08T20:13:13.953Z"
   },
   {
    "duration": 0,
    "start_time": "2022-12-08T20:13:13.954Z"
   },
   {
    "duration": 12,
    "start_time": "2022-12-08T20:13:51.758Z"
   },
   {
    "duration": 284,
    "start_time": "2022-12-08T20:13:56.328Z"
   },
   {
    "duration": 1449,
    "start_time": "2022-12-08T20:14:04.487Z"
   },
   {
    "duration": 73,
    "start_time": "2022-12-08T20:14:05.938Z"
   },
   {
    "duration": 13,
    "start_time": "2022-12-08T20:14:06.013Z"
   },
   {
    "duration": 56,
    "start_time": "2022-12-08T20:14:06.028Z"
   },
   {
    "duration": 13,
    "start_time": "2022-12-08T20:14:06.086Z"
   },
   {
    "duration": 19,
    "start_time": "2022-12-08T20:14:06.100Z"
   },
   {
    "duration": 406,
    "start_time": "2022-12-08T20:14:06.121Z"
   },
   {
    "duration": 0,
    "start_time": "2022-12-08T20:14:06.529Z"
   },
   {
    "duration": 1472,
    "start_time": "2022-12-08T20:15:35.435Z"
   },
   {
    "duration": 68,
    "start_time": "2022-12-08T20:15:36.909Z"
   },
   {
    "duration": 13,
    "start_time": "2022-12-08T20:15:36.979Z"
   },
   {
    "duration": 17,
    "start_time": "2022-12-08T20:15:36.994Z"
   },
   {
    "duration": 3,
    "start_time": "2022-12-08T20:15:37.013Z"
   },
   {
    "duration": 18,
    "start_time": "2022-12-08T20:15:37.018Z"
   },
   {
    "duration": 13,
    "start_time": "2022-12-08T20:15:37.037Z"
   },
   {
    "duration": 133,
    "start_time": "2022-12-08T20:15:37.052Z"
   },
   {
    "duration": 116,
    "start_time": "2022-12-08T20:16:48.817Z"
   },
   {
    "duration": 13,
    "start_time": "2022-12-08T20:17:16.136Z"
   },
   {
    "duration": 1358,
    "start_time": "2022-12-08T20:17:41.521Z"
   },
   {
    "duration": 73,
    "start_time": "2022-12-08T20:17:42.881Z"
   },
   {
    "duration": 15,
    "start_time": "2022-12-08T20:17:42.956Z"
   },
   {
    "duration": 28,
    "start_time": "2022-12-08T20:17:42.973Z"
   },
   {
    "duration": 15,
    "start_time": "2022-12-08T20:17:43.003Z"
   },
   {
    "duration": 411,
    "start_time": "2022-12-08T20:17:43.019Z"
   },
   {
    "duration": 0,
    "start_time": "2022-12-08T20:17:43.432Z"
   },
   {
    "duration": 0,
    "start_time": "2022-12-08T20:17:43.433Z"
   },
   {
    "duration": 16,
    "start_time": "2022-12-08T20:18:10.924Z"
   },
   {
    "duration": 1317,
    "start_time": "2022-12-08T20:19:11.404Z"
   },
   {
    "duration": 72,
    "start_time": "2022-12-08T20:19:12.723Z"
   },
   {
    "duration": 13,
    "start_time": "2022-12-08T20:19:12.797Z"
   },
   {
    "duration": 35,
    "start_time": "2022-12-08T20:19:12.812Z"
   },
   {
    "duration": 32,
    "start_time": "2022-12-08T20:19:12.849Z"
   },
   {
    "duration": 18,
    "start_time": "2022-12-08T20:19:12.883Z"
   },
   {
    "duration": 408,
    "start_time": "2022-12-08T20:19:12.902Z"
   },
   {
    "duration": 0,
    "start_time": "2022-12-08T20:19:13.312Z"
   },
   {
    "duration": 0,
    "start_time": "2022-12-08T20:19:13.314Z"
   },
   {
    "duration": 277,
    "start_time": "2022-12-08T20:19:34.211Z"
   },
   {
    "duration": 13,
    "start_time": "2022-12-08T20:19:58.470Z"
   },
   {
    "duration": 11,
    "start_time": "2022-12-08T20:20:01.508Z"
   },
   {
    "duration": 1150,
    "start_time": "2022-12-08T20:21:06.492Z"
   },
   {
    "duration": 12,
    "start_time": "2022-12-08T20:21:15.060Z"
   },
   {
    "duration": 1103,
    "start_time": "2022-12-08T20:21:29.441Z"
   },
   {
    "duration": 1248,
    "start_time": "2022-12-08T20:21:46.880Z"
   },
   {
    "duration": 69,
    "start_time": "2022-12-08T20:21:48.130Z"
   },
   {
    "duration": 12,
    "start_time": "2022-12-08T20:21:48.201Z"
   },
   {
    "duration": 14,
    "start_time": "2022-12-08T20:21:48.215Z"
   },
   {
    "duration": 3,
    "start_time": "2022-12-08T20:21:48.231Z"
   },
   {
    "duration": 9,
    "start_time": "2022-12-08T20:21:48.235Z"
   },
   {
    "duration": 411,
    "start_time": "2022-12-08T20:21:48.245Z"
   },
   {
    "duration": 0,
    "start_time": "2022-12-08T20:21:48.657Z"
   },
   {
    "duration": 0,
    "start_time": "2022-12-08T20:21:48.658Z"
   },
   {
    "duration": 280,
    "start_time": "2022-12-08T20:24:13.114Z"
   },
   {
    "duration": 1345,
    "start_time": "2022-12-08T21:39:40.739Z"
   },
   {
    "duration": 74,
    "start_time": "2022-12-08T21:39:42.085Z"
   },
   {
    "duration": 13,
    "start_time": "2022-12-08T21:39:42.161Z"
   },
   {
    "duration": 15,
    "start_time": "2022-12-08T21:39:42.176Z"
   },
   {
    "duration": 4,
    "start_time": "2022-12-08T21:39:42.192Z"
   },
   {
    "duration": 5,
    "start_time": "2022-12-08T21:39:42.197Z"
   },
   {
    "duration": 389,
    "start_time": "2022-12-08T21:39:42.204Z"
   },
   {
    "duration": 0,
    "start_time": "2022-12-08T21:39:42.595Z"
   },
   {
    "duration": 0,
    "start_time": "2022-12-08T21:39:42.596Z"
   },
   {
    "duration": 1315,
    "start_time": "2022-12-08T21:42:36.943Z"
   },
   {
    "duration": 73,
    "start_time": "2022-12-08T21:42:38.259Z"
   },
   {
    "duration": 13,
    "start_time": "2022-12-08T21:42:38.333Z"
   },
   {
    "duration": 15,
    "start_time": "2022-12-08T21:42:38.348Z"
   },
   {
    "duration": 3,
    "start_time": "2022-12-08T21:42:38.364Z"
   },
   {
    "duration": 10,
    "start_time": "2022-12-08T21:42:38.368Z"
   },
   {
    "duration": 13,
    "start_time": "2022-12-08T21:42:38.379Z"
   },
   {
    "duration": 47,
    "start_time": "2022-12-08T21:42:38.394Z"
   },
   {
    "duration": 128,
    "start_time": "2022-12-08T21:42:38.442Z"
   },
   {
    "duration": 154,
    "start_time": "2022-12-08T21:42:38.572Z"
   },
   {
    "duration": 508,
    "start_time": "2022-12-08T21:42:38.729Z"
   },
   {
    "duration": 49023,
    "start_time": "2022-12-08T21:42:39.238Z"
   },
   {
    "duration": 1270,
    "start_time": "2022-12-08T21:44:13.074Z"
   },
   {
    "duration": 79,
    "start_time": "2022-12-08T21:44:14.346Z"
   },
   {
    "duration": 13,
    "start_time": "2022-12-08T21:44:14.429Z"
   },
   {
    "duration": 53,
    "start_time": "2022-12-08T21:44:14.444Z"
   },
   {
    "duration": 31,
    "start_time": "2022-12-08T21:44:14.499Z"
   },
   {
    "duration": 31,
    "start_time": "2022-12-08T21:44:14.532Z"
   },
   {
    "duration": 37,
    "start_time": "2022-12-08T21:44:14.564Z"
   },
   {
    "duration": 45,
    "start_time": "2022-12-08T21:44:14.602Z"
   },
   {
    "duration": 123,
    "start_time": "2022-12-08T21:44:14.649Z"
   },
   {
    "duration": 56,
    "start_time": "2022-12-08T21:44:14.774Z"
   },
   {
    "duration": 605,
    "start_time": "2022-12-08T21:44:14.832Z"
   },
   {
    "duration": 48573,
    "start_time": "2022-12-08T21:44:15.439Z"
   },
   {
    "duration": 1569,
    "start_time": "2022-12-09T08:43:02.215Z"
   },
   {
    "duration": 209,
    "start_time": "2022-12-09T08:43:03.786Z"
   },
   {
    "duration": 22,
    "start_time": "2022-12-09T08:43:03.998Z"
   },
   {
    "duration": 18,
    "start_time": "2022-12-09T08:43:04.022Z"
   },
   {
    "duration": 4,
    "start_time": "2022-12-09T08:43:04.042Z"
   },
   {
    "duration": 13,
    "start_time": "2022-12-09T08:43:04.048Z"
   },
   {
    "duration": 9,
    "start_time": "2022-12-09T08:43:04.063Z"
   },
   {
    "duration": 53,
    "start_time": "2022-12-09T08:43:04.074Z"
   },
   {
    "duration": 202,
    "start_time": "2022-12-09T08:43:04.130Z"
   },
   {
    "duration": 82,
    "start_time": "2022-12-09T08:43:04.334Z"
   },
   {
    "duration": 708,
    "start_time": "2022-12-09T08:43:04.418Z"
   },
   {
    "duration": 51639,
    "start_time": "2022-12-09T08:43:05.129Z"
   },
   {
    "duration": 4,
    "start_time": "2022-12-09T08:47:21.406Z"
   },
   {
    "duration": 68,
    "start_time": "2022-12-09T08:48:59.048Z"
   },
   {
    "duration": 536,
    "start_time": "2022-12-09T08:49:26.882Z"
   },
   {
    "duration": 50583,
    "start_time": "2022-12-09T08:49:45.144Z"
   },
   {
    "duration": 77,
    "start_time": "2022-12-09T09:25:55.238Z"
   },
   {
    "duration": 94,
    "start_time": "2022-12-09T09:27:32.419Z"
   },
   {
    "duration": 64,
    "start_time": "2022-12-09T09:27:56.548Z"
   },
   {
    "duration": 203,
    "start_time": "2022-12-09T09:29:16.547Z"
   },
   {
    "duration": 213,
    "start_time": "2022-12-09T09:30:17.702Z"
   },
   {
    "duration": 1334,
    "start_time": "2022-12-09T09:31:12.998Z"
   },
   {
    "duration": 75,
    "start_time": "2022-12-09T09:31:14.334Z"
   },
   {
    "duration": 14,
    "start_time": "2022-12-09T09:31:14.411Z"
   },
   {
    "duration": 21,
    "start_time": "2022-12-09T09:31:14.427Z"
   },
   {
    "duration": 3,
    "start_time": "2022-12-09T09:31:14.449Z"
   },
   {
    "duration": 9,
    "start_time": "2022-12-09T09:31:14.454Z"
   },
   {
    "duration": 16,
    "start_time": "2022-12-09T09:31:14.465Z"
   },
   {
    "duration": 33,
    "start_time": "2022-12-09T09:31:14.483Z"
   },
   {
    "duration": 115,
    "start_time": "2022-12-09T09:31:14.518Z"
   },
   {
    "duration": 74,
    "start_time": "2022-12-09T09:31:14.636Z"
   },
   {
    "duration": 681,
    "start_time": "2022-12-09T09:31:14.712Z"
   },
   {
    "duration": 51452,
    "start_time": "2022-12-09T09:31:15.395Z"
   },
   {
    "duration": 167,
    "start_time": "2022-12-09T09:32:06.848Z"
   },
   {
    "duration": 141,
    "start_time": "2022-12-09T09:32:07.016Z"
   },
   {
    "duration": 239,
    "start_time": "2022-12-09T09:32:07.159Z"
   },
   {
    "duration": 8624,
    "start_time": "2022-12-09T10:15:02.792Z"
   },
   {
    "duration": 3429,
    "start_time": "2022-12-09T10:15:40.288Z"
   },
   {
    "duration": 78,
    "start_time": "2022-12-09T10:15:43.719Z"
   },
   {
    "duration": 14,
    "start_time": "2022-12-09T10:15:43.798Z"
   },
   {
    "duration": 22,
    "start_time": "2022-12-09T10:15:43.814Z"
   },
   {
    "duration": 11,
    "start_time": "2022-12-09T10:15:43.838Z"
   },
   {
    "duration": 32,
    "start_time": "2022-12-09T10:15:43.851Z"
   },
   {
    "duration": 21,
    "start_time": "2022-12-09T10:15:43.885Z"
   },
   {
    "duration": 37,
    "start_time": "2022-12-09T10:15:43.907Z"
   },
   {
    "duration": 142,
    "start_time": "2022-12-09T10:15:43.945Z"
   },
   {
    "duration": 123,
    "start_time": "2022-12-09T10:15:44.089Z"
   },
   {
    "duration": 675,
    "start_time": "2022-12-09T10:15:44.214Z"
   },
   {
    "duration": 52818,
    "start_time": "2022-12-09T10:15:44.891Z"
   },
   {
    "duration": 102,
    "start_time": "2022-12-09T10:16:37.711Z"
   },
   {
    "duration": 152,
    "start_time": "2022-12-09T10:16:37.908Z"
   },
   {
    "duration": 243,
    "start_time": "2022-12-09T10:16:38.062Z"
   },
   {
    "duration": 103,
    "start_time": "2022-12-09T10:36:01.948Z"
   },
   {
    "duration": 178,
    "start_time": "2022-12-09T10:36:08.492Z"
   },
   {
    "duration": 1634,
    "start_time": "2022-12-09T10:44:42.030Z"
   },
   {
    "duration": 2286,
    "start_time": "2022-12-09T10:45:47.535Z"
   },
   {
    "duration": 1560,
    "start_time": "2022-12-09T10:45:54.695Z"
   },
   {
    "duration": 68,
    "start_time": "2022-12-09T10:46:49.918Z"
   },
   {
    "duration": 3492,
    "start_time": "2022-12-09T10:47:30.528Z"
   },
   {
    "duration": 80,
    "start_time": "2022-12-09T10:47:34.023Z"
   },
   {
    "duration": 14,
    "start_time": "2022-12-09T10:47:34.105Z"
   },
   {
    "duration": 35,
    "start_time": "2022-12-09T10:47:34.121Z"
   },
   {
    "duration": 22,
    "start_time": "2022-12-09T10:47:34.158Z"
   },
   {
    "duration": 19,
    "start_time": "2022-12-09T10:47:34.182Z"
   },
   {
    "duration": 11,
    "start_time": "2022-12-09T10:47:34.202Z"
   },
   {
    "duration": 19,
    "start_time": "2022-12-09T10:47:34.214Z"
   },
   {
    "duration": 144,
    "start_time": "2022-12-09T10:47:34.234Z"
   },
   {
    "duration": 225,
    "start_time": "2022-12-09T10:47:34.380Z"
   },
   {
    "duration": 528,
    "start_time": "2022-12-09T10:47:34.609Z"
   },
   {
    "duration": 53703,
    "start_time": "2022-12-09T10:47:35.139Z"
   },
   {
    "duration": 165,
    "start_time": "2022-12-09T10:48:28.844Z"
   },
   {
    "duration": 155,
    "start_time": "2022-12-09T10:48:29.014Z"
   },
   {
    "duration": 227,
    "start_time": "2022-12-09T10:48:29.171Z"
   },
   {
    "duration": 1553,
    "start_time": "2022-12-09T10:48:29.400Z"
   },
   {
    "duration": 216,
    "start_time": "2022-12-09T11:44:12.961Z"
   },
   {
    "duration": 216,
    "start_time": "2022-12-09T11:45:05.211Z"
   },
   {
    "duration": 343,
    "start_time": "2022-12-09T11:45:38.771Z"
   },
   {
    "duration": 336,
    "start_time": "2022-12-09T11:47:04.333Z"
   },
   {
    "duration": 3572,
    "start_time": "2022-12-09T11:47:46.776Z"
   },
   {
    "duration": 73,
    "start_time": "2022-12-09T11:47:50.350Z"
   },
   {
    "duration": 13,
    "start_time": "2022-12-09T11:47:50.426Z"
   },
   {
    "duration": 16,
    "start_time": "2022-12-09T11:47:50.441Z"
   },
   {
    "duration": 4,
    "start_time": "2022-12-09T11:47:50.459Z"
   },
   {
    "duration": 6,
    "start_time": "2022-12-09T11:47:50.464Z"
   },
   {
    "duration": 7,
    "start_time": "2022-12-09T11:47:50.472Z"
   },
   {
    "duration": 36,
    "start_time": "2022-12-09T11:47:50.481Z"
   },
   {
    "duration": 130,
    "start_time": "2022-12-09T11:47:50.519Z"
   },
   {
    "duration": 154,
    "start_time": "2022-12-09T11:47:50.652Z"
   },
   {
    "duration": 530,
    "start_time": "2022-12-09T11:47:50.905Z"
   },
   {
    "duration": 54234,
    "start_time": "2022-12-09T11:47:51.437Z"
   },
   {
    "duration": 140,
    "start_time": "2022-12-09T11:48:45.673Z"
   },
   {
    "duration": 169,
    "start_time": "2022-12-09T11:48:45.907Z"
   },
   {
    "duration": 262,
    "start_time": "2022-12-09T11:48:46.077Z"
   },
   {
    "duration": 389,
    "start_time": "2022-12-09T11:48:46.345Z"
   },
   {
    "duration": 72,
    "start_time": "2022-12-09T11:49:52.072Z"
   },
   {
    "duration": 35,
    "start_time": "2022-12-09T11:52:20.306Z"
   },
   {
    "duration": 332,
    "start_time": "2022-12-09T11:53:05.686Z"
   },
   {
    "duration": 225,
    "start_time": "2022-12-09T11:57:03.584Z"
   },
   {
    "duration": 91,
    "start_time": "2022-12-09T11:59:50.163Z"
   },
   {
    "duration": 122,
    "start_time": "2022-12-09T12:28:29.468Z"
   },
   {
    "duration": 3502,
    "start_time": "2022-12-09T12:28:45.435Z"
   },
   {
    "duration": 76,
    "start_time": "2022-12-09T12:28:48.939Z"
   },
   {
    "duration": 15,
    "start_time": "2022-12-09T12:28:49.018Z"
   },
   {
    "duration": 17,
    "start_time": "2022-12-09T12:28:49.035Z"
   },
   {
    "duration": 3,
    "start_time": "2022-12-09T12:28:49.054Z"
   },
   {
    "duration": 10,
    "start_time": "2022-12-09T12:28:49.059Z"
   },
   {
    "duration": 10,
    "start_time": "2022-12-09T12:28:49.070Z"
   },
   {
    "duration": 42,
    "start_time": "2022-12-09T12:28:49.082Z"
   },
   {
    "duration": 131,
    "start_time": "2022-12-09T12:28:49.126Z"
   },
   {
    "duration": 12,
    "start_time": "2022-12-09T12:28:49.259Z"
   },
   {
    "duration": 135,
    "start_time": "2022-12-09T12:28:49.272Z"
   },
   {
    "duration": 497,
    "start_time": "2022-12-09T12:28:49.409Z"
   },
   {
    "duration": 44117,
    "start_time": "2022-12-09T12:28:49.908Z"
   },
   {
    "duration": 83,
    "start_time": "2022-12-09T12:29:34.027Z"
   },
   {
    "duration": 225,
    "start_time": "2022-12-09T12:29:34.113Z"
   },
   {
    "duration": 189,
    "start_time": "2022-12-09T12:29:34.340Z"
   },
   {
    "duration": 128,
    "start_time": "2022-12-09T12:29:34.531Z"
   },
   {
    "duration": 0,
    "start_time": "2022-12-09T12:29:34.662Z"
   },
   {
    "duration": 0,
    "start_time": "2022-12-09T12:29:34.663Z"
   },
   {
    "duration": 0,
    "start_time": "2022-12-09T12:29:34.665Z"
   },
   {
    "duration": 33,
    "start_time": "2022-12-09T12:46:36.338Z"
   },
   {
    "duration": 136,
    "start_time": "2022-12-09T12:46:43.777Z"
   },
   {
    "duration": 250,
    "start_time": "2022-12-09T12:46:46.313Z"
   },
   {
    "duration": 66,
    "start_time": "2022-12-09T12:46:49.241Z"
   },
   {
    "duration": 67,
    "start_time": "2022-12-09T12:49:46.925Z"
   },
   {
    "duration": 8622,
    "start_time": "2022-12-10T06:54:40.368Z"
   },
   {
    "duration": 0,
    "start_time": "2022-12-10T06:54:48.993Z"
   },
   {
    "duration": 0,
    "start_time": "2022-12-10T06:54:48.994Z"
   },
   {
    "duration": 0,
    "start_time": "2022-12-10T06:54:48.996Z"
   },
   {
    "duration": 0,
    "start_time": "2022-12-10T06:54:48.997Z"
   },
   {
    "duration": 0,
    "start_time": "2022-12-10T06:54:48.998Z"
   },
   {
    "duration": 0,
    "start_time": "2022-12-10T06:54:49.000Z"
   },
   {
    "duration": 0,
    "start_time": "2022-12-10T06:54:49.001Z"
   },
   {
    "duration": 0,
    "start_time": "2022-12-10T06:54:49.002Z"
   },
   {
    "duration": 0,
    "start_time": "2022-12-10T06:54:49.004Z"
   },
   {
    "duration": 0,
    "start_time": "2022-12-10T06:54:49.005Z"
   },
   {
    "duration": 0,
    "start_time": "2022-12-10T06:54:49.006Z"
   },
   {
    "duration": 0,
    "start_time": "2022-12-10T06:54:49.008Z"
   },
   {
    "duration": 0,
    "start_time": "2022-12-10T06:54:49.009Z"
   },
   {
    "duration": 0,
    "start_time": "2022-12-10T06:54:49.010Z"
   },
   {
    "duration": 0,
    "start_time": "2022-12-10T06:54:49.011Z"
   },
   {
    "duration": 0,
    "start_time": "2022-12-10T06:54:49.012Z"
   },
   {
    "duration": 0,
    "start_time": "2022-12-10T06:54:49.013Z"
   },
   {
    "duration": 0,
    "start_time": "2022-12-10T06:54:49.014Z"
   },
   {
    "duration": 0,
    "start_time": "2022-12-10T06:54:49.015Z"
   },
   {
    "duration": 0,
    "start_time": "2022-12-10T06:54:49.016Z"
   },
   {
    "duration": 92,
    "start_time": "2022-12-10T07:01:01.633Z"
   },
   {
    "duration": 72,
    "start_time": "2022-12-10T07:01:24.241Z"
   },
   {
    "duration": 79,
    "start_time": "2022-12-10T07:02:00.359Z"
   },
   {
    "duration": 67,
    "start_time": "2022-12-10T07:02:07.319Z"
   },
   {
    "duration": 73,
    "start_time": "2022-12-10T07:02:13.787Z"
   },
   {
    "duration": 70,
    "start_time": "2022-12-10T07:02:19.899Z"
   },
   {
    "duration": 2205,
    "start_time": "2022-12-10T07:02:42.180Z"
   },
   {
    "duration": 3246,
    "start_time": "2022-12-10T07:03:09.544Z"
   },
   {
    "duration": 197,
    "start_time": "2022-12-10T07:03:12.793Z"
   },
   {
    "duration": 15,
    "start_time": "2022-12-10T07:03:12.992Z"
   },
   {
    "duration": 16,
    "start_time": "2022-12-10T07:03:13.009Z"
   },
   {
    "duration": 4,
    "start_time": "2022-12-10T07:03:13.027Z"
   },
   {
    "duration": 8,
    "start_time": "2022-12-10T07:03:13.033Z"
   },
   {
    "duration": 13,
    "start_time": "2022-12-10T07:03:13.043Z"
   },
   {
    "duration": 41,
    "start_time": "2022-12-10T07:03:13.059Z"
   },
   {
    "duration": 152,
    "start_time": "2022-12-10T07:03:13.102Z"
   },
   {
    "duration": 23,
    "start_time": "2022-12-10T07:03:13.256Z"
   },
   {
    "duration": 101,
    "start_time": "2022-12-10T07:03:13.281Z"
   },
   {
    "duration": 526,
    "start_time": "2022-12-10T07:03:13.389Z"
   },
   {
    "duration": 43376,
    "start_time": "2022-12-10T07:03:13.918Z"
   },
   {
    "duration": 191,
    "start_time": "2022-12-10T07:03:57.296Z"
   },
   {
    "duration": 211,
    "start_time": "2022-12-10T07:03:57.489Z"
   },
   {
    "duration": 181,
    "start_time": "2022-12-10T07:03:57.702Z"
   },
   {
    "duration": 33,
    "start_time": "2022-12-10T07:03:57.885Z"
   },
   {
    "duration": 165,
    "start_time": "2022-12-10T07:03:57.920Z"
   },
   {
    "duration": 227,
    "start_time": "2022-12-10T07:03:58.086Z"
   },
   {
    "duration": 264,
    "start_time": "2022-12-10T07:03:58.315Z"
   },
   {
    "duration": 255,
    "start_time": "2022-12-10T07:03:58.581Z"
   },
   {
    "duration": 21,
    "start_time": "2022-12-10T08:31:34.948Z"
   },
   {
    "duration": 20,
    "start_time": "2022-12-10T08:31:43.661Z"
   },
   {
    "duration": 679,
    "start_time": "2022-12-10T10:14:16.247Z"
   },
   {
    "duration": 91,
    "start_time": "2022-12-10T11:06:36.391Z"
   },
   {
    "duration": 42077,
    "start_time": "2022-12-10T11:07:33.508Z"
   },
   {
    "duration": 396,
    "start_time": "2022-12-10T11:08:15.588Z"
   },
   {
    "duration": 104,
    "start_time": "2022-12-10T11:08:15.985Z"
   },
   {
    "duration": 88,
    "start_time": "2022-12-10T11:08:16.092Z"
   },
   {
    "duration": 0,
    "start_time": "2022-12-10T11:08:16.182Z"
   },
   {
    "duration": 49,
    "start_time": "2022-12-10T11:08:22.130Z"
   },
   {
    "duration": 167,
    "start_time": "2022-12-10T11:08:28.627Z"
   },
   {
    "duration": 341,
    "start_time": "2022-12-10T11:08:53.420Z"
   },
   {
    "duration": 114,
    "start_time": "2022-12-10T11:09:14.969Z"
   },
   {
    "duration": 73,
    "start_time": "2022-12-10T11:09:26.949Z"
   },
   {
    "duration": 266,
    "start_time": "2022-12-10T11:09:35.092Z"
   },
   {
    "duration": 14,
    "start_time": "2022-12-10T11:18:47.334Z"
   },
   {
    "duration": 240,
    "start_time": "2022-12-10T11:20:17.156Z"
   },
   {
    "duration": 3461,
    "start_time": "2022-12-10T11:20:43.501Z"
   },
   {
    "duration": 75,
    "start_time": "2022-12-10T11:20:46.965Z"
   },
   {
    "duration": 16,
    "start_time": "2022-12-10T11:20:47.041Z"
   },
   {
    "duration": 24,
    "start_time": "2022-12-10T11:20:47.058Z"
   },
   {
    "duration": 3,
    "start_time": "2022-12-10T11:20:47.084Z"
   },
   {
    "duration": 24,
    "start_time": "2022-12-10T11:20:47.089Z"
   },
   {
    "duration": 15,
    "start_time": "2022-12-10T11:20:47.115Z"
   },
   {
    "duration": 38,
    "start_time": "2022-12-10T11:20:47.132Z"
   },
   {
    "duration": 691,
    "start_time": "2022-12-10T11:20:47.172Z"
   },
   {
    "duration": 108,
    "start_time": "2022-12-10T11:20:47.865Z"
   },
   {
    "duration": 11,
    "start_time": "2022-12-10T11:20:47.979Z"
   },
   {
    "duration": 88,
    "start_time": "2022-12-10T11:20:47.991Z"
   },
   {
    "duration": 500,
    "start_time": "2022-12-10T11:20:48.080Z"
   },
   {
    "duration": 42059,
    "start_time": "2022-12-10T11:20:48.582Z"
   },
   {
    "duration": 65,
    "start_time": "2022-12-10T11:21:30.642Z"
   },
   {
    "duration": 151,
    "start_time": "2022-12-10T11:21:30.779Z"
   },
   {
    "duration": 217,
    "start_time": "2022-12-10T11:21:30.933Z"
   },
   {
    "duration": 41,
    "start_time": "2022-12-10T11:21:31.151Z"
   },
   {
    "duration": 89,
    "start_time": "2022-12-10T11:21:31.194Z"
   },
   {
    "duration": 239,
    "start_time": "2022-12-10T11:21:31.284Z"
   },
   {
    "duration": 284,
    "start_time": "2022-12-10T11:21:31.525Z"
   },
   {
    "duration": 242,
    "start_time": "2022-12-10T11:21:31.811Z"
   },
   {
    "duration": 247,
    "start_time": "2022-12-10T11:23:45.821Z"
   },
   {
    "duration": 280,
    "start_time": "2022-12-10T11:23:53.870Z"
   },
   {
    "duration": 356,
    "start_time": "2022-12-10T11:24:02.036Z"
   },
   {
    "duration": 455,
    "start_time": "2022-12-10T11:24:10.196Z"
   },
   {
    "duration": 332,
    "start_time": "2022-12-10T11:24:16.256Z"
   },
   {
    "duration": 305,
    "start_time": "2022-12-10T11:24:21.278Z"
   },
   {
    "duration": 232,
    "start_time": "2022-12-10T11:25:53.070Z"
   },
   {
    "duration": 374,
    "start_time": "2022-12-10T11:29:32.906Z"
   },
   {
    "duration": 301,
    "start_time": "2022-12-10T11:29:52.599Z"
   },
   {
    "duration": 211,
    "start_time": "2022-12-10T11:30:00.147Z"
   },
   {
    "duration": 219,
    "start_time": "2022-12-10T11:30:08.213Z"
   },
   {
    "duration": 236,
    "start_time": "2022-12-10T11:30:13.148Z"
   },
   {
    "duration": 264,
    "start_time": "2022-12-10T11:30:18.618Z"
   },
   {
    "duration": 319,
    "start_time": "2022-12-10T11:30:24.722Z"
   },
   {
    "duration": 293,
    "start_time": "2022-12-10T11:30:28.887Z"
   },
   {
    "duration": 311,
    "start_time": "2022-12-10T11:30:36.591Z"
   },
   {
    "duration": 333,
    "start_time": "2022-12-10T11:30:42.709Z"
   },
   {
    "duration": 299,
    "start_time": "2022-12-10T11:30:52.764Z"
   },
   {
    "duration": 331,
    "start_time": "2022-12-10T11:30:58.116Z"
   },
   {
    "duration": 336,
    "start_time": "2022-12-10T11:31:03.356Z"
   },
   {
    "duration": 339,
    "start_time": "2022-12-10T11:31:06.948Z"
   },
   {
    "duration": 67572,
    "start_time": "2022-12-10T11:32:47.306Z"
   },
   {
    "duration": 420,
    "start_time": "2022-12-10T11:34:24.840Z"
   },
   {
    "duration": 89,
    "start_time": "2022-12-10T11:34:40.791Z"
   },
   {
    "duration": 369,
    "start_time": "2022-12-10T11:35:35.030Z"
   },
   {
    "duration": 331,
    "start_time": "2022-12-10T11:35:40.025Z"
   },
   {
    "duration": 380,
    "start_time": "2022-12-10T11:35:44.161Z"
   },
   {
    "duration": 349,
    "start_time": "2022-12-10T11:35:50.048Z"
   },
   {
    "duration": 460,
    "start_time": "2022-12-10T11:35:57.163Z"
   },
   {
    "duration": 371,
    "start_time": "2022-12-10T11:36:03.045Z"
   },
   {
    "duration": 366,
    "start_time": "2022-12-10T11:36:08.900Z"
   },
   {
    "duration": 380,
    "start_time": "2022-12-10T11:36:13.782Z"
   },
   {
    "duration": 410,
    "start_time": "2022-12-10T11:36:32.294Z"
   },
   {
    "duration": 243,
    "start_time": "2022-12-10T11:38:16.576Z"
   },
   {
    "duration": 3149,
    "start_time": "2022-12-10T11:39:04.611Z"
   },
   {
    "duration": 75,
    "start_time": "2022-12-10T11:39:07.763Z"
   },
   {
    "duration": 15,
    "start_time": "2022-12-10T11:39:07.840Z"
   },
   {
    "duration": 19,
    "start_time": "2022-12-10T11:39:07.859Z"
   },
   {
    "duration": 4,
    "start_time": "2022-12-10T11:39:07.880Z"
   },
   {
    "duration": 14,
    "start_time": "2022-12-10T11:39:07.886Z"
   },
   {
    "duration": 9,
    "start_time": "2022-12-10T11:39:07.902Z"
   },
   {
    "duration": 26,
    "start_time": "2022-12-10T11:39:07.913Z"
   },
   {
    "duration": 689,
    "start_time": "2022-12-10T11:39:07.941Z"
   },
   {
    "duration": 119,
    "start_time": "2022-12-10T11:39:08.632Z"
   },
   {
    "duration": 13,
    "start_time": "2022-12-10T11:39:08.752Z"
   },
   {
    "duration": 118,
    "start_time": "2022-12-10T11:39:08.766Z"
   },
   {
    "duration": 604,
    "start_time": "2022-12-10T11:39:08.886Z"
   },
   {
    "duration": 64958,
    "start_time": "2022-12-10T11:39:09.494Z"
   },
   {
    "duration": 126,
    "start_time": "2022-12-10T11:40:14.454Z"
   },
   {
    "duration": 138,
    "start_time": "2022-12-10T11:40:14.584Z"
   },
   {
    "duration": 278,
    "start_time": "2022-12-10T11:40:14.724Z"
   },
   {
    "duration": 37,
    "start_time": "2022-12-10T11:40:15.004Z"
   },
   {
    "duration": 139,
    "start_time": "2022-12-10T11:40:15.043Z"
   },
   {
    "duration": 219,
    "start_time": "2022-12-10T11:40:15.184Z"
   },
   {
    "duration": 230,
    "start_time": "2022-12-10T11:40:15.405Z"
   },
   {
    "duration": 351,
    "start_time": "2022-12-10T11:40:15.637Z"
   },
   {
    "duration": 438,
    "start_time": "2022-12-10T11:40:15.990Z"
   },
   {
    "duration": 345,
    "start_time": "2022-12-10T11:41:30.834Z"
   },
   {
    "duration": 466,
    "start_time": "2022-12-10T11:41:43.152Z"
   },
   {
    "duration": 363,
    "start_time": "2022-12-10T11:43:58.377Z"
   },
   {
    "duration": 21,
    "start_time": "2022-12-10T11:44:59.173Z"
   },
   {
    "duration": 7,
    "start_time": "2022-12-10T11:45:10.181Z"
   },
   {
    "duration": 3141,
    "start_time": "2022-12-10T11:52:37.626Z"
   },
   {
    "duration": 81,
    "start_time": "2022-12-10T11:52:40.770Z"
   },
   {
    "duration": 13,
    "start_time": "2022-12-10T11:52:40.852Z"
   },
   {
    "duration": 16,
    "start_time": "2022-12-10T11:52:40.867Z"
   },
   {
    "duration": 3,
    "start_time": "2022-12-10T11:52:40.885Z"
   },
   {
    "duration": 7,
    "start_time": "2022-12-10T11:52:40.890Z"
   },
   {
    "duration": 8,
    "start_time": "2022-12-10T11:52:40.898Z"
   },
   {
    "duration": 19,
    "start_time": "2022-12-10T11:52:40.907Z"
   },
   {
    "duration": 703,
    "start_time": "2022-12-10T11:52:40.928Z"
   },
   {
    "duration": 109,
    "start_time": "2022-12-10T11:52:41.632Z"
   },
   {
    "duration": 11,
    "start_time": "2022-12-10T11:52:41.743Z"
   },
   {
    "duration": 41,
    "start_time": "2022-12-10T11:52:41.755Z"
   },
   {
    "duration": 464,
    "start_time": "2022-12-10T11:52:41.879Z"
   },
   {
    "duration": 66765,
    "start_time": "2022-12-10T11:52:42.345Z"
   },
   {
    "duration": 78,
    "start_time": "2022-12-10T11:53:49.112Z"
   },
   {
    "duration": 217,
    "start_time": "2022-12-10T11:53:49.192Z"
   },
   {
    "duration": 271,
    "start_time": "2022-12-10T11:53:49.411Z"
   },
   {
    "duration": 31,
    "start_time": "2022-12-10T11:53:49.684Z"
   },
   {
    "duration": 167,
    "start_time": "2022-12-10T11:53:49.716Z"
   },
   {
    "duration": 236,
    "start_time": "2022-12-10T11:53:49.885Z"
   },
   {
    "duration": 256,
    "start_time": "2022-12-10T11:53:50.122Z"
   },
   {
    "duration": 346,
    "start_time": "2022-12-10T11:53:50.381Z"
   },
   {
    "duration": 488,
    "start_time": "2022-12-10T11:53:50.729Z"
   },
   {
    "duration": 21,
    "start_time": "2022-12-10T11:53:51.219Z"
   },
   {
    "duration": 8,
    "start_time": "2022-12-10T11:53:51.242Z"
   },
   {
    "duration": 3152,
    "start_time": "2022-12-10T12:36:16.197Z"
   },
   {
    "duration": 69,
    "start_time": "2022-12-10T12:36:19.351Z"
   },
   {
    "duration": 16,
    "start_time": "2022-12-10T12:36:19.422Z"
   },
   {
    "duration": 17,
    "start_time": "2022-12-10T12:36:19.440Z"
   },
   {
    "duration": 3,
    "start_time": "2022-12-10T12:36:19.459Z"
   },
   {
    "duration": 10,
    "start_time": "2022-12-10T12:36:19.463Z"
   },
   {
    "duration": 7,
    "start_time": "2022-12-10T12:36:19.475Z"
   },
   {
    "duration": 22,
    "start_time": "2022-12-10T12:36:19.484Z"
   },
   {
    "duration": 18,
    "start_time": "2022-12-10T12:36:19.507Z"
   },
   {
    "duration": 709,
    "start_time": "2022-12-10T12:36:19.528Z"
   },
   {
    "duration": 105,
    "start_time": "2022-12-10T12:36:20.239Z"
   },
   {
    "duration": 87,
    "start_time": "2022-12-10T12:36:20.346Z"
   },
   {
    "duration": 0,
    "start_time": "2022-12-10T12:36:20.435Z"
   },
   {
    "duration": 0,
    "start_time": "2022-12-10T12:36:20.436Z"
   },
   {
    "duration": 0,
    "start_time": "2022-12-10T12:36:20.437Z"
   },
   {
    "duration": 0,
    "start_time": "2022-12-10T12:36:20.438Z"
   },
   {
    "duration": 0,
    "start_time": "2022-12-10T12:36:20.439Z"
   },
   {
    "duration": 0,
    "start_time": "2022-12-10T12:36:20.440Z"
   },
   {
    "duration": 0,
    "start_time": "2022-12-10T12:36:20.441Z"
   },
   {
    "duration": 0,
    "start_time": "2022-12-10T12:36:20.442Z"
   },
   {
    "duration": 0,
    "start_time": "2022-12-10T12:36:20.443Z"
   },
   {
    "duration": 0,
    "start_time": "2022-12-10T12:36:20.444Z"
   },
   {
    "duration": 0,
    "start_time": "2022-12-10T12:36:20.445Z"
   },
   {
    "duration": 0,
    "start_time": "2022-12-10T12:36:20.446Z"
   },
   {
    "duration": 0,
    "start_time": "2022-12-10T12:36:20.447Z"
   },
   {
    "duration": 0,
    "start_time": "2022-12-10T12:36:20.448Z"
   },
   {
    "duration": 0,
    "start_time": "2022-12-10T12:36:20.449Z"
   },
   {
    "duration": 13,
    "start_time": "2022-12-10T12:38:20.114Z"
   },
   {
    "duration": 117,
    "start_time": "2022-12-10T12:39:38.423Z"
   },
   {
    "duration": 10,
    "start_time": "2022-12-10T12:40:06.144Z"
   },
   {
    "duration": 23,
    "start_time": "2022-12-10T12:40:30.549Z"
   },
   {
    "duration": 20,
    "start_time": "2022-12-10T12:40:52.673Z"
   },
   {
    "duration": 2,
    "start_time": "2022-12-10T12:45:20.071Z"
   },
   {
    "duration": 3109,
    "start_time": "2022-12-10T12:45:28.131Z"
   },
   {
    "duration": 78,
    "start_time": "2022-12-10T12:45:31.242Z"
   },
   {
    "duration": 14,
    "start_time": "2022-12-10T12:45:31.323Z"
   },
   {
    "duration": 18,
    "start_time": "2022-12-10T12:45:31.339Z"
   },
   {
    "duration": 3,
    "start_time": "2022-12-10T12:45:31.359Z"
   },
   {
    "duration": 6,
    "start_time": "2022-12-10T12:45:31.363Z"
   },
   {
    "duration": 8,
    "start_time": "2022-12-10T12:45:31.371Z"
   },
   {
    "duration": 28,
    "start_time": "2022-12-10T12:45:31.380Z"
   },
   {
    "duration": 19,
    "start_time": "2022-12-10T12:45:31.410Z"
   },
   {
    "duration": 755,
    "start_time": "2022-12-10T12:45:31.430Z"
   },
   {
    "duration": 112,
    "start_time": "2022-12-10T12:45:32.188Z"
   },
   {
    "duration": 12,
    "start_time": "2022-12-10T12:45:32.301Z"
   },
   {
    "duration": 74,
    "start_time": "2022-12-10T12:45:32.315Z"
   },
   {
    "duration": 559,
    "start_time": "2022-12-10T12:45:32.392Z"
   },
   {
    "duration": 4,
    "start_time": "2022-12-10T12:45:32.953Z"
   },
   {
    "duration": 64675,
    "start_time": "2022-12-10T12:45:32.959Z"
   },
   {
    "duration": 48,
    "start_time": "2022-12-10T12:46:37.635Z"
   },
   {
    "duration": 217,
    "start_time": "2022-12-10T12:46:37.685Z"
   },
   {
    "duration": 252,
    "start_time": "2022-12-10T12:46:37.903Z"
   },
   {
    "duration": 49,
    "start_time": "2022-12-10T12:46:38.157Z"
   },
   {
    "duration": 76,
    "start_time": "2022-12-10T12:46:38.208Z"
   },
   {
    "duration": 248,
    "start_time": "2022-12-10T12:46:38.286Z"
   },
   {
    "duration": 267,
    "start_time": "2022-12-10T12:46:38.536Z"
   },
   {
    "duration": 376,
    "start_time": "2022-12-10T12:46:38.805Z"
   },
   {
    "duration": 504,
    "start_time": "2022-12-10T12:46:39.182Z"
   },
   {
    "duration": 21,
    "start_time": "2022-12-10T12:46:39.688Z"
   },
   {
    "duration": 7,
    "start_time": "2022-12-10T12:46:39.711Z"
   },
   {
    "duration": 63469,
    "start_time": "2022-12-10T12:47:34.062Z"
   },
   {
    "duration": 3238,
    "start_time": "2022-12-10T13:06:36.907Z"
   },
   {
    "duration": 77,
    "start_time": "2022-12-10T13:06:40.147Z"
   },
   {
    "duration": 14,
    "start_time": "2022-12-10T13:06:40.226Z"
   },
   {
    "duration": 19,
    "start_time": "2022-12-10T13:06:40.243Z"
   },
   {
    "duration": 4,
    "start_time": "2022-12-10T13:06:40.265Z"
   },
   {
    "duration": 9,
    "start_time": "2022-12-10T13:06:40.271Z"
   },
   {
    "duration": 14,
    "start_time": "2022-12-10T13:06:40.282Z"
   },
   {
    "duration": 23,
    "start_time": "2022-12-10T13:06:40.297Z"
   },
   {
    "duration": 27,
    "start_time": "2022-12-10T13:06:40.322Z"
   },
   {
    "duration": 718,
    "start_time": "2022-12-10T13:06:40.351Z"
   },
   {
    "duration": 124,
    "start_time": "2022-12-10T13:06:41.070Z"
   },
   {
    "duration": 11,
    "start_time": "2022-12-10T13:06:41.196Z"
   },
   {
    "duration": 170,
    "start_time": "2022-12-10T13:06:41.209Z"
   },
   {
    "duration": 498,
    "start_time": "2022-12-10T13:06:41.383Z"
   },
   {
    "duration": 68480,
    "start_time": "2022-12-10T13:06:41.883Z"
   },
   {
    "duration": 3,
    "start_time": "2022-12-10T13:07:50.364Z"
   },
   {
    "duration": 109,
    "start_time": "2022-12-10T13:07:50.369Z"
   },
   {
    "duration": 140,
    "start_time": "2022-12-10T13:07:50.480Z"
   },
   {
    "duration": 262,
    "start_time": "2022-12-10T13:07:50.621Z"
   },
   {
    "duration": 51,
    "start_time": "2022-12-10T13:07:50.885Z"
   },
   {
    "duration": 139,
    "start_time": "2022-12-10T13:07:50.939Z"
   },
   {
    "duration": 160,
    "start_time": "2022-12-10T13:07:51.083Z"
   },
   {
    "duration": 269,
    "start_time": "2022-12-10T13:07:51.244Z"
   },
   {
    "duration": 383,
    "start_time": "2022-12-10T13:07:51.515Z"
   },
   {
    "duration": 487,
    "start_time": "2022-12-10T13:07:51.900Z"
   },
   {
    "duration": 23,
    "start_time": "2022-12-10T13:07:52.388Z"
   },
   {
    "duration": 8,
    "start_time": "2022-12-10T13:07:52.413Z"
   },
   {
    "duration": 413,
    "start_time": "2022-12-10T13:09:04.836Z"
   },
   {
    "duration": 435,
    "start_time": "2022-12-10T13:09:43.535Z"
   },
   {
    "duration": 366,
    "start_time": "2022-12-10T13:09:51.580Z"
   },
   {
    "duration": 348,
    "start_time": "2022-12-10T13:09:56.117Z"
   },
   {
    "duration": 365,
    "start_time": "2022-12-10T13:10:00.302Z"
   },
   {
    "duration": 347,
    "start_time": "2022-12-10T13:10:05.351Z"
   },
   {
    "duration": 326,
    "start_time": "2022-12-10T13:10:09.644Z"
   },
   {
    "duration": 309,
    "start_time": "2022-12-10T13:10:14.137Z"
   },
   {
    "duration": 299,
    "start_time": "2022-12-10T13:10:22.637Z"
   },
   {
    "duration": 274,
    "start_time": "2022-12-10T13:10:30.925Z"
   },
   {
    "duration": 441,
    "start_time": "2022-12-10T13:10:43.538Z"
   },
   {
    "duration": 678,
    "start_time": "2022-12-10T13:10:49.769Z"
   },
   {
    "duration": 267,
    "start_time": "2022-12-10T13:10:57.034Z"
   },
   {
    "duration": 280,
    "start_time": "2022-12-10T13:11:04.970Z"
   },
   {
    "duration": 226,
    "start_time": "2022-12-10T13:11:09.084Z"
   },
   {
    "duration": 205,
    "start_time": "2022-12-10T13:11:12.556Z"
   },
   {
    "duration": 404,
    "start_time": "2022-12-10T13:11:16.940Z"
   },
   {
    "duration": 467,
    "start_time": "2022-12-10T13:11:24.576Z"
   },
   {
    "duration": 395,
    "start_time": "2022-12-10T13:11:28.139Z"
   },
   {
    "duration": 380,
    "start_time": "2022-12-10T13:11:31.753Z"
   },
   {
    "duration": 274,
    "start_time": "2022-12-10T13:11:34.958Z"
   },
   {
    "duration": 353,
    "start_time": "2022-12-10T13:11:56.907Z"
   },
   {
    "duration": 3353,
    "start_time": "2022-12-10T13:12:34.373Z"
   },
   {
    "duration": 100,
    "start_time": "2022-12-10T13:12:37.728Z"
   },
   {
    "duration": 20,
    "start_time": "2022-12-10T13:12:37.830Z"
   },
   {
    "duration": 22,
    "start_time": "2022-12-10T13:12:37.852Z"
   },
   {
    "duration": 4,
    "start_time": "2022-12-10T13:12:37.877Z"
   },
   {
    "duration": 17,
    "start_time": "2022-12-10T13:12:37.883Z"
   },
   {
    "duration": 11,
    "start_time": "2022-12-10T13:12:37.901Z"
   },
   {
    "duration": 24,
    "start_time": "2022-12-10T13:12:37.914Z"
   },
   {
    "duration": 20,
    "start_time": "2022-12-10T13:12:37.939Z"
   },
   {
    "duration": 767,
    "start_time": "2022-12-10T13:12:37.960Z"
   },
   {
    "duration": 115,
    "start_time": "2022-12-10T13:12:38.728Z"
   },
   {
    "duration": 12,
    "start_time": "2022-12-10T13:12:38.845Z"
   },
   {
    "duration": 125,
    "start_time": "2022-12-10T13:12:38.858Z"
   },
   {
    "duration": 582,
    "start_time": "2022-12-10T13:12:38.987Z"
   },
   {
    "duration": 67769,
    "start_time": "2022-12-10T13:12:39.571Z"
   },
   {
    "duration": 2,
    "start_time": "2022-12-10T13:13:47.342Z"
   },
   {
    "duration": 133,
    "start_time": "2022-12-10T13:13:47.346Z"
   },
   {
    "duration": 145,
    "start_time": "2022-12-10T13:13:47.480Z"
   },
   {
    "duration": 283,
    "start_time": "2022-12-10T13:13:47.627Z"
   },
   {
    "duration": 47,
    "start_time": "2022-12-10T13:13:47.912Z"
   },
   {
    "duration": 117,
    "start_time": "2022-12-10T13:13:47.961Z"
   },
   {
    "duration": 156,
    "start_time": "2022-12-10T13:13:48.080Z"
   },
   {
    "duration": 268,
    "start_time": "2022-12-10T13:13:48.238Z"
   },
   {
    "duration": 276,
    "start_time": "2022-12-10T13:13:48.508Z"
   },
   {
    "duration": 348,
    "start_time": "2022-12-10T13:13:48.786Z"
   },
   {
    "duration": 20,
    "start_time": "2022-12-10T13:13:49.135Z"
   },
   {
    "duration": 22,
    "start_time": "2022-12-10T13:13:49.157Z"
   },
   {
    "duration": 690,
    "start_time": "2022-12-10T13:13:49.183Z"
   },
   {
    "duration": 3394,
    "start_time": "2022-12-11T12:07:15.001Z"
   },
   {
    "duration": 75,
    "start_time": "2022-12-11T12:07:18.398Z"
   },
   {
    "duration": 15,
    "start_time": "2022-12-11T12:07:18.475Z"
   },
   {
    "duration": 18,
    "start_time": "2022-12-11T12:07:18.492Z"
   },
   {
    "duration": 3,
    "start_time": "2022-12-11T12:07:18.512Z"
   },
   {
    "duration": 5,
    "start_time": "2022-12-11T12:07:18.517Z"
   },
   {
    "duration": 7,
    "start_time": "2022-12-11T12:07:18.524Z"
   },
   {
    "duration": 12,
    "start_time": "2022-12-11T12:07:18.532Z"
   },
   {
    "duration": 44,
    "start_time": "2022-12-11T12:07:18.546Z"
   },
   {
    "duration": 893,
    "start_time": "2022-12-11T12:07:18.593Z"
   },
   {
    "duration": 238,
    "start_time": "2022-12-11T12:07:19.487Z"
   },
   {
    "duration": 10,
    "start_time": "2022-12-11T12:07:19.727Z"
   },
   {
    "duration": 48,
    "start_time": "2022-12-11T12:07:19.738Z"
   },
   {
    "duration": 470,
    "start_time": "2022-12-11T12:07:19.879Z"
   },
   {
    "duration": 65038,
    "start_time": "2022-12-11T12:07:20.356Z"
   },
   {
    "duration": 3,
    "start_time": "2022-12-11T12:08:25.395Z"
   },
   {
    "duration": 85,
    "start_time": "2022-12-11T12:08:25.400Z"
   },
   {
    "duration": 140,
    "start_time": "2022-12-11T12:08:25.486Z"
   },
   {
    "duration": 316,
    "start_time": "2022-12-11T12:08:25.628Z"
   },
   {
    "duration": 58,
    "start_time": "2022-12-11T12:08:25.945Z"
   },
   {
    "duration": 79,
    "start_time": "2022-12-11T12:08:26.004Z"
   },
   {
    "duration": 232,
    "start_time": "2022-12-11T12:08:26.085Z"
   },
   {
    "duration": 305,
    "start_time": "2022-12-11T12:08:26.319Z"
   },
   {
    "duration": 299,
    "start_time": "2022-12-11T12:08:26.626Z"
   },
   {
    "duration": 389,
    "start_time": "2022-12-11T12:08:26.927Z"
   },
   {
    "duration": 21,
    "start_time": "2022-12-11T12:08:27.318Z"
   },
   {
    "duration": 8,
    "start_time": "2022-12-11T12:08:27.340Z"
   },
   {
    "duration": 10258,
    "start_time": "2022-12-11T19:45:35.213Z"
   },
   {
    "duration": 0,
    "start_time": "2022-12-11T19:45:45.474Z"
   },
   {
    "duration": 0,
    "start_time": "2022-12-11T19:45:45.476Z"
   },
   {
    "duration": 0,
    "start_time": "2022-12-11T19:45:45.478Z"
   },
   {
    "duration": 0,
    "start_time": "2022-12-11T19:45:45.479Z"
   },
   {
    "duration": 0,
    "start_time": "2022-12-11T19:45:45.481Z"
   },
   {
    "duration": 0,
    "start_time": "2022-12-11T19:45:45.482Z"
   },
   {
    "duration": 0,
    "start_time": "2022-12-11T19:45:45.484Z"
   },
   {
    "duration": 1,
    "start_time": "2022-12-11T19:45:45.485Z"
   },
   {
    "duration": 0,
    "start_time": "2022-12-11T19:45:45.487Z"
   },
   {
    "duration": 0,
    "start_time": "2022-12-11T19:45:45.488Z"
   },
   {
    "duration": 0,
    "start_time": "2022-12-11T19:45:45.490Z"
   },
   {
    "duration": 0,
    "start_time": "2022-12-11T19:45:45.492Z"
   },
   {
    "duration": 0,
    "start_time": "2022-12-11T19:45:45.493Z"
   },
   {
    "duration": 0,
    "start_time": "2022-12-11T19:45:45.494Z"
   },
   {
    "duration": 0,
    "start_time": "2022-12-11T19:45:45.519Z"
   },
   {
    "duration": 0,
    "start_time": "2022-12-11T19:45:45.521Z"
   },
   {
    "duration": 0,
    "start_time": "2022-12-11T19:45:45.522Z"
   },
   {
    "duration": 0,
    "start_time": "2022-12-11T19:45:45.523Z"
   },
   {
    "duration": 0,
    "start_time": "2022-12-11T19:45:45.524Z"
   },
   {
    "duration": 0,
    "start_time": "2022-12-11T19:45:45.525Z"
   },
   {
    "duration": 0,
    "start_time": "2022-12-11T19:45:45.529Z"
   },
   {
    "duration": 0,
    "start_time": "2022-12-11T19:45:45.530Z"
   },
   {
    "duration": 0,
    "start_time": "2022-12-11T19:45:45.531Z"
   },
   {
    "duration": 0,
    "start_time": "2022-12-11T19:45:45.532Z"
   },
   {
    "duration": 1,
    "start_time": "2022-12-11T19:45:45.533Z"
   },
   {
    "duration": 0,
    "start_time": "2022-12-11T19:45:45.535Z"
   },
   {
    "duration": 3574,
    "start_time": "2022-12-11T19:46:36.336Z"
   },
   {
    "duration": 148,
    "start_time": "2022-12-11T19:46:39.912Z"
   },
   {
    "duration": 19,
    "start_time": "2022-12-11T19:46:40.063Z"
   },
   {
    "duration": 37,
    "start_time": "2022-12-11T19:46:40.085Z"
   },
   {
    "duration": 34,
    "start_time": "2022-12-11T19:46:40.129Z"
   },
   {
    "duration": 6,
    "start_time": "2022-12-11T19:46:40.165Z"
   },
   {
    "duration": 7,
    "start_time": "2022-12-11T19:46:40.173Z"
   },
   {
    "duration": 22,
    "start_time": "2022-12-11T19:46:40.182Z"
   },
   {
    "duration": 24,
    "start_time": "2022-12-11T19:46:40.206Z"
   },
   {
    "duration": 749,
    "start_time": "2022-12-11T19:46:40.235Z"
   },
   {
    "duration": 115,
    "start_time": "2022-12-11T19:46:40.986Z"
   },
   {
    "duration": 18,
    "start_time": "2022-12-11T19:46:41.103Z"
   },
   {
    "duration": 115,
    "start_time": "2022-12-11T19:46:41.123Z"
   },
   {
    "duration": 570,
    "start_time": "2022-12-11T19:46:41.246Z"
   },
   {
    "duration": 70990,
    "start_time": "2022-12-11T19:46:41.822Z"
   },
   {
    "duration": 4,
    "start_time": "2022-12-11T19:47:52.815Z"
   },
   {
    "duration": 109,
    "start_time": "2022-12-11T19:47:52.820Z"
   },
   {
    "duration": 64,
    "start_time": "2022-12-11T19:47:53.015Z"
   },
   {
    "duration": 299,
    "start_time": "2022-12-11T19:47:53.081Z"
   },
   {
    "duration": 66,
    "start_time": "2022-12-11T19:47:53.382Z"
   },
   {
    "duration": 88,
    "start_time": "2022-12-11T19:47:53.450Z"
   },
   {
    "duration": 244,
    "start_time": "2022-12-11T19:47:53.541Z"
   },
   {
    "duration": 314,
    "start_time": "2022-12-11T19:47:53.787Z"
   },
   {
    "duration": 297,
    "start_time": "2022-12-11T19:47:54.103Z"
   },
   {
    "duration": 384,
    "start_time": "2022-12-11T19:47:54.402Z"
   },
   {
    "duration": 35,
    "start_time": "2022-12-11T19:47:54.788Z"
   },
   {
    "duration": 8,
    "start_time": "2022-12-11T19:47:54.827Z"
   },
   {
    "duration": 55,
    "start_time": "2022-12-11T19:47:54.838Z"
   },
   {
    "duration": 146,
    "start_time": "2022-12-11T19:49:15.084Z"
   },
   {
    "duration": 3603,
    "start_time": "2022-12-11T19:51:40.408Z"
   },
   {
    "duration": 81,
    "start_time": "2022-12-11T19:51:44.013Z"
   },
   {
    "duration": 17,
    "start_time": "2022-12-11T19:51:44.096Z"
   },
   {
    "duration": 23,
    "start_time": "2022-12-11T19:51:44.115Z"
   },
   {
    "duration": 44,
    "start_time": "2022-12-11T19:51:44.139Z"
   },
   {
    "duration": 4,
    "start_time": "2022-12-11T19:51:44.184Z"
   },
   {
    "duration": 32,
    "start_time": "2022-12-11T19:51:44.190Z"
   },
   {
    "duration": 15,
    "start_time": "2022-12-11T19:51:44.231Z"
   },
   {
    "duration": 122,
    "start_time": "2022-12-11T19:51:44.248Z"
   },
   {
    "duration": 0,
    "start_time": "2022-12-11T19:51:44.372Z"
   },
   {
    "duration": 0,
    "start_time": "2022-12-11T19:51:44.373Z"
   },
   {
    "duration": 0,
    "start_time": "2022-12-11T19:51:44.374Z"
   },
   {
    "duration": 0,
    "start_time": "2022-12-11T19:51:44.375Z"
   },
   {
    "duration": 0,
    "start_time": "2022-12-11T19:51:44.377Z"
   },
   {
    "duration": 0,
    "start_time": "2022-12-11T19:51:44.378Z"
   },
   {
    "duration": 0,
    "start_time": "2022-12-11T19:51:44.379Z"
   },
   {
    "duration": 0,
    "start_time": "2022-12-11T19:51:44.380Z"
   },
   {
    "duration": 0,
    "start_time": "2022-12-11T19:51:44.382Z"
   },
   {
    "duration": 0,
    "start_time": "2022-12-11T19:51:44.383Z"
   },
   {
    "duration": 0,
    "start_time": "2022-12-11T19:51:44.384Z"
   },
   {
    "duration": 0,
    "start_time": "2022-12-11T19:51:44.386Z"
   },
   {
    "duration": 0,
    "start_time": "2022-12-11T19:51:44.387Z"
   },
   {
    "duration": 0,
    "start_time": "2022-12-11T19:51:44.388Z"
   },
   {
    "duration": 0,
    "start_time": "2022-12-11T19:51:44.389Z"
   },
   {
    "duration": 0,
    "start_time": "2022-12-11T19:51:44.417Z"
   },
   {
    "duration": 0,
    "start_time": "2022-12-11T19:51:44.419Z"
   },
   {
    "duration": 0,
    "start_time": "2022-12-11T19:51:44.421Z"
   },
   {
    "duration": 0,
    "start_time": "2022-12-11T19:51:44.424Z"
   },
   {
    "duration": 3706,
    "start_time": "2022-12-11T20:03:26.184Z"
   },
   {
    "duration": 80,
    "start_time": "2022-12-11T20:03:29.893Z"
   },
   {
    "duration": 14,
    "start_time": "2022-12-11T20:03:29.977Z"
   },
   {
    "duration": 66,
    "start_time": "2022-12-11T20:03:29.993Z"
   },
   {
    "duration": 93,
    "start_time": "2022-12-11T20:03:30.061Z"
   },
   {
    "duration": 24,
    "start_time": "2022-12-11T20:03:30.156Z"
   },
   {
    "duration": 93,
    "start_time": "2022-12-11T20:03:30.182Z"
   },
   {
    "duration": 122,
    "start_time": "2022-12-11T20:03:30.277Z"
   },
   {
    "duration": 78,
    "start_time": "2022-12-11T20:03:30.401Z"
   },
   {
    "duration": 741,
    "start_time": "2022-12-11T20:03:30.481Z"
   },
   {
    "duration": 120,
    "start_time": "2022-12-11T20:03:31.227Z"
   },
   {
    "duration": 12,
    "start_time": "2022-12-11T20:03:31.349Z"
   },
   {
    "duration": 45,
    "start_time": "2022-12-11T20:03:31.362Z"
   },
   {
    "duration": 112,
    "start_time": "2022-12-11T20:03:31.408Z"
   },
   {
    "duration": 407,
    "start_time": "2022-12-11T20:03:31.522Z"
   },
   {
    "duration": 62556,
    "start_time": "2022-12-11T20:03:31.931Z"
   },
   {
    "duration": 2,
    "start_time": "2022-12-11T20:04:34.489Z"
   },
   {
    "duration": 128,
    "start_time": "2022-12-11T20:04:34.493Z"
   },
   {
    "duration": 135,
    "start_time": "2022-12-11T20:04:34.626Z"
   },
   {
    "duration": 248,
    "start_time": "2022-12-11T20:04:34.762Z"
   },
   {
    "duration": 41,
    "start_time": "2022-12-11T20:04:35.012Z"
   },
   {
    "duration": 164,
    "start_time": "2022-12-11T20:04:35.055Z"
   },
   {
    "duration": 144,
    "start_time": "2022-12-11T20:04:35.221Z"
   },
   {
    "duration": 235,
    "start_time": "2022-12-11T20:04:35.367Z"
   },
   {
    "duration": 265,
    "start_time": "2022-12-11T20:04:35.603Z"
   },
   {
    "duration": 326,
    "start_time": "2022-12-11T20:04:35.870Z"
   },
   {
    "duration": 38,
    "start_time": "2022-12-11T20:04:36.197Z"
   },
   {
    "duration": 8,
    "start_time": "2022-12-11T20:04:36.239Z"
   },
   {
    "duration": 3584,
    "start_time": "2022-12-11T20:29:44.168Z"
   },
   {
    "duration": 69,
    "start_time": "2022-12-11T20:29:47.754Z"
   },
   {
    "duration": 18,
    "start_time": "2022-12-11T20:29:47.824Z"
   },
   {
    "duration": 24,
    "start_time": "2022-12-11T20:29:47.845Z"
   },
   {
    "duration": 64,
    "start_time": "2022-12-11T20:29:47.871Z"
   },
   {
    "duration": 5,
    "start_time": "2022-12-11T20:29:47.936Z"
   },
   {
    "duration": 9,
    "start_time": "2022-12-11T20:29:47.943Z"
   },
   {
    "duration": 11,
    "start_time": "2022-12-11T20:29:47.954Z"
   },
   {
    "duration": 167,
    "start_time": "2022-12-11T20:29:47.967Z"
   },
   {
    "duration": 0,
    "start_time": "2022-12-11T20:29:48.139Z"
   },
   {
    "duration": 0,
    "start_time": "2022-12-11T20:29:48.141Z"
   },
   {
    "duration": 0,
    "start_time": "2022-12-11T20:29:48.142Z"
   },
   {
    "duration": 0,
    "start_time": "2022-12-11T20:29:48.143Z"
   },
   {
    "duration": 0,
    "start_time": "2022-12-11T20:29:48.144Z"
   },
   {
    "duration": 0,
    "start_time": "2022-12-11T20:29:48.145Z"
   },
   {
    "duration": 0,
    "start_time": "2022-12-11T20:29:48.147Z"
   },
   {
    "duration": 0,
    "start_time": "2022-12-11T20:29:48.148Z"
   },
   {
    "duration": 0,
    "start_time": "2022-12-11T20:29:48.149Z"
   },
   {
    "duration": 0,
    "start_time": "2022-12-11T20:29:48.150Z"
   },
   {
    "duration": 0,
    "start_time": "2022-12-11T20:29:48.151Z"
   },
   {
    "duration": 0,
    "start_time": "2022-12-11T20:29:48.152Z"
   },
   {
    "duration": 0,
    "start_time": "2022-12-11T20:29:48.154Z"
   },
   {
    "duration": 0,
    "start_time": "2022-12-11T20:29:48.155Z"
   },
   {
    "duration": 0,
    "start_time": "2022-12-11T20:29:48.156Z"
   },
   {
    "duration": 0,
    "start_time": "2022-12-11T20:29:48.157Z"
   },
   {
    "duration": 0,
    "start_time": "2022-12-11T20:29:48.159Z"
   },
   {
    "duration": 0,
    "start_time": "2022-12-11T20:29:48.160Z"
   },
   {
    "duration": 0,
    "start_time": "2022-12-11T20:29:48.161Z"
   },
   {
    "duration": 0,
    "start_time": "2022-12-11T20:29:48.163Z"
   },
   {
    "duration": 0,
    "start_time": "2022-12-11T20:29:48.164Z"
   },
   {
    "duration": 4419,
    "start_time": "2022-12-11T20:32:16.844Z"
   },
   {
    "duration": 73,
    "start_time": "2022-12-11T20:32:21.266Z"
   },
   {
    "duration": 19,
    "start_time": "2022-12-11T20:32:21.341Z"
   },
   {
    "duration": 32,
    "start_time": "2022-12-11T20:32:21.362Z"
   },
   {
    "duration": 80,
    "start_time": "2022-12-11T20:32:21.397Z"
   },
   {
    "duration": 4,
    "start_time": "2022-12-11T20:32:21.479Z"
   },
   {
    "duration": 20,
    "start_time": "2022-12-11T20:32:21.485Z"
   },
   {
    "duration": 44,
    "start_time": "2022-12-11T20:32:21.507Z"
   },
   {
    "duration": 205,
    "start_time": "2022-12-11T20:32:21.554Z"
   },
   {
    "duration": 9,
    "start_time": "2022-12-11T20:32:21.761Z"
   },
   {
    "duration": 176,
    "start_time": "2022-12-11T20:32:21.772Z"
   },
   {
    "duration": 0,
    "start_time": "2022-12-11T20:32:21.951Z"
   },
   {
    "duration": 0,
    "start_time": "2022-12-11T20:32:21.951Z"
   },
   {
    "duration": 0,
    "start_time": "2022-12-11T20:32:21.957Z"
   },
   {
    "duration": 0,
    "start_time": "2022-12-11T20:32:21.958Z"
   },
   {
    "duration": 0,
    "start_time": "2022-12-11T20:32:21.959Z"
   },
   {
    "duration": 0,
    "start_time": "2022-12-11T20:32:21.961Z"
   },
   {
    "duration": 0,
    "start_time": "2022-12-11T20:32:21.964Z"
   },
   {
    "duration": 0,
    "start_time": "2022-12-11T20:32:21.965Z"
   },
   {
    "duration": 0,
    "start_time": "2022-12-11T20:32:21.966Z"
   },
   {
    "duration": 0,
    "start_time": "2022-12-11T20:32:21.967Z"
   },
   {
    "duration": 0,
    "start_time": "2022-12-11T20:32:21.969Z"
   },
   {
    "duration": 0,
    "start_time": "2022-12-11T20:32:21.970Z"
   },
   {
    "duration": 0,
    "start_time": "2022-12-11T20:32:21.972Z"
   },
   {
    "duration": 0,
    "start_time": "2022-12-11T20:32:21.973Z"
   },
   {
    "duration": 1,
    "start_time": "2022-12-11T20:32:21.974Z"
   },
   {
    "duration": 0,
    "start_time": "2022-12-11T20:32:21.975Z"
   },
   {
    "duration": 0,
    "start_time": "2022-12-11T20:32:21.978Z"
   },
   {
    "duration": 0,
    "start_time": "2022-12-11T20:32:21.979Z"
   },
   {
    "duration": 0,
    "start_time": "2022-12-11T20:32:21.980Z"
   },
   {
    "duration": 5,
    "start_time": "2022-12-11T20:34:21.348Z"
   },
   {
    "duration": 5,
    "start_time": "2022-12-11T20:34:46.123Z"
   },
   {
    "duration": 3953,
    "start_time": "2022-12-11T20:35:33.750Z"
   },
   {
    "duration": 98,
    "start_time": "2022-12-11T20:35:37.705Z"
   },
   {
    "duration": 20,
    "start_time": "2022-12-11T20:35:37.804Z"
   },
   {
    "duration": 48,
    "start_time": "2022-12-11T20:35:37.828Z"
   },
   {
    "duration": 54,
    "start_time": "2022-12-11T20:35:37.878Z"
   },
   {
    "duration": 4,
    "start_time": "2022-12-11T20:35:37.934Z"
   },
   {
    "duration": 17,
    "start_time": "2022-12-11T20:35:37.939Z"
   },
   {
    "duration": 8,
    "start_time": "2022-12-11T20:35:37.957Z"
   },
   {
    "duration": 141,
    "start_time": "2022-12-11T20:35:37.966Z"
   },
   {
    "duration": 10,
    "start_time": "2022-12-11T20:35:38.109Z"
   },
   {
    "duration": 30,
    "start_time": "2022-12-11T20:35:38.121Z"
   },
   {
    "duration": 36,
    "start_time": "2022-12-11T20:35:38.153Z"
   },
   {
    "duration": 35,
    "start_time": "2022-12-11T20:35:38.190Z"
   },
   {
    "duration": 149,
    "start_time": "2022-12-11T20:35:38.227Z"
   },
   {
    "duration": 0,
    "start_time": "2022-12-11T20:35:38.378Z"
   },
   {
    "duration": 0,
    "start_time": "2022-12-11T20:35:38.379Z"
   },
   {
    "duration": 0,
    "start_time": "2022-12-11T20:35:38.380Z"
   },
   {
    "duration": 0,
    "start_time": "2022-12-11T20:35:38.381Z"
   },
   {
    "duration": 0,
    "start_time": "2022-12-11T20:35:38.383Z"
   },
   {
    "duration": 0,
    "start_time": "2022-12-11T20:35:38.384Z"
   },
   {
    "duration": 0,
    "start_time": "2022-12-11T20:35:38.386Z"
   },
   {
    "duration": 0,
    "start_time": "2022-12-11T20:35:38.388Z"
   },
   {
    "duration": 0,
    "start_time": "2022-12-11T20:35:38.389Z"
   },
   {
    "duration": 0,
    "start_time": "2022-12-11T20:35:38.391Z"
   },
   {
    "duration": 0,
    "start_time": "2022-12-11T20:35:38.392Z"
   },
   {
    "duration": 0,
    "start_time": "2022-12-11T20:35:38.422Z"
   },
   {
    "duration": 0,
    "start_time": "2022-12-11T20:35:38.427Z"
   },
   {
    "duration": 0,
    "start_time": "2022-12-11T20:35:38.428Z"
   },
   {
    "duration": 0,
    "start_time": "2022-12-11T20:35:38.432Z"
   },
   {
    "duration": 0,
    "start_time": "2022-12-11T20:35:38.434Z"
   },
   {
    "duration": 14,
    "start_time": "2022-12-11T20:37:16.103Z"
   },
   {
    "duration": 9,
    "start_time": "2022-12-11T20:38:10.945Z"
   },
   {
    "duration": 3867,
    "start_time": "2022-12-11T20:38:35.104Z"
   },
   {
    "duration": 86,
    "start_time": "2022-12-11T20:38:38.974Z"
   },
   {
    "duration": 14,
    "start_time": "2022-12-11T20:38:39.062Z"
   },
   {
    "duration": 51,
    "start_time": "2022-12-11T20:38:39.079Z"
   },
   {
    "duration": 65,
    "start_time": "2022-12-11T20:38:39.132Z"
   },
   {
    "duration": 3,
    "start_time": "2022-12-11T20:38:39.199Z"
   },
   {
    "duration": 39,
    "start_time": "2022-12-11T20:38:39.204Z"
   },
   {
    "duration": 29,
    "start_time": "2022-12-11T20:38:39.245Z"
   },
   {
    "duration": 148,
    "start_time": "2022-12-11T20:38:39.276Z"
   },
   {
    "duration": 10,
    "start_time": "2022-12-11T20:38:39.427Z"
   },
   {
    "duration": 18,
    "start_time": "2022-12-11T20:38:39.439Z"
   },
   {
    "duration": 27,
    "start_time": "2022-12-11T20:38:39.459Z"
   },
   {
    "duration": 36,
    "start_time": "2022-12-11T20:38:39.487Z"
   },
   {
    "duration": 141,
    "start_time": "2022-12-11T20:38:39.525Z"
   },
   {
    "duration": 0,
    "start_time": "2022-12-11T20:38:39.667Z"
   },
   {
    "duration": 0,
    "start_time": "2022-12-11T20:38:39.669Z"
   },
   {
    "duration": 0,
    "start_time": "2022-12-11T20:38:39.670Z"
   },
   {
    "duration": 0,
    "start_time": "2022-12-11T20:38:39.671Z"
   },
   {
    "duration": 0,
    "start_time": "2022-12-11T20:38:39.672Z"
   },
   {
    "duration": 0,
    "start_time": "2022-12-11T20:38:39.674Z"
   },
   {
    "duration": 0,
    "start_time": "2022-12-11T20:38:39.674Z"
   },
   {
    "duration": 0,
    "start_time": "2022-12-11T20:38:39.675Z"
   },
   {
    "duration": 0,
    "start_time": "2022-12-11T20:38:39.676Z"
   },
   {
    "duration": 1,
    "start_time": "2022-12-11T20:38:39.677Z"
   },
   {
    "duration": 0,
    "start_time": "2022-12-11T20:38:39.679Z"
   },
   {
    "duration": 0,
    "start_time": "2022-12-11T20:38:39.680Z"
   },
   {
    "duration": 0,
    "start_time": "2022-12-11T20:38:39.681Z"
   },
   {
    "duration": 0,
    "start_time": "2022-12-11T20:38:39.682Z"
   },
   {
    "duration": 0,
    "start_time": "2022-12-11T20:38:39.683Z"
   },
   {
    "duration": 0,
    "start_time": "2022-12-11T20:38:39.685Z"
   },
   {
    "duration": 0,
    "start_time": "2022-12-11T20:38:39.686Z"
   },
   {
    "duration": 9,
    "start_time": "2022-12-11T20:39:01.256Z"
   },
   {
    "duration": 11,
    "start_time": "2022-12-11T20:39:16.791Z"
   },
   {
    "duration": 10,
    "start_time": "2022-12-11T20:39:27.345Z"
   },
   {
    "duration": 5,
    "start_time": "2022-12-11T20:39:43.243Z"
   },
   {
    "duration": 17,
    "start_time": "2022-12-11T20:40:10.038Z"
   },
   {
    "duration": 3525,
    "start_time": "2022-12-11T20:40:30.041Z"
   },
   {
    "duration": 70,
    "start_time": "2022-12-11T20:40:33.569Z"
   },
   {
    "duration": 14,
    "start_time": "2022-12-11T20:40:33.641Z"
   },
   {
    "duration": 32,
    "start_time": "2022-12-11T20:40:33.656Z"
   },
   {
    "duration": 47,
    "start_time": "2022-12-11T20:40:33.690Z"
   },
   {
    "duration": 5,
    "start_time": "2022-12-11T20:40:33.739Z"
   },
   {
    "duration": 14,
    "start_time": "2022-12-11T20:40:33.745Z"
   },
   {
    "duration": 10,
    "start_time": "2022-12-11T20:40:33.760Z"
   },
   {
    "duration": 132,
    "start_time": "2022-12-11T20:40:33.772Z"
   },
   {
    "duration": 27,
    "start_time": "2022-12-11T20:40:33.906Z"
   },
   {
    "duration": 6,
    "start_time": "2022-12-11T20:40:33.935Z"
   },
   {
    "duration": 28,
    "start_time": "2022-12-11T20:40:33.943Z"
   },
   {
    "duration": 29,
    "start_time": "2022-12-11T20:40:33.973Z"
   },
   {
    "duration": 184,
    "start_time": "2022-12-11T20:40:34.005Z"
   },
   {
    "duration": 0,
    "start_time": "2022-12-11T20:40:34.191Z"
   },
   {
    "duration": 0,
    "start_time": "2022-12-11T20:40:34.192Z"
   },
   {
    "duration": 0,
    "start_time": "2022-12-11T20:40:34.194Z"
   },
   {
    "duration": 0,
    "start_time": "2022-12-11T20:40:34.195Z"
   },
   {
    "duration": 0,
    "start_time": "2022-12-11T20:40:34.196Z"
   },
   {
    "duration": 0,
    "start_time": "2022-12-11T20:40:34.197Z"
   },
   {
    "duration": 0,
    "start_time": "2022-12-11T20:40:34.198Z"
   },
   {
    "duration": 0,
    "start_time": "2022-12-11T20:40:34.215Z"
   },
   {
    "duration": 0,
    "start_time": "2022-12-11T20:40:34.216Z"
   },
   {
    "duration": 0,
    "start_time": "2022-12-11T20:40:34.217Z"
   },
   {
    "duration": 0,
    "start_time": "2022-12-11T20:40:34.220Z"
   },
   {
    "duration": 0,
    "start_time": "2022-12-11T20:40:34.221Z"
   },
   {
    "duration": 0,
    "start_time": "2022-12-11T20:40:34.221Z"
   },
   {
    "duration": 0,
    "start_time": "2022-12-11T20:40:34.222Z"
   },
   {
    "duration": 0,
    "start_time": "2022-12-11T20:40:34.223Z"
   },
   {
    "duration": 0,
    "start_time": "2022-12-11T20:40:34.224Z"
   },
   {
    "duration": 0,
    "start_time": "2022-12-11T20:40:34.225Z"
   },
   {
    "duration": 12,
    "start_time": "2022-12-11T20:41:32.952Z"
   },
   {
    "duration": 26,
    "start_time": "2022-12-11T20:41:39.409Z"
   },
   {
    "duration": 15,
    "start_time": "2022-12-11T20:41:45.421Z"
   },
   {
    "duration": 9,
    "start_time": "2022-12-11T20:42:13.195Z"
   },
   {
    "duration": 13,
    "start_time": "2022-12-11T20:42:30.339Z"
   },
   {
    "duration": 15,
    "start_time": "2022-12-11T20:43:02.004Z"
   },
   {
    "duration": 3586,
    "start_time": "2022-12-11T20:43:20.697Z"
   },
   {
    "duration": 78,
    "start_time": "2022-12-11T20:43:24.287Z"
   },
   {
    "duration": 14,
    "start_time": "2022-12-11T20:43:24.367Z"
   },
   {
    "duration": 17,
    "start_time": "2022-12-11T20:43:24.382Z"
   },
   {
    "duration": 44,
    "start_time": "2022-12-11T20:43:24.401Z"
   },
   {
    "duration": 4,
    "start_time": "2022-12-11T20:43:24.446Z"
   },
   {
    "duration": 10,
    "start_time": "2022-12-11T20:43:24.451Z"
   },
   {
    "duration": 10,
    "start_time": "2022-12-11T20:43:24.463Z"
   },
   {
    "duration": 136,
    "start_time": "2022-12-11T20:43:24.474Z"
   },
   {
    "duration": 15,
    "start_time": "2022-12-11T20:43:24.615Z"
   },
   {
    "duration": 12,
    "start_time": "2022-12-11T20:43:24.631Z"
   },
   {
    "duration": 27,
    "start_time": "2022-12-11T20:43:24.645Z"
   },
   {
    "duration": 30,
    "start_time": "2022-12-11T20:43:24.674Z"
   },
   {
    "duration": 133,
    "start_time": "2022-12-11T20:43:24.716Z"
   },
   {
    "duration": 0,
    "start_time": "2022-12-11T20:43:24.851Z"
   },
   {
    "duration": 0,
    "start_time": "2022-12-11T20:43:24.852Z"
   },
   {
    "duration": 0,
    "start_time": "2022-12-11T20:43:24.853Z"
   },
   {
    "duration": 0,
    "start_time": "2022-12-11T20:43:24.854Z"
   },
   {
    "duration": 0,
    "start_time": "2022-12-11T20:43:24.855Z"
   },
   {
    "duration": 0,
    "start_time": "2022-12-11T20:43:24.856Z"
   },
   {
    "duration": 0,
    "start_time": "2022-12-11T20:43:24.857Z"
   },
   {
    "duration": 0,
    "start_time": "2022-12-11T20:43:24.858Z"
   },
   {
    "duration": 0,
    "start_time": "2022-12-11T20:43:24.860Z"
   },
   {
    "duration": 0,
    "start_time": "2022-12-11T20:43:24.861Z"
   },
   {
    "duration": 0,
    "start_time": "2022-12-11T20:43:24.863Z"
   },
   {
    "duration": 0,
    "start_time": "2022-12-11T20:43:24.864Z"
   },
   {
    "duration": 0,
    "start_time": "2022-12-11T20:43:24.866Z"
   },
   {
    "duration": 0,
    "start_time": "2022-12-11T20:43:24.867Z"
   },
   {
    "duration": 0,
    "start_time": "2022-12-11T20:43:24.868Z"
   },
   {
    "duration": 0,
    "start_time": "2022-12-11T20:43:24.870Z"
   },
   {
    "duration": 0,
    "start_time": "2022-12-11T20:43:24.871Z"
   },
   {
    "duration": 10,
    "start_time": "2022-12-11T20:43:53.661Z"
   },
   {
    "duration": 16,
    "start_time": "2022-12-11T20:44:03.263Z"
   },
   {
    "duration": 3613,
    "start_time": "2022-12-11T20:44:32.139Z"
   },
   {
    "duration": 66,
    "start_time": "2022-12-11T20:44:35.755Z"
   },
   {
    "duration": 22,
    "start_time": "2022-12-11T20:44:35.822Z"
   },
   {
    "duration": 20,
    "start_time": "2022-12-11T20:44:35.855Z"
   },
   {
    "duration": 63,
    "start_time": "2022-12-11T20:44:35.877Z"
   },
   {
    "duration": 4,
    "start_time": "2022-12-11T20:44:35.942Z"
   },
   {
    "duration": 13,
    "start_time": "2022-12-11T20:44:35.948Z"
   },
   {
    "duration": 15,
    "start_time": "2022-12-11T20:44:35.963Z"
   },
   {
    "duration": 152,
    "start_time": "2022-12-11T20:44:35.980Z"
   },
   {
    "duration": 10,
    "start_time": "2022-12-11T20:44:36.136Z"
   },
   {
    "duration": 6,
    "start_time": "2022-12-11T20:44:36.147Z"
   },
   {
    "duration": 47,
    "start_time": "2022-12-11T20:44:36.155Z"
   },
   {
    "duration": 49,
    "start_time": "2022-12-11T20:44:36.203Z"
   },
   {
    "duration": 21,
    "start_time": "2022-12-11T20:44:36.255Z"
   },
   {
    "duration": 7,
    "start_time": "2022-12-11T20:44:36.279Z"
   },
   {
    "duration": 198,
    "start_time": "2022-12-11T20:44:36.288Z"
   },
   {
    "duration": 0,
    "start_time": "2022-12-11T20:44:36.488Z"
   },
   {
    "duration": 0,
    "start_time": "2022-12-11T20:44:36.489Z"
   },
   {
    "duration": 0,
    "start_time": "2022-12-11T20:44:36.490Z"
   },
   {
    "duration": 0,
    "start_time": "2022-12-11T20:44:36.491Z"
   },
   {
    "duration": 0,
    "start_time": "2022-12-11T20:44:36.492Z"
   },
   {
    "duration": 0,
    "start_time": "2022-12-11T20:44:36.493Z"
   },
   {
    "duration": 0,
    "start_time": "2022-12-11T20:44:36.494Z"
   },
   {
    "duration": 0,
    "start_time": "2022-12-11T20:44:36.495Z"
   },
   {
    "duration": 0,
    "start_time": "2022-12-11T20:44:36.497Z"
   },
   {
    "duration": 0,
    "start_time": "2022-12-11T20:44:36.498Z"
   },
   {
    "duration": 1,
    "start_time": "2022-12-11T20:44:36.499Z"
   },
   {
    "duration": 0,
    "start_time": "2022-12-11T20:44:36.501Z"
   },
   {
    "duration": 0,
    "start_time": "2022-12-11T20:44:36.502Z"
   },
   {
    "duration": 0,
    "start_time": "2022-12-11T20:44:36.503Z"
   },
   {
    "duration": 0,
    "start_time": "2022-12-11T20:44:36.504Z"
   },
   {
    "duration": 3453,
    "start_time": "2022-12-11T20:52:23.936Z"
   },
   {
    "duration": 67,
    "start_time": "2022-12-11T20:52:27.392Z"
   },
   {
    "duration": 15,
    "start_time": "2022-12-11T20:52:27.460Z"
   },
   {
    "duration": 17,
    "start_time": "2022-12-11T20:52:27.477Z"
   },
   {
    "duration": 52,
    "start_time": "2022-12-11T20:52:27.497Z"
   },
   {
    "duration": 4,
    "start_time": "2022-12-11T20:52:27.551Z"
   },
   {
    "duration": 9,
    "start_time": "2022-12-11T20:52:27.557Z"
   },
   {
    "duration": 10,
    "start_time": "2022-12-11T20:52:27.568Z"
   },
   {
    "duration": 168,
    "start_time": "2022-12-11T20:52:27.580Z"
   },
   {
    "duration": 11,
    "start_time": "2022-12-11T20:52:27.749Z"
   },
   {
    "duration": 5,
    "start_time": "2022-12-11T20:52:27.761Z"
   },
   {
    "duration": 31,
    "start_time": "2022-12-11T20:52:27.768Z"
   },
   {
    "duration": 44,
    "start_time": "2022-12-11T20:52:27.817Z"
   },
   {
    "duration": 3,
    "start_time": "2022-12-11T20:52:27.864Z"
   },
   {
    "duration": 8,
    "start_time": "2022-12-11T20:52:27.869Z"
   },
   {
    "duration": 163,
    "start_time": "2022-12-11T20:52:27.878Z"
   },
   {
    "duration": 0,
    "start_time": "2022-12-11T20:52:28.043Z"
   },
   {
    "duration": 0,
    "start_time": "2022-12-11T20:52:28.044Z"
   },
   {
    "duration": 0,
    "start_time": "2022-12-11T20:52:28.046Z"
   },
   {
    "duration": 0,
    "start_time": "2022-12-11T20:52:28.048Z"
   },
   {
    "duration": 0,
    "start_time": "2022-12-11T20:52:28.049Z"
   },
   {
    "duration": 0,
    "start_time": "2022-12-11T20:52:28.050Z"
   },
   {
    "duration": 0,
    "start_time": "2022-12-11T20:52:28.052Z"
   },
   {
    "duration": 0,
    "start_time": "2022-12-11T20:52:28.053Z"
   },
   {
    "duration": 0,
    "start_time": "2022-12-11T20:52:28.056Z"
   },
   {
    "duration": 0,
    "start_time": "2022-12-11T20:52:28.057Z"
   },
   {
    "duration": 0,
    "start_time": "2022-12-11T20:52:28.058Z"
   },
   {
    "duration": 0,
    "start_time": "2022-12-11T20:52:28.059Z"
   },
   {
    "duration": 0,
    "start_time": "2022-12-11T20:52:28.061Z"
   },
   {
    "duration": 0,
    "start_time": "2022-12-11T20:52:28.062Z"
   },
   {
    "duration": 0,
    "start_time": "2022-12-11T20:52:28.064Z"
   },
   {
    "duration": 2,
    "start_time": "2022-12-11T21:08:26.174Z"
   },
   {
    "duration": 19,
    "start_time": "2022-12-11T21:08:29.484Z"
   },
   {
    "duration": 3418,
    "start_time": "2022-12-11T21:08:48.829Z"
   },
   {
    "duration": 61,
    "start_time": "2022-12-11T21:08:52.250Z"
   },
   {
    "duration": 19,
    "start_time": "2022-12-11T21:08:52.313Z"
   },
   {
    "duration": 38,
    "start_time": "2022-12-11T21:08:52.333Z"
   },
   {
    "duration": 56,
    "start_time": "2022-12-11T21:08:52.373Z"
   },
   {
    "duration": 9,
    "start_time": "2022-12-11T21:08:52.432Z"
   },
   {
    "duration": 9,
    "start_time": "2022-12-11T21:08:52.445Z"
   },
   {
    "duration": 15,
    "start_time": "2022-12-11T21:08:52.456Z"
   },
   {
    "duration": 174,
    "start_time": "2022-12-11T21:08:52.473Z"
   },
   {
    "duration": 10,
    "start_time": "2022-12-11T21:08:52.649Z"
   },
   {
    "duration": 4,
    "start_time": "2022-12-11T21:08:52.661Z"
   },
   {
    "duration": 67,
    "start_time": "2022-12-11T21:08:52.667Z"
   },
   {
    "duration": 4,
    "start_time": "2022-12-11T21:08:52.748Z"
   },
   {
    "duration": 23,
    "start_time": "2022-12-11T21:08:52.755Z"
   },
   {
    "duration": 5,
    "start_time": "2022-12-11T21:08:52.780Z"
   },
   {
    "duration": 6,
    "start_time": "2022-12-11T21:08:52.787Z"
   },
   {
    "duration": 11,
    "start_time": "2022-12-11T21:08:52.795Z"
   },
   {
    "duration": 164,
    "start_time": "2022-12-11T21:08:52.808Z"
   },
   {
    "duration": 0,
    "start_time": "2022-12-11T21:08:52.974Z"
   },
   {
    "duration": 0,
    "start_time": "2022-12-11T21:08:52.976Z"
   },
   {
    "duration": 0,
    "start_time": "2022-12-11T21:08:52.978Z"
   },
   {
    "duration": 0,
    "start_time": "2022-12-11T21:08:52.980Z"
   },
   {
    "duration": 1,
    "start_time": "2022-12-11T21:08:52.981Z"
   },
   {
    "duration": 0,
    "start_time": "2022-12-11T21:08:52.983Z"
   },
   {
    "duration": 0,
    "start_time": "2022-12-11T21:08:52.985Z"
   },
   {
    "duration": 0,
    "start_time": "2022-12-11T21:08:52.986Z"
   },
   {
    "duration": 0,
    "start_time": "2022-12-11T21:08:52.988Z"
   },
   {
    "duration": 0,
    "start_time": "2022-12-11T21:08:52.989Z"
   },
   {
    "duration": 0,
    "start_time": "2022-12-11T21:08:53.016Z"
   },
   {
    "duration": 0,
    "start_time": "2022-12-11T21:08:53.017Z"
   },
   {
    "duration": 0,
    "start_time": "2022-12-11T21:08:53.018Z"
   },
   {
    "duration": 0,
    "start_time": "2022-12-11T21:08:53.019Z"
   },
   {
    "duration": 22,
    "start_time": "2022-12-11T21:09:53.548Z"
   },
   {
    "duration": 3661,
    "start_time": "2022-12-11T21:11:54.439Z"
   },
   {
    "duration": 76,
    "start_time": "2022-12-11T21:11:58.102Z"
   },
   {
    "duration": 15,
    "start_time": "2022-12-11T21:11:58.182Z"
   },
   {
    "duration": 15,
    "start_time": "2022-12-11T21:11:58.199Z"
   },
   {
    "duration": 46,
    "start_time": "2022-12-11T21:11:58.220Z"
   },
   {
    "duration": 4,
    "start_time": "2022-12-11T21:11:58.267Z"
   },
   {
    "duration": 8,
    "start_time": "2022-12-11T21:11:58.273Z"
   },
   {
    "duration": 16,
    "start_time": "2022-12-11T21:11:58.283Z"
   },
   {
    "duration": 147,
    "start_time": "2022-12-11T21:11:58.300Z"
   },
   {
    "duration": 9,
    "start_time": "2022-12-11T21:11:58.448Z"
   },
   {
    "duration": 7,
    "start_time": "2022-12-11T21:11:58.459Z"
   },
   {
    "duration": 52,
    "start_time": "2022-12-11T21:11:58.468Z"
   },
   {
    "duration": 3,
    "start_time": "2022-12-11T21:11:58.529Z"
   },
   {
    "duration": 34,
    "start_time": "2022-12-11T21:11:58.536Z"
   },
   {
    "duration": 2,
    "start_time": "2022-12-11T21:11:58.572Z"
   },
   {
    "duration": 421,
    "start_time": "2022-12-11T21:11:58.576Z"
   },
   {
    "duration": 25,
    "start_time": "2022-12-11T21:11:58.999Z"
   },
   {
    "duration": 114,
    "start_time": "2022-12-11T21:11:59.031Z"
   },
   {
    "duration": 383,
    "start_time": "2022-12-11T21:11:59.222Z"
   },
   {
    "duration": 65071,
    "start_time": "2022-12-11T21:11:59.607Z"
   },
   {
    "duration": 3,
    "start_time": "2022-12-11T21:13:04.679Z"
   },
   {
    "duration": 232,
    "start_time": "2022-12-11T21:13:04.684Z"
   },
   {
    "duration": 127,
    "start_time": "2022-12-11T21:13:04.917Z"
   },
   {
    "duration": 254,
    "start_time": "2022-12-11T21:13:05.046Z"
   },
   {
    "duration": 70,
    "start_time": "2022-12-11T21:13:05.301Z"
   },
   {
    "duration": 155,
    "start_time": "2022-12-11T21:13:05.373Z"
   },
   {
    "duration": 144,
    "start_time": "2022-12-11T21:13:05.529Z"
   },
   {
    "duration": 297,
    "start_time": "2022-12-11T21:13:05.675Z"
   },
   {
    "duration": 308,
    "start_time": "2022-12-11T21:13:05.975Z"
   },
   {
    "duration": 429,
    "start_time": "2022-12-11T21:13:06.285Z"
   },
   {
    "duration": 21,
    "start_time": "2022-12-11T21:13:06.722Z"
   },
   {
    "duration": 10,
    "start_time": "2022-12-11T21:13:06.745Z"
   },
   {
    "duration": 347,
    "start_time": "2022-12-11T21:17:37.982Z"
   },
   {
    "duration": 352,
    "start_time": "2022-12-11T21:18:09.053Z"
   },
   {
    "duration": 367,
    "start_time": "2022-12-11T21:19:11.002Z"
   },
   {
    "duration": 338,
    "start_time": "2022-12-11T21:24:04.662Z"
   },
   {
    "duration": 331,
    "start_time": "2022-12-11T21:24:23.059Z"
   },
   {
    "duration": 3479,
    "start_time": "2022-12-11T21:31:17.251Z"
   },
   {
    "duration": 67,
    "start_time": "2022-12-11T21:31:20.733Z"
   },
   {
    "duration": 19,
    "start_time": "2022-12-11T21:31:20.802Z"
   },
   {
    "duration": 33,
    "start_time": "2022-12-11T21:31:20.824Z"
   },
   {
    "duration": 38,
    "start_time": "2022-12-11T21:31:20.859Z"
   },
   {
    "duration": 3,
    "start_time": "2022-12-11T21:31:20.899Z"
   },
   {
    "duration": 7,
    "start_time": "2022-12-11T21:31:20.904Z"
   },
   {
    "duration": 23,
    "start_time": "2022-12-11T21:31:20.912Z"
   },
   {
    "duration": 164,
    "start_time": "2022-12-11T21:31:20.937Z"
   },
   {
    "duration": 11,
    "start_time": "2022-12-11T21:31:21.103Z"
   },
   {
    "duration": 11,
    "start_time": "2022-12-11T21:31:21.119Z"
   },
   {
    "duration": 56,
    "start_time": "2022-12-11T21:31:21.135Z"
   },
   {
    "duration": 2,
    "start_time": "2022-12-11T21:31:21.193Z"
   },
   {
    "duration": 30,
    "start_time": "2022-12-11T21:31:21.198Z"
   },
   {
    "duration": 452,
    "start_time": "2022-12-11T21:31:21.230Z"
   },
   {
    "duration": 9,
    "start_time": "2022-12-11T21:31:21.684Z"
   },
   {
    "duration": 128,
    "start_time": "2022-12-11T21:31:21.695Z"
   },
   {
    "duration": 448,
    "start_time": "2022-12-11T21:31:21.826Z"
   },
   {
    "duration": 146866,
    "start_time": "2022-12-11T21:31:22.275Z"
   },
   {
    "duration": 3,
    "start_time": "2022-12-11T21:33:49.143Z"
   },
   {
    "duration": 93,
    "start_time": "2022-12-11T21:33:49.148Z"
   },
   {
    "duration": 206,
    "start_time": "2022-12-11T21:33:49.244Z"
   },
   {
    "duration": 252,
    "start_time": "2022-12-11T21:33:49.451Z"
   },
   {
    "duration": 57,
    "start_time": "2022-12-11T21:33:49.705Z"
   },
   {
    "duration": 166,
    "start_time": "2022-12-11T21:33:49.763Z"
   },
   {
    "duration": 141,
    "start_time": "2022-12-11T21:33:49.931Z"
   },
   {
    "duration": 298,
    "start_time": "2022-12-11T21:33:50.074Z"
   },
   {
    "duration": 280,
    "start_time": "2022-12-11T21:33:50.374Z"
   },
   {
    "duration": 344,
    "start_time": "2022-12-11T21:33:50.655Z"
   },
   {
    "duration": 33,
    "start_time": "2022-12-11T21:33:51.001Z"
   },
   {
    "duration": 8,
    "start_time": "2022-12-11T21:33:51.035Z"
   },
   {
    "duration": 525,
    "start_time": "2022-12-11T21:37:49.951Z"
   },
   {
    "duration": 3507,
    "start_time": "2022-12-11T21:39:57.486Z"
   },
   {
    "duration": 81,
    "start_time": "2022-12-11T21:40:00.995Z"
   },
   {
    "duration": 14,
    "start_time": "2022-12-11T21:40:01.078Z"
   },
   {
    "duration": 38,
    "start_time": "2022-12-11T21:40:01.094Z"
   },
   {
    "duration": 46,
    "start_time": "2022-12-11T21:40:01.133Z"
   },
   {
    "duration": 4,
    "start_time": "2022-12-11T21:40:01.180Z"
   },
   {
    "duration": 19,
    "start_time": "2022-12-11T21:40:01.185Z"
   },
   {
    "duration": 33,
    "start_time": "2022-12-11T21:40:01.206Z"
   },
   {
    "duration": 125,
    "start_time": "2022-12-11T21:40:01.241Z"
   },
   {
    "duration": 8,
    "start_time": "2022-12-11T21:40:01.370Z"
   },
   {
    "duration": 14,
    "start_time": "2022-12-11T21:40:01.380Z"
   },
   {
    "duration": 56,
    "start_time": "2022-12-11T21:40:01.396Z"
   },
   {
    "duration": 3,
    "start_time": "2022-12-11T21:40:01.454Z"
   },
   {
    "duration": 55,
    "start_time": "2022-12-11T21:40:01.459Z"
   },
   {
    "duration": 425,
    "start_time": "2022-12-11T21:40:01.519Z"
   },
   {
    "duration": 9,
    "start_time": "2022-12-11T21:40:01.946Z"
   },
   {
    "duration": 169,
    "start_time": "2022-12-11T21:40:01.957Z"
   },
   {
    "duration": 424,
    "start_time": "2022-12-11T21:40:02.134Z"
   },
   {
    "duration": 147955,
    "start_time": "2022-12-11T21:40:02.560Z"
   },
   {
    "duration": 3,
    "start_time": "2022-12-11T21:42:30.520Z"
   },
   {
    "duration": 104,
    "start_time": "2022-12-11T21:42:30.526Z"
   },
   {
    "duration": 153,
    "start_time": "2022-12-11T21:42:30.637Z"
   },
   {
    "duration": 446,
    "start_time": "2022-12-11T21:42:30.792Z"
   },
   {
    "duration": 43,
    "start_time": "2022-12-11T21:42:31.239Z"
   },
   {
    "duration": 138,
    "start_time": "2022-12-11T21:42:31.284Z"
   },
   {
    "duration": 139,
    "start_time": "2022-12-11T21:42:31.424Z"
   },
   {
    "duration": 687,
    "start_time": "2022-12-11T21:42:31.565Z"
   },
   {
    "duration": 273,
    "start_time": "2022-12-11T21:42:32.254Z"
   },
   {
    "duration": 337,
    "start_time": "2022-12-11T21:42:32.531Z"
   },
   {
    "duration": 15,
    "start_time": "2022-12-11T21:42:32.869Z"
   },
   {
    "duration": 10,
    "start_time": "2022-12-11T21:42:32.885Z"
   },
   {
    "duration": 339,
    "start_time": "2022-12-11T21:46:08.135Z"
   },
   {
    "duration": 658,
    "start_time": "2022-12-11T21:49:39.066Z"
   },
   {
    "duration": 8738,
    "start_time": "2022-12-12T07:19:17.563Z"
   },
   {
    "duration": 0,
    "start_time": "2022-12-12T07:19:26.303Z"
   },
   {
    "duration": 0,
    "start_time": "2022-12-12T07:19:26.305Z"
   },
   {
    "duration": 0,
    "start_time": "2022-12-12T07:19:26.306Z"
   },
   {
    "duration": 0,
    "start_time": "2022-12-12T07:19:26.307Z"
   },
   {
    "duration": 0,
    "start_time": "2022-12-12T07:19:26.308Z"
   },
   {
    "duration": 0,
    "start_time": "2022-12-12T07:19:26.309Z"
   },
   {
    "duration": 0,
    "start_time": "2022-12-12T07:19:26.310Z"
   },
   {
    "duration": 0,
    "start_time": "2022-12-12T07:19:26.311Z"
   },
   {
    "duration": 0,
    "start_time": "2022-12-12T07:19:26.313Z"
   },
   {
    "duration": 0,
    "start_time": "2022-12-12T07:19:26.314Z"
   },
   {
    "duration": 0,
    "start_time": "2022-12-12T07:19:26.315Z"
   },
   {
    "duration": 0,
    "start_time": "2022-12-12T07:19:26.316Z"
   },
   {
    "duration": 0,
    "start_time": "2022-12-12T07:19:26.336Z"
   },
   {
    "duration": 0,
    "start_time": "2022-12-12T07:19:26.337Z"
   },
   {
    "duration": 0,
    "start_time": "2022-12-12T07:19:26.338Z"
   },
   {
    "duration": 0,
    "start_time": "2022-12-12T07:19:26.339Z"
   },
   {
    "duration": 0,
    "start_time": "2022-12-12T07:19:26.340Z"
   },
   {
    "duration": 0,
    "start_time": "2022-12-12T07:19:26.341Z"
   },
   {
    "duration": 0,
    "start_time": "2022-12-12T07:19:26.343Z"
   },
   {
    "duration": 0,
    "start_time": "2022-12-12T07:19:26.344Z"
   },
   {
    "duration": 0,
    "start_time": "2022-12-12T07:19:26.346Z"
   },
   {
    "duration": 0,
    "start_time": "2022-12-12T07:19:26.347Z"
   },
   {
    "duration": 0,
    "start_time": "2022-12-12T07:19:26.348Z"
   },
   {
    "duration": 0,
    "start_time": "2022-12-12T07:19:26.349Z"
   },
   {
    "duration": 0,
    "start_time": "2022-12-12T07:19:26.351Z"
   },
   {
    "duration": 0,
    "start_time": "2022-12-12T07:19:26.352Z"
   },
   {
    "duration": 0,
    "start_time": "2022-12-12T07:19:26.353Z"
   },
   {
    "duration": 0,
    "start_time": "2022-12-12T07:19:26.354Z"
   },
   {
    "duration": 0,
    "start_time": "2022-12-12T07:19:26.355Z"
   },
   {
    "duration": 0,
    "start_time": "2022-12-12T07:19:26.357Z"
   },
   {
    "duration": 3360,
    "start_time": "2022-12-12T07:22:08.572Z"
   },
   {
    "duration": 121,
    "start_time": "2022-12-12T07:22:11.934Z"
   },
   {
    "duration": 15,
    "start_time": "2022-12-12T07:22:12.056Z"
   },
   {
    "duration": 24,
    "start_time": "2022-12-12T07:22:12.073Z"
   },
   {
    "duration": 45,
    "start_time": "2022-12-12T07:22:12.100Z"
   },
   {
    "duration": 3,
    "start_time": "2022-12-12T07:22:12.147Z"
   },
   {
    "duration": 12,
    "start_time": "2022-12-12T07:22:12.151Z"
   },
   {
    "duration": 21,
    "start_time": "2022-12-12T07:22:12.164Z"
   },
   {
    "duration": 143,
    "start_time": "2022-12-12T07:22:12.186Z"
   },
   {
    "duration": 9,
    "start_time": "2022-12-12T07:22:12.334Z"
   },
   {
    "duration": 17,
    "start_time": "2022-12-12T07:22:12.345Z"
   },
   {
    "duration": 54,
    "start_time": "2022-12-12T07:22:12.364Z"
   },
   {
    "duration": 3,
    "start_time": "2022-12-12T07:22:12.420Z"
   },
   {
    "duration": 58,
    "start_time": "2022-12-12T07:22:12.426Z"
   },
   {
    "duration": 435,
    "start_time": "2022-12-12T07:22:12.486Z"
   },
   {
    "duration": 12,
    "start_time": "2022-12-12T07:22:12.923Z"
   },
   {
    "duration": 106,
    "start_time": "2022-12-12T07:22:12.937Z"
   },
   {
    "duration": 532,
    "start_time": "2022-12-12T07:22:13.045Z"
   },
   {
    "duration": 148843,
    "start_time": "2022-12-12T07:22:13.579Z"
   },
   {
    "duration": 3,
    "start_time": "2022-12-12T07:24:42.425Z"
   },
   {
    "duration": 100,
    "start_time": "2022-12-12T07:24:42.442Z"
   },
   {
    "duration": 156,
    "start_time": "2022-12-12T07:24:42.549Z"
   },
   {
    "duration": 465,
    "start_time": "2022-12-12T07:24:42.707Z"
   },
   {
    "duration": 46,
    "start_time": "2022-12-12T07:24:43.174Z"
   },
   {
    "duration": 123,
    "start_time": "2022-12-12T07:24:43.222Z"
   },
   {
    "duration": 147,
    "start_time": "2022-12-12T07:24:43.351Z"
   },
   {
    "duration": 755,
    "start_time": "2022-12-12T07:24:43.500Z"
   },
   {
    "duration": 721,
    "start_time": "2022-12-12T07:24:44.256Z"
   },
   {
    "duration": 905,
    "start_time": "2022-12-12T07:24:44.979Z"
   },
   {
    "duration": 35,
    "start_time": "2022-12-12T07:24:45.886Z"
   },
   {
    "duration": 23,
    "start_time": "2022-12-12T07:24:45.923Z"
   },
   {
    "duration": 366,
    "start_time": "2022-12-12T07:29:08.580Z"
   },
   {
    "duration": 370,
    "start_time": "2022-12-12T07:30:09.758Z"
   },
   {
    "duration": 150911,
    "start_time": "2022-12-12T07:31:18.336Z"
   },
   {
    "duration": 594,
    "start_time": "2022-12-12T07:39:31.290Z"
   },
   {
    "duration": 245929,
    "start_time": "2022-12-12T07:39:46.757Z"
   },
   {
    "duration": 1617,
    "start_time": "2022-12-12T07:46:40.768Z"
   },
   {
    "duration": 2066,
    "start_time": "2022-12-12T07:47:05.488Z"
   },
   {
    "duration": 807,
    "start_time": "2022-12-12T08:24:22.608Z"
   },
   {
    "duration": 3748,
    "start_time": "2022-12-12T08:36:52.526Z"
   },
   {
    "duration": 219,
    "start_time": "2022-12-12T08:36:56.277Z"
   },
   {
    "duration": 16,
    "start_time": "2022-12-12T08:36:56.498Z"
   },
   {
    "duration": 28,
    "start_time": "2022-12-12T08:36:56.517Z"
   },
   {
    "duration": 53,
    "start_time": "2022-12-12T08:36:56.547Z"
   },
   {
    "duration": 3,
    "start_time": "2022-12-12T08:36:56.602Z"
   },
   {
    "duration": 22,
    "start_time": "2022-12-12T08:36:56.607Z"
   },
   {
    "duration": 34,
    "start_time": "2022-12-12T08:36:56.630Z"
   },
   {
    "duration": 166,
    "start_time": "2022-12-12T08:36:56.666Z"
   },
   {
    "duration": 16,
    "start_time": "2022-12-12T08:36:56.836Z"
   },
   {
    "duration": 12,
    "start_time": "2022-12-12T08:36:56.854Z"
   },
   {
    "duration": 86,
    "start_time": "2022-12-12T08:36:56.868Z"
   },
   {
    "duration": 9,
    "start_time": "2022-12-12T08:36:56.956Z"
   },
   {
    "duration": 38,
    "start_time": "2022-12-12T08:36:56.966Z"
   },
   {
    "duration": 452,
    "start_time": "2022-12-12T08:36:57.006Z"
   },
   {
    "duration": 9,
    "start_time": "2022-12-12T08:36:57.460Z"
   },
   {
    "duration": 86,
    "start_time": "2022-12-12T08:36:57.471Z"
   },
   {
    "duration": 549,
    "start_time": "2022-12-12T08:36:57.559Z"
   },
   {
    "duration": 158750,
    "start_time": "2022-12-12T08:36:58.110Z"
   },
   {
    "duration": 3,
    "start_time": "2022-12-12T08:39:36.861Z"
   },
   {
    "duration": 82,
    "start_time": "2022-12-12T08:39:36.865Z"
   },
   {
    "duration": 520,
    "start_time": "2022-12-12T08:39:36.949Z"
   },
   {
    "duration": 162355,
    "start_time": "2022-12-12T08:39:37.471Z"
   },
   {
    "duration": 60,
    "start_time": "2022-12-12T08:42:19.829Z"
   },
   {
    "duration": 168,
    "start_time": "2022-12-12T08:42:19.891Z"
   },
   {
    "duration": 680,
    "start_time": "2022-12-12T08:42:20.145Z"
   },
   {
    "duration": 267898,
    "start_time": "2022-12-12T08:42:20.826Z"
   },
   {
    "duration": 952973,
    "start_time": "2022-12-12T08:46:48.740Z"
   },
   {
    "duration": 1492,
    "start_time": "2022-12-12T09:02:41.714Z"
   },
   {
    "duration": 1840,
    "start_time": "2022-12-12T09:02:43.208Z"
   },
   {
    "duration": 65,
    "start_time": "2022-12-12T09:02:45.049Z"
   },
   {
    "duration": 21,
    "start_time": "2022-12-12T09:02:45.116Z"
   },
   {
    "duration": 1156,
    "start_time": "2022-12-12T09:40:01.814Z"
   },
   {
    "duration": 1443,
    "start_time": "2022-12-12T09:41:06.822Z"
   },
   {
    "duration": 201,
    "start_time": "2022-12-12T10:09:39.664Z"
   },
   {
    "duration": 71,
    "start_time": "2022-12-12T10:09:57.681Z"
   },
   {
    "duration": 615173,
    "start_time": "2022-12-12T10:10:19.650Z"
   },
   {
    "duration": 3949,
    "start_time": "2022-12-12T10:27:57.469Z"
   },
   {
    "duration": 82,
    "start_time": "2022-12-12T10:28:01.421Z"
   },
   {
    "duration": 15,
    "start_time": "2022-12-12T10:28:01.504Z"
   },
   {
    "duration": 52,
    "start_time": "2022-12-12T10:28:01.522Z"
   },
   {
    "duration": 92,
    "start_time": "2022-12-12T10:28:01.575Z"
   },
   {
    "duration": 4,
    "start_time": "2022-12-12T10:28:01.669Z"
   },
   {
    "duration": 27,
    "start_time": "2022-12-12T10:28:01.674Z"
   },
   {
    "duration": 16,
    "start_time": "2022-12-12T10:28:01.703Z"
   },
   {
    "duration": 182,
    "start_time": "2022-12-12T10:28:01.721Z"
   },
   {
    "duration": 8,
    "start_time": "2022-12-12T10:28:01.906Z"
   },
   {
    "duration": 68,
    "start_time": "2022-12-12T10:28:01.916Z"
   },
   {
    "duration": 58,
    "start_time": "2022-12-12T10:28:01.986Z"
   },
   {
    "duration": 4,
    "start_time": "2022-12-12T10:28:02.046Z"
   },
   {
    "duration": 70,
    "start_time": "2022-12-12T10:28:02.051Z"
   },
   {
    "duration": 536,
    "start_time": "2022-12-12T10:28:02.124Z"
   },
   {
    "duration": 14,
    "start_time": "2022-12-12T10:28:02.663Z"
   },
   {
    "duration": 96,
    "start_time": "2022-12-12T10:28:02.678Z"
   },
   {
    "duration": 544,
    "start_time": "2022-12-12T10:28:02.776Z"
   },
   {
    "duration": 158548,
    "start_time": "2022-12-12T10:28:03.321Z"
   },
   {
    "duration": 2,
    "start_time": "2022-12-12T10:30:41.871Z"
   },
   {
    "duration": 650512,
    "start_time": "2022-12-12T10:30:41.875Z"
   },
   {
    "duration": 72,
    "start_time": "2022-12-12T10:41:32.389Z"
   },
   {
    "duration": 516,
    "start_time": "2022-12-12T10:41:32.536Z"
   },
   {
    "duration": 164068,
    "start_time": "2022-12-12T10:41:33.058Z"
   },
   {
    "duration": 79,
    "start_time": "2022-12-12T10:44:17.128Z"
   },
   {
    "duration": 246,
    "start_time": "2022-12-12T10:44:17.209Z"
   },
   {
    "duration": 765,
    "start_time": "2022-12-12T10:44:17.458Z"
   },
   {
    "duration": 263951,
    "start_time": "2022-12-12T10:44:18.226Z"
   },
   {
    "duration": 3638,
    "start_time": "2022-12-12T11:01:16.243Z"
   },
   {
    "duration": 64,
    "start_time": "2022-12-12T11:01:19.883Z"
   },
   {
    "duration": 15,
    "start_time": "2022-12-12T11:01:19.949Z"
   },
   {
    "duration": 31,
    "start_time": "2022-12-12T11:01:19.965Z"
   },
   {
    "duration": 67,
    "start_time": "2022-12-12T11:01:19.998Z"
   },
   {
    "duration": 3,
    "start_time": "2022-12-12T11:01:20.067Z"
   },
   {
    "duration": 26,
    "start_time": "2022-12-12T11:01:20.072Z"
   },
   {
    "duration": 37,
    "start_time": "2022-12-12T11:01:20.100Z"
   },
   {
    "duration": 34,
    "start_time": "2022-12-12T11:01:20.138Z"
   },
   {
    "duration": 146,
    "start_time": "2022-12-12T11:01:20.174Z"
   },
   {
    "duration": 16,
    "start_time": "2022-12-12T11:01:20.322Z"
   },
   {
    "duration": 17,
    "start_time": "2022-12-12T11:01:20.340Z"
   },
   {
    "duration": 50,
    "start_time": "2022-12-12T11:01:20.359Z"
   },
   {
    "duration": 5,
    "start_time": "2022-12-12T11:01:20.413Z"
   },
   {
    "duration": 47,
    "start_time": "2022-12-12T11:01:20.419Z"
   },
   {
    "duration": 442,
    "start_time": "2022-12-12T11:01:20.468Z"
   },
   {
    "duration": 9,
    "start_time": "2022-12-12T11:01:20.912Z"
   },
   {
    "duration": 122,
    "start_time": "2022-12-12T11:01:20.922Z"
   },
   {
    "duration": 536,
    "start_time": "2022-12-12T11:01:21.047Z"
   },
   {
    "duration": 3564,
    "start_time": "2022-12-12T11:02:16.880Z"
   },
   {
    "duration": 76,
    "start_time": "2022-12-12T11:02:20.447Z"
   },
   {
    "duration": 16,
    "start_time": "2022-12-12T11:02:20.525Z"
   },
   {
    "duration": 33,
    "start_time": "2022-12-12T11:02:20.543Z"
   },
   {
    "duration": 65,
    "start_time": "2022-12-12T11:02:20.578Z"
   },
   {
    "duration": 5,
    "start_time": "2022-12-12T11:02:20.645Z"
   },
   {
    "duration": 25,
    "start_time": "2022-12-12T11:02:20.652Z"
   },
   {
    "duration": 27,
    "start_time": "2022-12-12T11:02:20.679Z"
   },
   {
    "duration": 23,
    "start_time": "2022-12-12T11:02:20.707Z"
   },
   {
    "duration": 131,
    "start_time": "2022-12-12T11:02:20.733Z"
   },
   {
    "duration": 9,
    "start_time": "2022-12-12T11:02:20.866Z"
   },
   {
    "duration": 23,
    "start_time": "2022-12-12T11:02:20.876Z"
   },
   {
    "duration": 38,
    "start_time": "2022-12-12T11:02:20.901Z"
   },
   {
    "duration": 3,
    "start_time": "2022-12-12T11:02:20.941Z"
   },
   {
    "duration": 36,
    "start_time": "2022-12-12T11:02:20.945Z"
   },
   {
    "duration": 438,
    "start_time": "2022-12-12T11:02:20.983Z"
   },
   {
    "duration": 13,
    "start_time": "2022-12-12T11:02:21.422Z"
   },
   {
    "duration": 104,
    "start_time": "2022-12-12T11:02:21.437Z"
   },
   {
    "duration": 523,
    "start_time": "2022-12-12T11:02:21.543Z"
   },
   {
    "duration": 3533,
    "start_time": "2022-12-12T11:03:44.268Z"
   },
   {
    "duration": 63,
    "start_time": "2022-12-12T11:03:47.804Z"
   },
   {
    "duration": 17,
    "start_time": "2022-12-12T11:03:47.868Z"
   },
   {
    "duration": 25,
    "start_time": "2022-12-12T11:03:47.887Z"
   },
   {
    "duration": 44,
    "start_time": "2022-12-12T11:03:47.914Z"
   },
   {
    "duration": 3,
    "start_time": "2022-12-12T11:03:47.960Z"
   },
   {
    "duration": 26,
    "start_time": "2022-12-12T11:03:47.965Z"
   },
   {
    "duration": 36,
    "start_time": "2022-12-12T11:03:47.993Z"
   },
   {
    "duration": 145,
    "start_time": "2022-12-12T11:03:48.031Z"
   },
   {
    "duration": 9,
    "start_time": "2022-12-12T11:03:48.179Z"
   },
   {
    "duration": 39,
    "start_time": "2022-12-12T11:03:48.189Z"
   },
   {
    "duration": 50,
    "start_time": "2022-12-12T11:03:48.230Z"
   },
   {
    "duration": 14,
    "start_time": "2022-12-12T11:03:48.281Z"
   },
   {
    "duration": 63,
    "start_time": "2022-12-12T11:03:48.297Z"
   },
   {
    "duration": 440,
    "start_time": "2022-12-12T11:03:48.362Z"
   },
   {
    "duration": 7,
    "start_time": "2022-12-12T11:03:48.804Z"
   },
   {
    "duration": 123,
    "start_time": "2022-12-12T11:03:48.813Z"
   },
   {
    "duration": 466,
    "start_time": "2022-12-12T11:03:48.939Z"
   },
   {
    "duration": 147890,
    "start_time": "2022-12-12T11:03:49.406Z"
   },
   {
    "duration": 4,
    "start_time": "2022-12-12T11:06:17.298Z"
   },
   {
    "duration": 615426,
    "start_time": "2022-12-12T11:06:17.303Z"
   },
   {
    "duration": 106,
    "start_time": "2022-12-12T11:16:32.741Z"
   },
   {
    "duration": 468,
    "start_time": "2022-12-12T11:16:32.849Z"
   },
   {
    "duration": 159068,
    "start_time": "2022-12-12T11:16:33.319Z"
   },
   {
    "duration": 81,
    "start_time": "2022-12-12T11:19:12.390Z"
   },
   {
    "duration": 73,
    "start_time": "2022-12-12T11:19:12.474Z"
   },
   {
    "duration": 730,
    "start_time": "2022-12-12T11:19:12.549Z"
   },
   {
    "duration": 254174,
    "start_time": "2022-12-12T11:19:13.282Z"
   },
   {
    "duration": 4152,
    "start_time": "2022-12-12T11:37:36.662Z"
   },
   {
    "duration": 92,
    "start_time": "2022-12-12T11:37:40.817Z"
   },
   {
    "duration": 26,
    "start_time": "2022-12-12T11:37:40.912Z"
   },
   {
    "duration": 59,
    "start_time": "2022-12-12T11:37:40.943Z"
   },
   {
    "duration": 61,
    "start_time": "2022-12-12T11:37:41.008Z"
   },
   {
    "duration": 8,
    "start_time": "2022-12-12T11:37:41.072Z"
   },
   {
    "duration": 12,
    "start_time": "2022-12-12T11:37:41.083Z"
   },
   {
    "duration": 25,
    "start_time": "2022-12-12T11:37:41.099Z"
   },
   {
    "duration": 158,
    "start_time": "2022-12-12T11:37:41.127Z"
   },
   {
    "duration": 11,
    "start_time": "2022-12-12T11:37:41.286Z"
   },
   {
    "duration": 11,
    "start_time": "2022-12-12T11:37:41.299Z"
   },
   {
    "duration": 58,
    "start_time": "2022-12-12T11:37:41.312Z"
   },
   {
    "duration": 3,
    "start_time": "2022-12-12T11:37:41.372Z"
   },
   {
    "duration": 48,
    "start_time": "2022-12-12T11:37:41.379Z"
   },
   {
    "duration": 575,
    "start_time": "2022-12-12T11:37:41.429Z"
   },
   {
    "duration": 15,
    "start_time": "2022-12-12T11:37:42.010Z"
   },
   {
    "duration": 115,
    "start_time": "2022-12-12T11:37:42.028Z"
   },
   {
    "duration": 540,
    "start_time": "2022-12-12T11:37:42.148Z"
   },
   {
    "duration": 173539,
    "start_time": "2022-12-12T11:37:42.692Z"
   },
   {
    "duration": 4,
    "start_time": "2022-12-12T11:40:36.249Z"
   },
   {
    "duration": 8583,
    "start_time": "2022-12-13T02:04:14.253Z"
   },
   {
    "duration": 0,
    "start_time": "2022-12-13T02:04:22.840Z"
   },
   {
    "duration": 0,
    "start_time": "2022-12-13T02:04:22.841Z"
   },
   {
    "duration": 0,
    "start_time": "2022-12-13T02:04:22.842Z"
   },
   {
    "duration": 0,
    "start_time": "2022-12-13T02:04:22.843Z"
   },
   {
    "duration": 0,
    "start_time": "2022-12-13T02:04:22.844Z"
   },
   {
    "duration": 0,
    "start_time": "2022-12-13T02:04:22.845Z"
   },
   {
    "duration": 0,
    "start_time": "2022-12-13T02:04:22.847Z"
   },
   {
    "duration": 0,
    "start_time": "2022-12-13T02:04:22.848Z"
   },
   {
    "duration": 0,
    "start_time": "2022-12-13T02:04:22.849Z"
   },
   {
    "duration": 0,
    "start_time": "2022-12-13T02:04:22.850Z"
   },
   {
    "duration": 1,
    "start_time": "2022-12-13T02:04:22.851Z"
   },
   {
    "duration": 0,
    "start_time": "2022-12-13T02:04:22.853Z"
   },
   {
    "duration": 0,
    "start_time": "2022-12-13T02:04:22.854Z"
   },
   {
    "duration": 0,
    "start_time": "2022-12-13T02:04:22.855Z"
   },
   {
    "duration": 0,
    "start_time": "2022-12-13T02:04:22.856Z"
   },
   {
    "duration": 0,
    "start_time": "2022-12-13T02:04:22.858Z"
   },
   {
    "duration": 0,
    "start_time": "2022-12-13T02:04:22.859Z"
   },
   {
    "duration": 0,
    "start_time": "2022-12-13T02:04:22.861Z"
   },
   {
    "duration": 0,
    "start_time": "2022-12-13T02:04:22.862Z"
   },
   {
    "duration": 0,
    "start_time": "2022-12-13T02:04:22.863Z"
   },
   {
    "duration": 0,
    "start_time": "2022-12-13T02:04:22.865Z"
   },
   {
    "duration": 0,
    "start_time": "2022-12-13T02:04:22.866Z"
   },
   {
    "duration": 0,
    "start_time": "2022-12-13T02:04:22.868Z"
   },
   {
    "duration": 0,
    "start_time": "2022-12-13T02:04:22.869Z"
   },
   {
    "duration": 0,
    "start_time": "2022-12-13T02:04:22.870Z"
   },
   {
    "duration": 0,
    "start_time": "2022-12-13T02:04:22.873Z"
   },
   {
    "duration": 1,
    "start_time": "2022-12-13T02:04:22.874Z"
   },
   {
    "duration": 0,
    "start_time": "2022-12-13T02:04:22.876Z"
   },
   {
    "duration": 0,
    "start_time": "2022-12-13T02:04:22.936Z"
   },
   {
    "duration": 0,
    "start_time": "2022-12-13T02:04:22.937Z"
   },
   {
    "duration": 0,
    "start_time": "2022-12-13T02:04:22.938Z"
   },
   {
    "duration": 0,
    "start_time": "2022-12-13T02:04:22.940Z"
   },
   {
    "duration": 0,
    "start_time": "2022-12-13T02:04:22.941Z"
   },
   {
    "duration": 0,
    "start_time": "2022-12-13T02:04:22.941Z"
   },
   {
    "duration": 2320,
    "start_time": "2022-12-13T02:09:35.049Z"
   },
   {
    "duration": 2691,
    "start_time": "2022-12-13T02:09:49.700Z"
   },
   {
    "duration": 1274,
    "start_time": "2022-12-13T02:09:52.394Z"
   },
   {
    "duration": 115,
    "start_time": "2022-12-13T02:09:53.670Z"
   },
   {
    "duration": 14,
    "start_time": "2022-12-13T02:09:53.787Z"
   },
   {
    "duration": 25,
    "start_time": "2022-12-13T02:09:53.802Z"
   },
   {
    "duration": 41,
    "start_time": "2022-12-13T02:09:53.829Z"
   },
   {
    "duration": 3,
    "start_time": "2022-12-13T02:09:53.872Z"
   },
   {
    "duration": 13,
    "start_time": "2022-12-13T02:09:53.876Z"
   },
   {
    "duration": 17,
    "start_time": "2022-12-13T02:09:53.891Z"
   },
   {
    "duration": 152,
    "start_time": "2022-12-13T02:09:53.910Z"
   },
   {
    "duration": 8,
    "start_time": "2022-12-13T02:09:54.065Z"
   },
   {
    "duration": 8,
    "start_time": "2022-12-13T02:09:54.075Z"
   },
   {
    "duration": 59,
    "start_time": "2022-12-13T02:09:54.085Z"
   },
   {
    "duration": 2,
    "start_time": "2022-12-13T02:09:54.146Z"
   },
   {
    "duration": 27,
    "start_time": "2022-12-13T02:09:54.149Z"
   },
   {
    "duration": 426,
    "start_time": "2022-12-13T02:09:54.177Z"
   },
   {
    "duration": 6,
    "start_time": "2022-12-13T02:09:54.605Z"
   },
   {
    "duration": 222,
    "start_time": "2022-12-13T02:09:54.613Z"
   },
   {
    "duration": 474,
    "start_time": "2022-12-13T02:09:54.838Z"
   },
   {
    "duration": 144521,
    "start_time": "2022-12-13T02:09:55.314Z"
   },
   {
    "duration": 2,
    "start_time": "2022-12-13T02:12:19.837Z"
   },
   {
    "duration": 571005,
    "start_time": "2022-12-13T02:12:19.841Z"
   },
   {
    "duration": 94,
    "start_time": "2022-12-13T02:21:50.848Z"
   },
   {
    "duration": 537,
    "start_time": "2022-12-13T02:21:50.946Z"
   },
   {
    "duration": 143837,
    "start_time": "2022-12-13T02:21:51.485Z"
   },
   {
    "duration": 50,
    "start_time": "2022-12-13T02:24:15.324Z"
   },
   {
    "duration": 158,
    "start_time": "2022-12-13T02:24:15.376Z"
   },
   {
    "duration": 650,
    "start_time": "2022-12-13T02:24:15.540Z"
   },
   {
    "duration": 225907,
    "start_time": "2022-12-13T02:24:16.192Z"
   },
   {
    "duration": 859134,
    "start_time": "2022-12-13T02:28:02.101Z"
   },
   {
    "duration": 1576,
    "start_time": "2022-12-13T02:42:21.237Z"
   },
   {
    "duration": 1016,
    "start_time": "2022-12-13T02:42:22.815Z"
   },
   {
    "duration": 1957,
    "start_time": "2022-12-13T02:42:23.835Z"
   },
   {
    "duration": 1454,
    "start_time": "2022-12-13T02:42:25.794Z"
   },
   {
    "duration": 68,
    "start_time": "2022-12-13T02:42:27.249Z"
   },
   {
    "duration": 18,
    "start_time": "2022-12-13T02:42:27.319Z"
   },
   {
    "duration": 5944,
    "start_time": "2022-12-13T09:05:22.371Z"
   },
   {
    "duration": 1770,
    "start_time": "2022-12-13T09:05:28.317Z"
   },
   {
    "duration": 0,
    "start_time": "2022-12-13T09:05:30.090Z"
   },
   {
    "duration": 0,
    "start_time": "2022-12-13T09:05:30.091Z"
   },
   {
    "duration": 0,
    "start_time": "2022-12-13T09:05:30.093Z"
   },
   {
    "duration": 0,
    "start_time": "2022-12-13T09:05:30.095Z"
   },
   {
    "duration": 0,
    "start_time": "2022-12-13T09:05:30.098Z"
   },
   {
    "duration": 0,
    "start_time": "2022-12-13T09:05:30.099Z"
   },
   {
    "duration": 0,
    "start_time": "2022-12-13T09:05:30.100Z"
   },
   {
    "duration": 0,
    "start_time": "2022-12-13T09:05:30.101Z"
   },
   {
    "duration": 0,
    "start_time": "2022-12-13T09:05:30.102Z"
   },
   {
    "duration": 0,
    "start_time": "2022-12-13T09:05:30.103Z"
   },
   {
    "duration": 0,
    "start_time": "2022-12-13T09:05:30.104Z"
   },
   {
    "duration": 0,
    "start_time": "2022-12-13T09:05:30.105Z"
   },
   {
    "duration": 0,
    "start_time": "2022-12-13T09:05:30.106Z"
   },
   {
    "duration": 0,
    "start_time": "2022-12-13T09:05:30.108Z"
   },
   {
    "duration": 0,
    "start_time": "2022-12-13T09:05:30.108Z"
   },
   {
    "duration": 0,
    "start_time": "2022-12-13T09:05:30.110Z"
   },
   {
    "duration": 0,
    "start_time": "2022-12-13T09:05:30.111Z"
   },
   {
    "duration": 0,
    "start_time": "2022-12-13T09:05:30.112Z"
   },
   {
    "duration": 0,
    "start_time": "2022-12-13T09:05:30.113Z"
   },
   {
    "duration": 0,
    "start_time": "2022-12-13T09:05:30.114Z"
   },
   {
    "duration": 0,
    "start_time": "2022-12-13T09:05:30.116Z"
   },
   {
    "duration": 0,
    "start_time": "2022-12-13T09:05:30.117Z"
   },
   {
    "duration": 0,
    "start_time": "2022-12-13T09:05:30.118Z"
   },
   {
    "duration": 0,
    "start_time": "2022-12-13T09:05:30.119Z"
   },
   {
    "duration": 0,
    "start_time": "2022-12-13T09:05:30.121Z"
   },
   {
    "duration": 0,
    "start_time": "2022-12-13T09:05:30.122Z"
   },
   {
    "duration": 0,
    "start_time": "2022-12-13T09:05:30.123Z"
   },
   {
    "duration": 0,
    "start_time": "2022-12-13T09:05:30.125Z"
   },
   {
    "duration": 0,
    "start_time": "2022-12-13T09:05:30.179Z"
   },
   {
    "duration": 0,
    "start_time": "2022-12-13T09:05:30.181Z"
   },
   {
    "duration": 0,
    "start_time": "2022-12-13T09:05:30.182Z"
   },
   {
    "duration": 0,
    "start_time": "2022-12-13T09:05:30.184Z"
   },
   {
    "duration": 0,
    "start_time": "2022-12-13T09:05:30.185Z"
   },
   {
    "duration": 2219,
    "start_time": "2022-12-13T09:06:47.982Z"
   },
   {
    "duration": 2238,
    "start_time": "2022-12-13T09:07:20.104Z"
   },
   {
    "duration": 3326,
    "start_time": "2022-12-13T09:07:22.344Z"
   },
   {
    "duration": 208,
    "start_time": "2022-12-13T09:07:25.672Z"
   },
   {
    "duration": 15,
    "start_time": "2022-12-13T09:07:25.882Z"
   },
   {
    "duration": 47,
    "start_time": "2022-12-13T09:07:25.899Z"
   },
   {
    "duration": 54,
    "start_time": "2022-12-13T09:07:25.948Z"
   },
   {
    "duration": 3,
    "start_time": "2022-12-13T09:07:26.004Z"
   },
   {
    "duration": 23,
    "start_time": "2022-12-13T09:07:26.009Z"
   },
   {
    "duration": 41,
    "start_time": "2022-12-13T09:07:26.034Z"
   },
   {
    "duration": 177,
    "start_time": "2022-12-13T09:07:26.078Z"
   },
   {
    "duration": 8,
    "start_time": "2022-12-13T09:07:26.257Z"
   },
   {
    "duration": 11,
    "start_time": "2022-12-13T09:07:26.267Z"
   },
   {
    "duration": 36,
    "start_time": "2022-12-13T09:07:26.280Z"
   },
   {
    "duration": 153,
    "start_time": "2022-12-13T09:07:26.318Z"
   },
   {
    "duration": 0,
    "start_time": "2022-12-13T09:07:26.474Z"
   },
   {
    "duration": 0,
    "start_time": "2022-12-13T09:07:26.477Z"
   },
   {
    "duration": 0,
    "start_time": "2022-12-13T09:07:26.479Z"
   },
   {
    "duration": 0,
    "start_time": "2022-12-13T09:07:26.480Z"
   },
   {
    "duration": 0,
    "start_time": "2022-12-13T09:07:26.481Z"
   },
   {
    "duration": 0,
    "start_time": "2022-12-13T09:07:26.483Z"
   },
   {
    "duration": 0,
    "start_time": "2022-12-13T09:07:26.484Z"
   },
   {
    "duration": 0,
    "start_time": "2022-12-13T09:07:26.486Z"
   },
   {
    "duration": 0,
    "start_time": "2022-12-13T09:07:26.488Z"
   },
   {
    "duration": 0,
    "start_time": "2022-12-13T09:07:26.490Z"
   },
   {
    "duration": 0,
    "start_time": "2022-12-13T09:07:26.491Z"
   },
   {
    "duration": 0,
    "start_time": "2022-12-13T09:07:26.492Z"
   },
   {
    "duration": 0,
    "start_time": "2022-12-13T09:07:26.494Z"
   },
   {
    "duration": 0,
    "start_time": "2022-12-13T09:07:26.495Z"
   },
   {
    "duration": 0,
    "start_time": "2022-12-13T09:07:26.498Z"
   },
   {
    "duration": 0,
    "start_time": "2022-12-13T09:07:26.499Z"
   },
   {
    "duration": 0,
    "start_time": "2022-12-13T09:07:26.500Z"
   },
   {
    "duration": 0,
    "start_time": "2022-12-13T09:07:26.502Z"
   },
   {
    "duration": 0,
    "start_time": "2022-12-13T09:07:26.504Z"
   },
   {
    "duration": 0,
    "start_time": "2022-12-13T09:07:26.505Z"
   },
   {
    "duration": 0,
    "start_time": "2022-12-13T09:07:26.507Z"
   },
   {
    "duration": 2289,
    "start_time": "2022-12-13T09:08:55.774Z"
   },
   {
    "duration": 3274,
    "start_time": "2022-12-13T09:08:58.066Z"
   },
   {
    "duration": 86,
    "start_time": "2022-12-13T09:09:01.342Z"
   },
   {
    "duration": 19,
    "start_time": "2022-12-13T09:09:01.431Z"
   },
   {
    "duration": 61,
    "start_time": "2022-12-13T09:09:01.451Z"
   },
   {
    "duration": 60,
    "start_time": "2022-12-13T09:09:01.514Z"
   },
   {
    "duration": 11,
    "start_time": "2022-12-13T09:09:01.575Z"
   },
   {
    "duration": 49,
    "start_time": "2022-12-13T09:09:01.588Z"
   },
   {
    "duration": 17,
    "start_time": "2022-12-13T09:09:01.639Z"
   },
   {
    "duration": 135,
    "start_time": "2022-12-13T09:09:01.658Z"
   },
   {
    "duration": 10,
    "start_time": "2022-12-13T09:09:01.795Z"
   },
   {
    "duration": 18,
    "start_time": "2022-12-13T09:09:01.807Z"
   },
   {
    "duration": 42,
    "start_time": "2022-12-13T09:09:01.827Z"
   },
   {
    "duration": 16,
    "start_time": "2022-12-13T09:09:01.872Z"
   },
   {
    "duration": 22,
    "start_time": "2022-12-13T09:09:01.890Z"
   },
   {
    "duration": 141,
    "start_time": "2022-12-13T09:09:01.914Z"
   },
   {
    "duration": 0,
    "start_time": "2022-12-13T09:09:02.057Z"
   },
   {
    "duration": 0,
    "start_time": "2022-12-13T09:09:02.058Z"
   },
   {
    "duration": 0,
    "start_time": "2022-12-13T09:09:02.059Z"
   },
   {
    "duration": 0,
    "start_time": "2022-12-13T09:09:02.061Z"
   },
   {
    "duration": 0,
    "start_time": "2022-12-13T09:09:02.062Z"
   },
   {
    "duration": 0,
    "start_time": "2022-12-13T09:09:02.063Z"
   },
   {
    "duration": 0,
    "start_time": "2022-12-13T09:09:02.078Z"
   },
   {
    "duration": 0,
    "start_time": "2022-12-13T09:09:02.079Z"
   },
   {
    "duration": 0,
    "start_time": "2022-12-13T09:09:02.080Z"
   },
   {
    "duration": 0,
    "start_time": "2022-12-13T09:09:02.081Z"
   },
   {
    "duration": 0,
    "start_time": "2022-12-13T09:09:02.083Z"
   },
   {
    "duration": 0,
    "start_time": "2022-12-13T09:09:02.084Z"
   },
   {
    "duration": 0,
    "start_time": "2022-12-13T09:09:02.085Z"
   },
   {
    "duration": 0,
    "start_time": "2022-12-13T09:09:02.087Z"
   },
   {
    "duration": 0,
    "start_time": "2022-12-13T09:09:02.088Z"
   },
   {
    "duration": 0,
    "start_time": "2022-12-13T09:09:02.089Z"
   },
   {
    "duration": 0,
    "start_time": "2022-12-13T09:09:02.090Z"
   },
   {
    "duration": 0,
    "start_time": "2022-12-13T09:09:02.092Z"
   },
   {
    "duration": 0,
    "start_time": "2022-12-13T09:09:02.094Z"
   },
   {
    "duration": 12,
    "start_time": "2022-12-13T09:10:22.729Z"
   },
   {
    "duration": 16,
    "start_time": "2022-12-13T09:20:15.543Z"
   },
   {
    "duration": 15,
    "start_time": "2022-12-13T09:21:44.419Z"
   },
   {
    "duration": 12,
    "start_time": "2022-12-13T09:33:46.100Z"
   },
   {
    "duration": 10,
    "start_time": "2022-12-13T09:33:49.040Z"
   },
   {
    "duration": 9,
    "start_time": "2022-12-13T09:33:53.877Z"
   },
   {
    "duration": 19,
    "start_time": "2022-12-13T09:34:53.271Z"
   },
   {
    "duration": 14,
    "start_time": "2022-12-13T09:35:32.961Z"
   },
   {
    "duration": 8,
    "start_time": "2022-12-13T09:36:14.229Z"
   },
   {
    "duration": 11,
    "start_time": "2022-12-13T09:36:16.879Z"
   },
   {
    "duration": 377,
    "start_time": "2022-12-13T09:36:21.858Z"
   },
   {
    "duration": 2467,
    "start_time": "2022-12-13T09:36:30.971Z"
   },
   {
    "duration": 3239,
    "start_time": "2022-12-13T09:36:33.441Z"
   },
   {
    "duration": 90,
    "start_time": "2022-12-13T09:36:36.683Z"
   },
   {
    "duration": 13,
    "start_time": "2022-12-13T09:36:36.775Z"
   },
   {
    "duration": 25,
    "start_time": "2022-12-13T09:36:36.790Z"
   },
   {
    "duration": 40,
    "start_time": "2022-12-13T09:36:36.817Z"
   },
   {
    "duration": 3,
    "start_time": "2022-12-13T09:36:36.859Z"
   },
   {
    "duration": 18,
    "start_time": "2022-12-13T09:36:36.863Z"
   },
   {
    "duration": 34,
    "start_time": "2022-12-13T09:36:36.883Z"
   },
   {
    "duration": 160,
    "start_time": "2022-12-13T09:36:36.920Z"
   },
   {
    "duration": 8,
    "start_time": "2022-12-13T09:36:37.082Z"
   },
   {
    "duration": 10,
    "start_time": "2022-12-13T09:36:37.092Z"
   },
   {
    "duration": 48,
    "start_time": "2022-12-13T09:36:37.104Z"
   },
   {
    "duration": 117,
    "start_time": "2022-12-13T09:36:37.154Z"
   },
   {
    "duration": 0,
    "start_time": "2022-12-13T09:36:37.278Z"
   },
   {
    "duration": 0,
    "start_time": "2022-12-13T09:36:37.279Z"
   },
   {
    "duration": 0,
    "start_time": "2022-12-13T09:36:37.280Z"
   },
   {
    "duration": 0,
    "start_time": "2022-12-13T09:36:37.281Z"
   },
   {
    "duration": 0,
    "start_time": "2022-12-13T09:36:37.282Z"
   },
   {
    "duration": 1,
    "start_time": "2022-12-13T09:36:37.283Z"
   },
   {
    "duration": 0,
    "start_time": "2022-12-13T09:36:37.285Z"
   },
   {
    "duration": 0,
    "start_time": "2022-12-13T09:36:37.286Z"
   },
   {
    "duration": 0,
    "start_time": "2022-12-13T09:36:37.287Z"
   },
   {
    "duration": 0,
    "start_time": "2022-12-13T09:36:37.288Z"
   },
   {
    "duration": 0,
    "start_time": "2022-12-13T09:36:37.289Z"
   },
   {
    "duration": 0,
    "start_time": "2022-12-13T09:36:37.290Z"
   },
   {
    "duration": 0,
    "start_time": "2022-12-13T09:36:37.292Z"
   },
   {
    "duration": 0,
    "start_time": "2022-12-13T09:36:37.293Z"
   },
   {
    "duration": 0,
    "start_time": "2022-12-13T09:36:37.294Z"
   },
   {
    "duration": 0,
    "start_time": "2022-12-13T09:36:37.295Z"
   },
   {
    "duration": 0,
    "start_time": "2022-12-13T09:36:37.297Z"
   },
   {
    "duration": 0,
    "start_time": "2022-12-13T09:36:37.299Z"
   },
   {
    "duration": 0,
    "start_time": "2022-12-13T09:36:37.300Z"
   },
   {
    "duration": 0,
    "start_time": "2022-12-13T09:36:37.301Z"
   },
   {
    "duration": 0,
    "start_time": "2022-12-13T09:36:37.302Z"
   },
   {
    "duration": 0,
    "start_time": "2022-12-13T09:36:37.304Z"
   },
   {
    "duration": 0,
    "start_time": "2022-12-13T09:36:37.305Z"
   },
   {
    "duration": 2081,
    "start_time": "2022-12-13T09:37:34.859Z"
   },
   {
    "duration": 3249,
    "start_time": "2022-12-13T09:37:36.943Z"
   },
   {
    "duration": 75,
    "start_time": "2022-12-13T09:37:40.193Z"
   },
   {
    "duration": 15,
    "start_time": "2022-12-13T09:37:40.270Z"
   },
   {
    "duration": 25,
    "start_time": "2022-12-13T09:37:40.286Z"
   },
   {
    "duration": 46,
    "start_time": "2022-12-13T09:37:40.313Z"
   },
   {
    "duration": 2,
    "start_time": "2022-12-13T09:37:40.361Z"
   },
   {
    "duration": 26,
    "start_time": "2022-12-13T09:37:40.365Z"
   },
   {
    "duration": 25,
    "start_time": "2022-12-13T09:37:40.393Z"
   },
   {
    "duration": 131,
    "start_time": "2022-12-13T09:37:40.421Z"
   },
   {
    "duration": 8,
    "start_time": "2022-12-13T09:37:40.553Z"
   },
   {
    "duration": 29,
    "start_time": "2022-12-13T09:37:40.562Z"
   },
   {
    "duration": 42,
    "start_time": "2022-12-13T09:37:40.593Z"
   },
   {
    "duration": 20,
    "start_time": "2022-12-13T09:37:40.636Z"
   },
   {
    "duration": 8,
    "start_time": "2022-12-13T09:37:40.658Z"
   },
   {
    "duration": 28,
    "start_time": "2022-12-13T09:37:40.668Z"
   },
   {
    "duration": 411,
    "start_time": "2022-12-13T09:37:40.698Z"
   },
   {
    "duration": 70,
    "start_time": "2022-12-13T09:37:41.111Z"
   },
   {
    "duration": 416,
    "start_time": "2022-12-13T09:37:41.183Z"
   },
   {
    "duration": 138945,
    "start_time": "2022-12-13T09:37:41.601Z"
   },
   {
    "duration": 3,
    "start_time": "2022-12-13T09:40:00.548Z"
   },
   {
    "duration": 565620,
    "start_time": "2022-12-13T09:40:00.552Z"
   },
   {
    "duration": 29,
    "start_time": "2022-12-13T09:49:26.173Z"
   },
   {
    "duration": 422,
    "start_time": "2022-12-13T09:49:26.279Z"
   },
   {
    "duration": 140755,
    "start_time": "2022-12-13T09:49:26.703Z"
   },
   {
    "duration": 42,
    "start_time": "2022-12-13T09:51:47.460Z"
   },
   {
    "duration": 74,
    "start_time": "2022-12-13T09:51:47.504Z"
   },
   {
    "duration": 565,
    "start_time": "2022-12-13T09:51:47.582Z"
   },
   {
    "duration": 211057,
    "start_time": "2022-12-13T09:51:48.149Z"
   },
   {
    "duration": 1054976,
    "start_time": "2022-12-13T09:55:19.208Z"
   },
   {
    "duration": 1374,
    "start_time": "2022-12-13T10:12:54.185Z"
   },
   {
    "duration": 969,
    "start_time": "2022-12-13T10:12:55.561Z"
   },
   {
    "duration": 122,
    "start_time": "2022-12-13T10:12:56.532Z"
   },
   {
    "duration": 0,
    "start_time": "2022-12-13T10:12:56.656Z"
   },
   {
    "duration": 0,
    "start_time": "2022-12-13T10:12:56.657Z"
   },
   {
    "duration": 0,
    "start_time": "2022-12-13T10:12:56.659Z"
   },
   {
    "duration": 1074,
    "start_time": "2022-12-13T10:16:30.190Z"
   },
   {
    "duration": 1425,
    "start_time": "2022-12-13T10:17:24.379Z"
   },
   {
    "duration": 1617,
    "start_time": "2022-12-13T10:18:22.364Z"
   },
   {
    "duration": 1114,
    "start_time": "2022-12-13T10:18:26.453Z"
   },
   {
    "duration": 2255,
    "start_time": "2022-12-13T10:18:51.298Z"
   },
   {
    "duration": 989,
    "start_time": "2022-12-13T10:19:14.876Z"
   },
   {
    "duration": 1191,
    "start_time": "2022-12-13T10:19:28.639Z"
   },
   {
    "duration": 2712,
    "start_time": "2022-12-13T10:19:32.741Z"
   },
   {
    "duration": 1374,
    "start_time": "2022-12-13T10:19:59.416Z"
   },
   {
    "duration": 1552,
    "start_time": "2022-12-13T10:20:02.397Z"
   },
   {
    "duration": 1281,
    "start_time": "2022-12-13T10:20:23.695Z"
   },
   {
    "duration": 1654,
    "start_time": "2022-12-13T10:20:29.991Z"
   },
   {
    "duration": 2302,
    "start_time": "2022-12-13T10:20:58.583Z"
   },
   {
    "duration": 2778,
    "start_time": "2022-12-13T10:21:03.807Z"
   },
   {
    "duration": 947,
    "start_time": "2022-12-13T10:21:16.670Z"
   },
   {
    "duration": 1066,
    "start_time": "2022-12-13T10:21:20.671Z"
   },
   {
    "duration": 1260,
    "start_time": "2022-12-13T10:21:34.223Z"
   },
   {
    "duration": 1468,
    "start_time": "2022-12-13T10:21:39.199Z"
   },
   {
    "duration": 2180,
    "start_time": "2022-12-13T10:22:34.920Z"
   },
   {
    "duration": 3192,
    "start_time": "2022-12-13T10:22:37.102Z"
   },
   {
    "duration": 72,
    "start_time": "2022-12-13T10:22:40.296Z"
   },
   {
    "duration": 13,
    "start_time": "2022-12-13T10:22:40.370Z"
   },
   {
    "duration": 16,
    "start_time": "2022-12-13T10:22:40.384Z"
   },
   {
    "duration": 36,
    "start_time": "2022-12-13T10:22:40.402Z"
   },
   {
    "duration": 3,
    "start_time": "2022-12-13T10:22:40.440Z"
   },
   {
    "duration": 7,
    "start_time": "2022-12-13T10:22:40.444Z"
   },
   {
    "duration": 27,
    "start_time": "2022-12-13T10:22:40.453Z"
   },
   {
    "duration": 122,
    "start_time": "2022-12-13T10:22:40.482Z"
   },
   {
    "duration": 8,
    "start_time": "2022-12-13T10:22:40.606Z"
   },
   {
    "duration": 53,
    "start_time": "2022-12-13T10:22:40.615Z"
   },
   {
    "duration": 79,
    "start_time": "2022-12-13T10:22:40.670Z"
   },
   {
    "duration": 49,
    "start_time": "2022-12-13T10:22:40.751Z"
   },
   {
    "duration": 53,
    "start_time": "2022-12-13T10:22:40.801Z"
   },
   {
    "duration": 401,
    "start_time": "2022-12-13T10:22:40.856Z"
   },
   {
    "duration": 32,
    "start_time": "2022-12-13T10:22:41.259Z"
   },
   {
    "duration": 479,
    "start_time": "2022-12-13T10:22:41.293Z"
   },
   {
    "duration": 135257,
    "start_time": "2022-12-13T10:22:41.774Z"
   },
   {
    "duration": 545829,
    "start_time": "2022-12-13T10:24:57.033Z"
   },
   {
    "duration": 31,
    "start_time": "2022-12-13T10:34:02.864Z"
   },
   {
    "duration": 426,
    "start_time": "2022-12-13T10:34:02.978Z"
   },
   {
    "duration": 140126,
    "start_time": "2022-12-13T10:34:03.406Z"
   },
   {
    "duration": 44,
    "start_time": "2022-12-13T10:36:23.534Z"
   },
   {
    "duration": 30,
    "start_time": "2022-12-13T10:36:23.580Z"
   },
   {
    "duration": 583,
    "start_time": "2022-12-13T10:36:23.678Z"
   },
   {
    "duration": 216272,
    "start_time": "2022-12-13T10:36:24.263Z"
   },
   {
    "duration": 1078174,
    "start_time": "2022-12-13T10:40:00.538Z"
   },
   {
    "duration": 991,
    "start_time": "2022-12-13T10:57:58.713Z"
   },
   {
    "duration": 1293,
    "start_time": "2022-12-13T10:57:59.705Z"
   },
   {
    "duration": 1223,
    "start_time": "2022-12-13T10:58:01.000Z"
   },
   {
    "duration": 1567,
    "start_time": "2022-12-13T10:58:02.224Z"
   },
   {
    "duration": 48,
    "start_time": "2022-12-13T10:58:03.793Z"
   },
   {
    "duration": 6,
    "start_time": "2022-12-13T10:58:03.843Z"
   },
   {
    "duration": 2315,
    "start_time": "2022-12-13T11:04:15.875Z"
   },
   {
    "duration": 3000,
    "start_time": "2022-12-13T11:04:28.820Z"
   },
   {
    "duration": 1334,
    "start_time": "2022-12-13T11:04:39.029Z"
   },
   {
    "duration": 1530,
    "start_time": "2022-12-13T11:04:43.660Z"
   },
   {
    "duration": 5844,
    "start_time": "2022-12-13T17:02:29.938Z"
   },
   {
    "duration": 3845,
    "start_time": "2022-12-13T17:02:35.784Z"
   },
   {
    "duration": 0,
    "start_time": "2022-12-13T17:02:39.632Z"
   },
   {
    "duration": 0,
    "start_time": "2022-12-13T17:02:39.633Z"
   },
   {
    "duration": 0,
    "start_time": "2022-12-13T17:02:39.634Z"
   },
   {
    "duration": 0,
    "start_time": "2022-12-13T17:02:39.635Z"
   },
   {
    "duration": 0,
    "start_time": "2022-12-13T17:02:39.637Z"
   },
   {
    "duration": 0,
    "start_time": "2022-12-13T17:02:39.638Z"
   },
   {
    "duration": 0,
    "start_time": "2022-12-13T17:02:39.639Z"
   },
   {
    "duration": 0,
    "start_time": "2022-12-13T17:02:39.640Z"
   },
   {
    "duration": 0,
    "start_time": "2022-12-13T17:02:39.641Z"
   },
   {
    "duration": 0,
    "start_time": "2022-12-13T17:02:39.642Z"
   },
   {
    "duration": 0,
    "start_time": "2022-12-13T17:02:39.643Z"
   },
   {
    "duration": 0,
    "start_time": "2022-12-13T17:02:39.644Z"
   },
   {
    "duration": 0,
    "start_time": "2022-12-13T17:02:39.645Z"
   },
   {
    "duration": 0,
    "start_time": "2022-12-13T17:02:39.646Z"
   },
   {
    "duration": 0,
    "start_time": "2022-12-13T17:02:39.647Z"
   },
   {
    "duration": 0,
    "start_time": "2022-12-13T17:02:39.648Z"
   },
   {
    "duration": 0,
    "start_time": "2022-12-13T17:02:39.649Z"
   },
   {
    "duration": 0,
    "start_time": "2022-12-13T17:02:39.650Z"
   },
   {
    "duration": 0,
    "start_time": "2022-12-13T17:02:39.678Z"
   },
   {
    "duration": 0,
    "start_time": "2022-12-13T17:02:39.679Z"
   },
   {
    "duration": 0,
    "start_time": "2022-12-13T17:02:39.680Z"
   },
   {
    "duration": 0,
    "start_time": "2022-12-13T17:02:39.681Z"
   },
   {
    "duration": 0,
    "start_time": "2022-12-13T17:02:39.682Z"
   },
   {
    "duration": 0,
    "start_time": "2022-12-13T17:02:39.684Z"
   },
   {
    "duration": 0,
    "start_time": "2022-12-13T17:02:39.684Z"
   },
   {
    "duration": 0,
    "start_time": "2022-12-13T17:02:39.685Z"
   },
   {
    "duration": 0,
    "start_time": "2022-12-13T17:02:39.687Z"
   },
   {
    "duration": 0,
    "start_time": "2022-12-13T17:02:39.687Z"
   },
   {
    "duration": 0,
    "start_time": "2022-12-13T17:02:39.688Z"
   },
   {
    "duration": 0,
    "start_time": "2022-12-13T17:02:39.689Z"
   },
   {
    "duration": 0,
    "start_time": "2022-12-13T17:02:39.690Z"
   },
   {
    "duration": 0,
    "start_time": "2022-12-13T17:02:39.692Z"
   },
   {
    "duration": 7229,
    "start_time": "2022-12-14T03:07:22.048Z"
   },
   {
    "duration": 2871,
    "start_time": "2022-12-14T03:07:36.644Z"
   },
   {
    "duration": 4963,
    "start_time": "2022-12-14T03:07:39.518Z"
   },
   {
    "duration": 228,
    "start_time": "2022-12-14T03:07:44.486Z"
   },
   {
    "duration": 17,
    "start_time": "2022-12-14T03:07:44.717Z"
   },
   {
    "duration": 33,
    "start_time": "2022-12-14T03:07:44.736Z"
   },
   {
    "duration": 57,
    "start_time": "2022-12-14T03:07:44.771Z"
   },
   {
    "duration": 4,
    "start_time": "2022-12-14T03:07:44.830Z"
   },
   {
    "duration": 23,
    "start_time": "2022-12-14T03:07:44.836Z"
   },
   {
    "duration": 13,
    "start_time": "2022-12-14T03:07:44.868Z"
   },
   {
    "duration": 218,
    "start_time": "2022-12-14T03:07:44.884Z"
   },
   {
    "duration": 10,
    "start_time": "2022-12-14T03:07:45.104Z"
   },
   {
    "duration": 18,
    "start_time": "2022-12-14T03:07:45.117Z"
   },
   {
    "duration": 73,
    "start_time": "2022-12-14T03:07:45.137Z"
   },
   {
    "duration": 28,
    "start_time": "2022-12-14T03:07:45.213Z"
   },
   {
    "duration": 24,
    "start_time": "2022-12-14T03:07:45.243Z"
   },
   {
    "duration": 520,
    "start_time": "2022-12-14T03:07:45.269Z"
   },
   {
    "duration": 88,
    "start_time": "2022-12-14T03:07:45.792Z"
   },
   {
    "duration": 542,
    "start_time": "2022-12-14T03:07:45.882Z"
   },
   {
    "duration": 3922,
    "start_time": "2022-12-14T03:08:36.511Z"
   },
   {
    "duration": 95,
    "start_time": "2022-12-14T03:08:45.500Z"
   },
   {
    "duration": 15,
    "start_time": "2022-12-14T03:08:45.597Z"
   },
   {
    "duration": 18,
    "start_time": "2022-12-14T03:08:45.613Z"
   },
   {
    "duration": 60,
    "start_time": "2022-12-14T03:08:45.633Z"
   },
   {
    "duration": 3,
    "start_time": "2022-12-14T03:08:45.695Z"
   },
   {
    "duration": 8,
    "start_time": "2022-12-14T03:08:45.700Z"
   },
   {
    "duration": 8,
    "start_time": "2022-12-14T03:08:45.710Z"
   },
   {
    "duration": 157,
    "start_time": "2022-12-14T03:08:45.719Z"
   },
   {
    "duration": 8,
    "start_time": "2022-12-14T03:08:45.878Z"
   },
   {
    "duration": 4,
    "start_time": "2022-12-14T03:08:45.889Z"
   },
   {
    "duration": 30,
    "start_time": "2022-12-14T03:08:45.894Z"
   },
   {
    "duration": 40,
    "start_time": "2022-12-14T03:08:45.926Z"
   },
   {
    "duration": 11,
    "start_time": "2022-12-14T03:08:45.969Z"
   },
   {
    "duration": 523,
    "start_time": "2022-12-14T03:08:45.982Z"
   },
   {
    "duration": 153,
    "start_time": "2022-12-14T03:08:46.506Z"
   },
   {
    "duration": 465,
    "start_time": "2022-12-14T03:08:46.661Z"
   },
   {
    "duration": 168945,
    "start_time": "2022-12-14T03:08:47.128Z"
   },
   {
    "duration": 662129,
    "start_time": "2022-12-14T03:11:36.076Z"
   },
   {
    "duration": 155,
    "start_time": "2022-12-14T03:22:38.207Z"
   },
   {
    "duration": 460,
    "start_time": "2022-12-14T03:22:38.369Z"
   },
   {
    "duration": 162160,
    "start_time": "2022-12-14T03:22:38.831Z"
   },
   {
    "duration": 36,
    "start_time": "2022-12-14T03:25:20.992Z"
   },
   {
    "duration": 122,
    "start_time": "2022-12-14T03:25:21.029Z"
   },
   {
    "duration": 612,
    "start_time": "2022-12-14T03:25:21.153Z"
   },
   {
    "duration": 248513,
    "start_time": "2022-12-14T03:25:21.768Z"
   },
   {
    "duration": 1569065,
    "start_time": "2022-12-14T03:29:30.283Z"
   },
   {
    "duration": 1231,
    "start_time": "2022-12-14T03:55:39.351Z"
   },
   {
    "duration": 1506,
    "start_time": "2022-12-14T03:55:40.586Z"
   },
   {
    "duration": 1268,
    "start_time": "2022-12-14T03:55:42.094Z"
   },
   {
    "duration": 1704,
    "start_time": "2022-12-14T03:55:43.364Z"
   },
   {
    "duration": 53,
    "start_time": "2022-12-14T03:55:45.070Z"
   },
   {
    "duration": 27,
    "start_time": "2022-12-14T03:55:45.124Z"
   }
  ],
  "kernelspec": {
   "display_name": "Python 3 (ipykernel)",
   "language": "python",
   "name": "python3"
  },
  "language_info": {
   "codemirror_mode": {
    "name": "ipython",
    "version": 3
   },
   "file_extension": ".py",
   "mimetype": "text/x-python",
   "name": "python",
   "nbconvert_exporter": "python",
   "pygments_lexer": "ipython3",
   "version": "3.9.13"
  },
  "toc": {
   "base_numbering": 1,
   "nav_menu": {},
   "number_sections": true,
   "sideBar": true,
   "skip_h1_title": true,
   "title_cell": "Содержание",
   "title_sidebar": "Contents",
   "toc_cell": true,
   "toc_position": {
    "height": "calc(100% - 180px)",
    "left": "10px",
    "top": "150px",
    "width": "165px"
   },
   "toc_section_display": true,
   "toc_window_display": true
  }
 },
 "nbformat": 4,
 "nbformat_minor": 2
}
